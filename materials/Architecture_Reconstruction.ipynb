{
 "cells": [
  {
   "cell_type": "markdown",
   "metadata": {
    "nbpresent": {
     "id": "e0f099c3-3b59-45f2-96ac-993b6f2e3795"
    }
   },
   "source": [
    "# Architecture Reconstruction \n",
    "\n",
    "The process of obtaining a (partially) documented architecture for an existing system\n",
    "\n",
    "__ \n",
    "\n",
    "Synomym: Architecture Recovery\n",
    "\n",
    "Acronym: AR"
   ]
  },
  {
   "cell_type": "markdown",
   "metadata": {
    "nbpresent": {
     "id": "346f9811-a162-4f7a-9092-5ef4e6c922cb"
    }
   },
   "source": [
    "## Motivation\n",
    "\n",
    "- Many tasks in SE need architectural documentation\n",
    "- Very often architectural documentation is\n",
    " - missing \n",
    " - obsolete"
   ]
  },
  {
   "cell_type": "markdown",
   "metadata": {
    "nbpresent": {
     "id": "9adc346c-fb2f-4ee0-bb97-59297bb0ad9b"
    }
   },
   "source": [
    "## Many Tasks Need Architectural Descriptions\n",
    "\n",
    "- Coding \n",
    "- Joining a new codebase\n",
    " - most of the times, we don't start from scratch\n",
    "  - note: junior software engineers find expert info as the most useful\n",
    "- Inheriting an existing code base\n",
    " - there is no expert\n",
    " \n",
    "- Refactoring the system\n",
    "- Extending the system in alignment with the existing architecture\n",
    "- Updating / Upgrading dependencies\n",
    "- Deploying the code\n",
    "- Risk assessment for security\n",
    "- Architectural Evaluation\n"
   ]
  },
  {
   "cell_type": "markdown",
   "metadata": {
    "nbpresent": {
     "id": "66f6a157-eda8-4652-8e25-b200ff53061a"
    }
   },
   "source": [
    "## Architectural Documentation Is Often Missing\n",
    "\n",
    "\n",
    "- have you seen architectural documentation for every system?\n",
    "\n",
    "- why is it missing? \n",
    " - business secrecy? probably no (e.g. google's ranking algorithms is not exactly architecture)\n",
    " - processes do not encourage it\n",
    " - less exciting than writing the code\n",
    " - it does not seem / it is not necessary at the begining \n",
    "  - often systems start without it\n",
    " - the client does not see the value\n",
    " - startups might just want a prototype first\n",
    "  - MMM: but don't throw it; instead improve it\n",
    "  \n"
   ]
  },
  {
   "cell_type": "markdown",
   "metadata": {
    "nbpresent": {
     "id": "98b543c9-826b-4b3e-a826-a857c4950826"
    }
   },
   "source": [
    "## Architectural Documentation Is Often Obsolete\n",
    "\n",
    "- why does documentation become obsolete? \n",
    " - it's hard to maintain\n",
    " - link (traceability ) between architecture and code is often not obvious\n",
    " - no perceived value for the customer\n",
    " - because people make changes that are not aligned\n",
    "   - possible solution: enforcing architectural constraints \n",
    "     - special DSL for architecture constraints definition\n",
    "     - implemented as Unit Tests \n",
    "        - todo: study on efficiency of such tools\n",
    " \n",
    " \n",
    " e.g. possible scenario of dev not being aware of architecture\n",
    " ![](images/adjacent_connector_.png)"
   ]
  },
  {
   "cell_type": "markdown",
   "metadata": {
    "nbpresent": {
     "id": "12265de9-f1a2-4460-9442-7e0bc5a8ac2f"
    }
   },
   "source": [
    "## How? \n",
    "\n",
    "- **Symphony**\n",
    "- **Extract-Abstract-View**\n",
    "- Learn from Reengineering"
   ]
  },
  {
   "cell_type": "markdown",
   "metadata": {
    "nbpresent": {
     "id": "c18ad8cc-34b4-4daf-9179-e87ff9ce7c45"
    }
   },
   "source": [
    "## Symphony: A Process for Reconstruction\n",
    "\n",
    "- By Nokia et al.\n",
    "- Recovers views and viewpoints as in IEE 1471 / 3+1\n",
    "\n",
    "\n",
    "- Distinguishes between:\n",
    "    - Source Views\n",
    "     - view extracted from artifacts of a sytem\n",
    "     - not necessarily architectural (e.g. AST)\n",
    "    - Target View \n",
    "     - describes architecture-as-implemented\n",
    "     - any of the 3+1 views\n",
    "       - or ... some kind of live-updating doc/visualisation\n",
    "    - Hypothetical View\n",
    "     - As designed\n",
    "     - Existing Documentation\n",
    "     - Presentations\n",
    "       - TODO: add link  to the Reflection Models case study\n"
   ]
  },
  {
   "cell_type": "markdown",
   "metadata": {
    "nbpresent": {
     "id": "153ce2b3-0f79-40f5-b30c-6880310eb713"
    }
   },
   "source": [
    "## Symphony Stages: Design (blue) & Execution (yellow)\n",
    "\n",
    "![sympony](images/symphony.png)"
   ]
  },
  {
   "cell_type": "markdown",
   "metadata": {
    "nbpresent": {
     "id": "aa8de013-6d61-4143-b569-ec0d48d819ea"
    }
   },
   "source": [
    "## Symphony: Design\n",
    "\n",
    "Problem elicitation\n",
    "- “Business case” for reconstruction\n",
    "- What is the problem? \n",
    "\n",
    "Concept determination\n",
    "- What architectural information is needed to solve the problem?\n",
    "- Which viewpoints are relevant?\n"
   ]
  },
  {
   "cell_type": "markdown",
   "metadata": {
    "nbpresent": {
     "id": "e58ec226-7e38-48fe-836f-441dab573240"
    }
   },
   "source": [
    "## Symphony: Execution\n",
    "\n",
    "Data gathering\n",
    " - collecting and extracting low-level source views\n",
    " - can involve a multitude of sources\n",
    " \n",
    " \n",
    "Knowledge inference\n",
    " - going from source to target views\n",
    " - abstracting low-level information\n",
    " \n",
    " \n",
    "Information interpretation \n",
    " - analysis, creating new documentation\n"
   ]
  },
  {
   "cell_type": "markdown",
   "metadata": {
    "nbpresent": {
     "id": "f3af11a9-0681-4e94-a27c-dc9c132e7b3e"
    }
   },
   "source": [
    "## Extract-Abstract-Present\n",
    "\n",
    "Extract = data gathering\n",
    "\n",
    "Abstract = knowledge inference\n",
    "\n",
    "Present = information interpretation\n",
    "\n",
    "![](images/eap2.png)"
   ]
  },
  {
   "cell_type": "markdown",
   "metadata": {
    "nbpresent": {
     "id": "dcc2e8c1-54e4-4a52-b207-a18c9e8e4ff1"
    }
   },
   "source": [
    "# Data Gathering\n",
    "\n",
    "Sources of information\n",
    "- Code [(Interactive)](Data_Gathering_Intro)\n",
    "- ... "
   ]
  },
  {
   "cell_type": "markdown",
   "metadata": {
    "nbpresent": {
     "id": "201be54d-8022-4330-abbc-dabd665872ed"
    }
   },
   "source": [
    "## Bibliography\n",
    "\n",
    "\n",
    "**Symphony: View-Driven Software Architecture Reconstruction**. \n",
    "- Authors: van Deursen, A., Hofmeister, C., Koschke, R., Moonen, L., Riva, C. In Proceedings of the Fourth Working IEEE/IFIP Conference on Software Architecture (WICSA’04), pp. 122-132\n",
    "\n",
    "\n",
    "[Optional] **What architects should know about reverse engineering and reengineering**. \n",
    "- Authors: Koschke, R. (2005). In Proceedings of the Third Working IEEE/IFIP Conference on Software Architecture (WICSA’05), pp 4-10\n"
   ]
  },
  {
   "cell_type": "code",
   "execution_count": null,
   "metadata": {
    "collapsed": true,
    "nbpresent": {
     "id": "91ef279f-4bf4-4b04-9b16-0969edffbb91"
    }
   },
   "outputs": [],
   "source": []
  }
 ],
 "metadata": {
  "anaconda-cloud": {},
  "kernelspec": {
   "display_name": "Python [default]",
   "language": "python",
   "name": "python3"
  },
  "language_info": {
   "codemirror_mode": {
    "name": "ipython",
    "version": 3
   },
   "file_extension": ".py",
   "mimetype": "text/x-python",
   "name": "python",
   "nbconvert_exporter": "python",
   "pygments_lexer": "ipython3",
   "version": "3.5.2"
  },
  "nbpresent": {
   "slides": {
    "11e9650a-8fed-4fae-9af7-b2ecfc8a477f": {
     "id": "11e9650a-8fed-4fae-9af7-b2ecfc8a477f",
     "prev": "ce3d61cb-1874-441d-8dcd-6d02dfbce783",
     "regions": {
      "554a4e1a-4c43-4323-ab75-2bdef91986a1": {
       "attrs": {
        "height": 0.8,
        "width": 0.8,
        "x": 0.1,
        "y": 0.1
       },
       "content": {
        "cell": "201be54d-8022-4330-abbc-dabd665872ed",
        "part": "whole"
       },
       "id": "554a4e1a-4c43-4323-ab75-2bdef91986a1"
      }
     }
    },
    "16413cd5-bd90-4e29-b4b4-0f4bbfa67088": {
     "id": "16413cd5-bd90-4e29-b4b4-0f4bbfa67088",
     "prev": "eff32f5d-1298-4dd5-ba8f-43ad85e05048",
     "regions": {
      "bcd5e35f-717d-4199-b0fd-a98c4aabb4ff": {
       "attrs": {
        "height": 0.8,
        "width": 0.8,
        "x": 0.1,
        "y": 0.1
       },
       "content": {
        "cell": "66f6a157-eda8-4652-8e25-b200ff53061a",
        "part": "whole"
       },
       "id": "bcd5e35f-717d-4199-b0fd-a98c4aabb4ff"
      }
     }
    },
    "3dc2352c-fd4a-4232-8d34-588398ee72f9": {
     "id": "3dc2352c-fd4a-4232-8d34-588398ee72f9",
     "prev": "96cd9993-93ba-4385-a3ea-e18f665c6bfa",
     "regions": {
      "bce1e102-f1ee-4ece-bc21-66db854b55e6": {
       "attrs": {
        "height": 0.8,
        "width": 0.8,
        "x": 0.1,
        "y": 0.1
       },
       "content": {
        "cell": "346f9811-a162-4f7a-9092-5ef4e6c922cb",
        "part": "whole"
       },
       "id": "bce1e102-f1ee-4ece-bc21-66db854b55e6"
      }
     }
    },
    "60b8f840-e5d4-45cb-953c-8a842fc1c7d2": {
     "id": "60b8f840-e5d4-45cb-953c-8a842fc1c7d2",
     "prev": "a951e1f5-ef11-421c-bcb8-d04dc034283e",
     "regions": {
      "1df38811-103b-4c0f-9616-ac2adafad1b6": {
       "attrs": {
        "height": 0.8,
        "width": 0.8,
        "x": 0.1,
        "y": 0.1
       },
       "content": {
        "cell": "f3af11a9-0681-4e94-a27c-dc9c132e7b3e",
        "part": "whole"
       },
       "id": "1df38811-103b-4c0f-9616-ac2adafad1b6"
      }
     }
    },
    "6603bb49-b0f1-4cb7-b9bf-57498809d51c": {
     "id": "6603bb49-b0f1-4cb7-b9bf-57498809d51c",
     "prev": "e39b2eec-cc9c-447b-afe3-2c4ba0d17e16",
     "regions": {
      "03c6e9b0-b634-428c-93ad-5a6e9a4619f5": {
       "attrs": {
        "height": 0.8,
        "width": 0.8,
        "x": 0.1,
        "y": 0.1
       },
       "content": {
        "cell": "12265de9-f1a2-4460-9442-7e0bc5a8ac2f",
        "part": "whole"
       },
       "id": "03c6e9b0-b634-428c-93ad-5a6e9a4619f5"
      }
     }
    },
    "6bd5bcc8-a8a7-4a3b-99b0-387503a58104": {
     "id": "6bd5bcc8-a8a7-4a3b-99b0-387503a58104",
     "prev": "ef220be4-2069-416e-ab91-aa59fb49f6f6",
     "regions": {
      "3f180964-4ed3-4ec1-8891-5762573b95c9": {
       "attrs": {
        "height": 0.8,
        "width": 0.8,
        "x": 0.1,
        "y": 0.1
       },
       "content": {
        "cell": "153ce2b3-0f79-40f5-b30c-6880310eb713",
        "part": "whole"
       },
       "id": "3f180964-4ed3-4ec1-8891-5762573b95c9"
      }
     }
    },
    "6f7d8db0-ee0c-4e7f-90ff-0724ed4edcb8": {
     "id": "6f7d8db0-ee0c-4e7f-90ff-0724ed4edcb8",
     "prev": "11e9650a-8fed-4fae-9af7-b2ecfc8a477f",
     "regions": {
      "da3f49a1-49e5-4cdc-9112-188421a004a0": {
       "attrs": {
        "height": 0.8,
        "width": 0.8,
        "x": 0.1,
        "y": 0.1
       },
       "content": {
        "cell": "91ef279f-4bf4-4b04-9b16-0969edffbb91",
        "part": "whole"
       },
       "id": "da3f49a1-49e5-4cdc-9112-188421a004a0"
      }
     }
    },
    "96cd9993-93ba-4385-a3ea-e18f665c6bfa": {
     "id": "96cd9993-93ba-4385-a3ea-e18f665c6bfa",
     "prev": null,
     "regions": {
      "d1635d24-b977-418a-9643-37d142d19709": {
       "attrs": {
        "height": 0.8,
        "width": 0.8,
        "x": 0.1,
        "y": 0.1
       },
       "content": {
        "cell": "e0f099c3-3b59-45f2-96ac-993b6f2e3795",
        "part": "whole"
       },
       "id": "d1635d24-b977-418a-9643-37d142d19709"
      }
     }
    },
    "a951e1f5-ef11-421c-bcb8-d04dc034283e": {
     "id": "a951e1f5-ef11-421c-bcb8-d04dc034283e",
     "prev": "f98b4a75-2b36-4461-b9e0-778e00137748",
     "regions": {
      "b8426151-da1f-4952-8dd0-232ac39e56b1": {
       "attrs": {
        "height": 0.8,
        "width": 0.8,
        "x": 0.1,
        "y": 0.1
       },
       "content": {
        "cell": "e58ec226-7e38-48fe-836f-441dab573240",
        "part": "whole"
       },
       "id": "b8426151-da1f-4952-8dd0-232ac39e56b1"
      }
     }
    },
    "ce3d61cb-1874-441d-8dcd-6d02dfbce783": {
     "id": "ce3d61cb-1874-441d-8dcd-6d02dfbce783",
     "prev": "60b8f840-e5d4-45cb-953c-8a842fc1c7d2",
     "regions": {
      "dc889a39-ff2a-4402-aff9-d2b4c7518cad": {
       "attrs": {
        "height": 0.8,
        "width": 0.8,
        "x": 0.1,
        "y": 0.1
       },
       "content": {
        "cell": "dcc2e8c1-54e4-4a52-b207-a18c9e8e4ff1",
        "part": "whole"
       },
       "id": "dc889a39-ff2a-4402-aff9-d2b4c7518cad"
      }
     }
    },
    "e39b2eec-cc9c-447b-afe3-2c4ba0d17e16": {
     "id": "e39b2eec-cc9c-447b-afe3-2c4ba0d17e16",
     "prev": "16413cd5-bd90-4e29-b4b4-0f4bbfa67088",
     "regions": {
      "016ca99b-00f9-4af5-9151-281e5c19373d": {
       "attrs": {
        "height": 0.8,
        "width": 0.8,
        "x": 0.1,
        "y": 0.1
       },
       "content": {
        "cell": "98b543c9-826b-4b3e-a826-a857c4950826",
        "part": "whole"
       },
       "id": "016ca99b-00f9-4af5-9151-281e5c19373d"
      }
     }
    },
    "ef220be4-2069-416e-ab91-aa59fb49f6f6": {
     "id": "ef220be4-2069-416e-ab91-aa59fb49f6f6",
     "prev": "6603bb49-b0f1-4cb7-b9bf-57498809d51c",
     "regions": {
      "9138bbb9-f0e5-4cde-803b-95b5abb39061": {
       "attrs": {
        "height": 0.8,
        "width": 0.8,
        "x": 0.1,
        "y": 0.1
       },
       "content": {
        "cell": "c18ad8cc-34b4-4daf-9179-e87ff9ce7c45",
        "part": "whole"
       },
       "id": "9138bbb9-f0e5-4cde-803b-95b5abb39061"
      }
     }
    },
    "eff32f5d-1298-4dd5-ba8f-43ad85e05048": {
     "id": "eff32f5d-1298-4dd5-ba8f-43ad85e05048",
     "prev": "3dc2352c-fd4a-4232-8d34-588398ee72f9",
     "regions": {
      "41677031-c999-4aad-bc86-16ff98e849ae": {
       "attrs": {
        "height": 0.8,
        "width": 0.8,
        "x": 0.1,
        "y": 0.1
       },
       "content": {
        "cell": "9adc346c-fb2f-4ee0-bb97-59297bb0ad9b",
        "part": "whole"
       },
       "id": "41677031-c999-4aad-bc86-16ff98e849ae"
      }
     }
    },
    "f98b4a75-2b36-4461-b9e0-778e00137748": {
     "id": "f98b4a75-2b36-4461-b9e0-778e00137748",
     "prev": "6bd5bcc8-a8a7-4a3b-99b0-387503a58104",
     "regions": {
      "018d32cb-cc88-4e80-853b-99893d04bc39": {
       "attrs": {
        "height": 0.8,
        "width": 0.8,
        "x": 0.1,
        "y": 0.1
       },
       "content": {
        "cell": "aa8de013-6d61-4143-b569-ec0d48d819ea",
        "part": "whole"
       },
       "id": "018d32cb-cc88-4e80-853b-99893d04bc39"
      }
     }
    }
   },
   "themes": {}
  }
 },
 "nbformat": 4,
 "nbformat_minor": 1
}
