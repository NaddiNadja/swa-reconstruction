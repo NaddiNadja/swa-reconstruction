{
 "cells": [
  {
   "cell_type": "markdown",
   "metadata": {
    "collapsed": true,
    "nbpresent": {
     "id": "b5bf4111-b74c-451a-a457-b1e250cb20b7"
    },
    "slideshow": {
     "slide_type": "slide"
    }
   },
   "source": [
    "<img src=\"images/first_cluster.png\" width=\"50%\" style=\"float:right\"/>\n",
    "\n",
    "\n",
    "## Lecture #11\n",
    "\n",
    "# Architecture Reconstruction (II) \n",
    "\n",
    "M. Lungu \n",
    "\n",
    "mlun@itu.dk\n",
    "\n",
    "\n",
    "### In the Previous Episode...\n",
    "\n",
    "\n",
    "Approaches\n",
    "- Extract - abstract - view\n",
    "- Symphony \n",
    "\n",
    "\n",
    "Case Study: Zeeguu-Core\n",
    "  - **Source View**: Modules & Dependencies\n",
    "  - **Entities**: .py files in the project\n",
    "  - **Relationships**: import statements between .py files"
   ]
  },
  {
   "cell_type": "markdown",
   "metadata": {
    "collapsed": true,
    "nbpresent": {
     "id": "3131d8e7-3820-4709-843c-2342a04f4bc4"
    },
    "slideshow": {
     "slide_type": "slide"
    }
   },
   "source": [
    "Today: \n",
    "- Topic: [Basic Abstraction / Knowledge Inference](Basic_Abstraction.ipynb)\n",
    "- Mini Topic: [Reflexion Models](Reflexion_Models.ipynb)\n",
    "- Topic: [Advanced Dependency Extraction](Advanced_Dependency_Extraction.ipynb)\n",
    "\n",
    "\n",
    "- [Individual Project Description](https://docs.google.com/document/d/10bTyUS4ZocReS3j2AxHak_-rBh_Yv_0NM6XDQrt0YkY/edit#)\n"
   ]
  },
  {
   "cell_type": "code",
   "execution_count": null,
   "metadata": {},
   "outputs": [],
   "source": []
  }
 ],
 "metadata": {
  "anaconda-cloud": {},
  "celltoolbar": "Slideshow",
  "kernelspec": {
   "display_name": "Python 3",
   "language": "python",
   "name": "python3"
  },
  "language_info": {
   "codemirror_mode": {
    "name": "ipython",
    "version": 3
   },
   "file_extension": ".py",
   "mimetype": "text/x-python",
   "name": "python",
   "nbconvert_exporter": "python",
   "pygments_lexer": "ipython3",
   "version": "3.9.2"
  },
  "nbpresent": {
   "slides": {
    "450f9f73-1645-4f45-82cf-d41330311ce8": {
     "id": "450f9f73-1645-4f45-82cf-d41330311ce8",
     "prev": "e9da0c38-c096-49f0-aeb5-3cae8510e195",
     "regions": {
      "b6aae37b-c5dd-415e-8bcb-bca917a33ab5": {
       "attrs": {
        "height": 0.8,
        "width": 0.8,
        "x": 0.1,
        "y": 0.1
       },
       "content": {
        "cell": "3b5c9f76-a83f-4458-a06f-aa155b2dd9f1",
        "part": "whole"
       },
       "id": "b6aae37b-c5dd-415e-8bcb-bca917a33ab5"
      }
     }
    },
    "d7590619-30f2-4a16-8539-3672d6b9b2d6": {
     "id": "d7590619-30f2-4a16-8539-3672d6b9b2d6",
     "prev": null,
     "regions": {
      "ff4b09e8-e2a4-45d3-a4a6-89d4c7313288": {
       "attrs": {
        "height": 0.8,
        "width": 0.8,
        "x": 0.1,
        "y": 0.1
       },
       "content": {
        "cell": "1fc39539-d546-4500-9af7-606c1ca95b65",
        "part": "whole"
       },
       "id": "ff4b09e8-e2a4-45d3-a4a6-89d4c7313288"
      }
     }
    },
    "df01fa79-5ef0-4d39-95aa-76f88a2ef9df": {
     "id": "df01fa79-5ef0-4d39-95aa-76f88a2ef9df",
     "prev": "450f9f73-1645-4f45-82cf-d41330311ce8",
     "regions": {
      "102421f5-c19c-493a-860c-464fd797a0bf": {
       "attrs": {
        "height": 0.8,
        "width": 0.8,
        "x": 0.1,
        "y": 0.1
       },
       "content": {
        "cell": "3131d8e7-3820-4709-843c-2342a04f4bc4",
        "part": "whole"
       },
       "id": "102421f5-c19c-493a-860c-464fd797a0bf"
      }
     }
    },
    "e9da0c38-c096-49f0-aeb5-3cae8510e195": {
     "id": "e9da0c38-c096-49f0-aeb5-3cae8510e195",
     "prev": "d7590619-30f2-4a16-8539-3672d6b9b2d6",
     "regions": {
      "ed965923-5944-4e61-9aaf-c42834085efd": {
       "attrs": {
        "height": 0.8,
        "width": 0.8,
        "x": 0.1,
        "y": 0.1
       },
       "content": {
        "cell": "b5bf4111-b74c-451a-a457-b1e250cb20b7",
        "part": "whole"
       },
       "id": "ed965923-5944-4e61-9aaf-c42834085efd"
      }
     }
    }
   },
   "themes": {}
  }
 },
 "nbformat": 4,
 "nbformat_minor": 1
}
