{
 "cells": [
  {
   "cell_type": "markdown",
   "metadata": {
    "slideshow": {
     "slide_type": "slide"
    }
   },
   "source": [
    "# Problem: Too much low-level information\n",
    "\n",
    "\n",
    "<img src=\"images/first_cluster.png\" style=\"float:right\" />\n",
    "\n",
    "Zeeguu-Core (on the right)\n",
    "- 194 `.py` files\n",
    "- 13.354 LOC\n",
    "- import statements\n",
    "\n",
    "\n",
    "It's a small system \n",
    "  - A larger system would look even less readable\n",
    "  - Explains *software aging*: easy to lose track of *the big picture*\n",
    "  - Explains the need for visualization\n"
   ]
  },
  {
   "cell_type": "markdown",
   "metadata": {
    "slideshow": {
     "slide_type": "slide"
    }
   },
   "source": [
    "## Observations\n",
    "\n",
    "<img src=\"images/first_cluster.png\" style=\"float:right\" />\n",
    "\n",
    "    \n",
    "Some files belong more together (bottom cluster)\n",
    "  - ? *Coupling or Cohesion* ? \n",
    "  - Could we automatically detect classes that belong together?\n",
    "    \n",
    "An interactive tool would help a bit\n",
    "  - mouse over and see the individual file names\n",
    "  - filter + group\n",
    "\n",
    "\n"
   ]
  },
  {
   "cell_type": "markdown",
   "metadata": {
    "slideshow": {
     "slide_type": "slide"
    }
   },
   "source": [
    "# Knowledge Inference / Abstraction\n",
    "\n",
    "\n",
    "![sympony](images/symphony.png)\n",
    "\n",
    ">  The reconstructor creates the target view by condensing the low-level details of the source view and abstracting them into architectural information. \n",
    ">\n",
    "> The mapping rules and domain knowledge are used to **define a map between the source and target view**. \n",
    "> \n",
    "> -- Symphony Paper, Section 6.2\n",
    "\n",
    "\n"
   ]
  },
  {
   "cell_type": "markdown",
   "metadata": {
    "slideshow": {
     "slide_type": "slide"
    }
   },
   "source": [
    "## Approach 1: Manual Mapping of Files to Folder\n",
    "\n",
    "- Developers group entities meaningfully in the dependency tree; why not use that? \n",
    "- Works well for python and other languages that use folder organization\n",
    "\n",
    "Coding Example: \n",
    "- [code/Basic_Abstraction.ipynb](code/Basic_Abstraction.ipynb#Basic-Abstraction/Knowledge-Inference)\n",
    "- [Notebook in Google Collab](https://colab.research.google.com/drive/1IPPZytBD8ralYyTfofX_46DelXg2YF38#scrollTo=iQwzASq7XKEi)"
   ]
  },
  {
   "cell_type": "markdown",
   "metadata": {
    "slideshow": {
     "slide_type": "slide"
    }
   },
   "source": [
    "## Approach 2: Automatic Aggregation + Top-Down Exploration\n",
    "\n",
    "\n",
    "\n",
    "- What if we automatically aggregated dependencies along the module dependency tree?\n",
    "- We could get something like... [Softwarenaut](https://vimeo.com/62767181)\n",
    "\n",
    "  - automatically aggregate to the highest level\n",
    "  - then interactively explore \n",
    "  - this is what's called a ** semi-automatic ** approach\n",
    "  \n",
    "  \n",
    "  \n",
    "\n",
    "\n"
   ]
  },
  {
   "cell_type": "markdown",
   "metadata": {
    "slideshow": {
     "slide_type": "slide"
    }
   },
   "source": [
    "\n",
    "## Approach 3: Mapping Using Naming Conventions \n",
    "\n",
    "> For example, if the mapping contains a rule about using naming conventions to combine classes into modules, the resulting map lists each class and the module to which it belongs. \n",
    ">\n",
    "> This activity may require either interviewing the system experts in order to formal- ize architecturally-relevant aspects not available in the im- plementation or to iteratively augment the source view by adding new concepts to the source viewpoint\n",
    ">\n",
    "> -- Symphony, 6.2\n",
    "\n",
    "\n",
    "![](images/reflexion_model_mappings.png)\n",
    "\n",
    "-- from the Reflexion Models paper"
   ]
  },
  {
   "cell_type": "markdown",
   "metadata": {
    "slideshow": {
     "slide_type": "slide"
    }
   },
   "source": [
    "## Approach 4: Graph Analysis\n",
    "\n",
    "- HITS Algorithm [1]\n",
    "\n",
    "- PageRank [2]\n",
    "\n",
    "- Automatic Clustering\n",
    "     - has been tried with \n",
    "       - coupling cohesion\n",
    "       - natural language analysis\n",
    "     - even in the case of clustering we still need human intervention\n",
    "\n",
    "[1] Hubs / Authorities: https://en.wikipedia.org/wiki/HITS_algorithm\n",
    "\n",
    "[2] [Ranking software artifacts (pdf)](http://scg.unibe.ch/archive/papers/Peri10bRankingSoftware.pdf). F Perin, L Renggli, and J Ressia\n",
    "\n"
   ]
  },
  {
   "cell_type": "markdown",
   "metadata": {
    "slideshow": {
     "slide_type": "slide"
    }
   },
   "source": [
    "## Software Metrics\n",
    "\n",
    "Popular approach to abstracting code\n",
    "\n",
    "Several well-known structural metrics\n",
    "- LOC - lines of code \n",
    "- NOM - number of methods\n",
    "\n",
    "- CYCLO (Cyclomatic/McCabe Complexity) [3]\n",
    "    - number of linearly independent code paths through source code\n",
    "    - often used in quality: too much complexity is a bad thing\n",
    "    - hidden partially by polymorphism\n",
    "    \n",
    "[3] Cyclomatic Complexity: https://en.wikipedia.org/wiki/Cyclomatic_complexity\n"
   ]
  },
  {
   "cell_type": "markdown",
   "metadata": {
    "slideshow": {
     "slide_type": "slide"
    }
   },
   "source": [
    "## Computing Properties of Modules\n",
    "\n",
    "\n",
    "Remember the Definition of Architecture \"modules, **their properties**, and the relationships between them\"\n",
    "\n",
    "Possible relevant properties: \n",
    "  - size\n",
    "  - complexity\n",
    "\n",
    "Coding Example: https://colab.research.google.com/drive/1IPPZytBD8ralYyTfofX_46DelXg2YF38#scrollTo=h6smbfIlcggm"
   ]
  },
  {
   "cell_type": "markdown",
   "metadata": {
    "slideshow": {
     "slide_type": "slide"
    }
   },
   "source": [
    "## Importance of Dependencies\n",
    "\n",
    "\n",
    "To tell a story we need subjects and actions\n",
    "\n",
    "To tell the story of a module view we need also subjects and actions\n",
    "  - subjects are the nodes in the view\n",
    "  - the actions are the meanings of the dependencies\n",
    "\n",
    "\n",
    "In your project aim to describe also the meaning of the dependencies (at least the most essential ones!)\n",
    "\n"
   ]
  },
  {
   "cell_type": "markdown",
   "metadata": {
    "slideshow": {
     "slide_type": "slide"
    }
   },
   "source": [
    "## Discussion & Lessons Learned (1)\n",
    "\n",
    "  - External dependencies (3rd party modules) can be filtered to remove noise\n",
    "  - Directed dependencies provide extra information\n",
    "  - Module views allow the detection of misdirected dependencies\n",
    "\n"
   ]
  },
  {
   "cell_type": "markdown",
   "metadata": {
    "slideshow": {
     "slide_type": "slide"
    }
   },
   "source": [
    "## Discussion & Lessons Learned (2)\n",
    "\n",
    "- Semi-automatic solutions are most of the times required\n",
    "\n",
    "\n",
    "- The difference between the views recovered today and a hand-drawn UML diagram? \n",
    "  - what we created today is always telling the truth\n",
    "  - but, **maybe not all the truth?**\n",
    "\n",
    "    \n",
    "- Mapping metrics on visualizations helps make sense of the data\n",
    "\n"
   ]
  },
  {
   "cell_type": "markdown",
   "metadata": {
    "slideshow": {
     "slide_type": "slide"
    }
   },
   "source": [
    "## Programming Challenges\n",
    "\n",
    "  - Can you visualize how \"strong\" a dependency is? \n",
    "  - Can you create a more general file-to-module-mapping function?\n",
    "  - Consider using pyvis instead of networkx -- it has much nicer visualizations!\n",
    "  - Consider running [networkx.pagerank](https://networkx.org/documentation/stable/reference/algorithms/generated/networkx.algorithms.link_analysis.pagerank_alg.pagerank.html) on the graph from your case study\n",
    "  - Consider [exporting the data from networkx](https://networkx.github.io/documentation/stable/reference/drawing.html) into specialized graph visualization tools \n",
    "\n",
    "\n"
   ]
  },
  {
   "cell_type": "code",
   "execution_count": null,
   "metadata": {},
   "outputs": [],
   "source": []
  }
 ],
 "metadata": {
  "anaconda-cloud": {},
  "celltoolbar": "Slideshow",
  "kernelspec": {
   "display_name": "Python 3",
   "language": "python",
   "name": "python3"
  },
  "language_info": {
   "codemirror_mode": {
    "name": "ipython",
    "version": 3
   },
   "file_extension": ".py",
   "mimetype": "text/x-python",
   "name": "python",
   "nbconvert_exporter": "python",
   "pygments_lexer": "ipython3",
   "version": "3.9.2"
  }
 },
 "nbformat": 4,
 "nbformat_minor": 1
}
