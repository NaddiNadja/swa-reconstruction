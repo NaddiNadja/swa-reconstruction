{
 "cells": [
  {
   "cell_type": "markdown",
   "metadata": {
    "nbpresent": {
     "id": "41bdcf52-3057-4627-83c0-db025bc87d66"
    },
    "slideshow": {
     "slide_type": "slide"
    }
   },
   "source": [
    "Software Architecture @ ITU\n",
    "# Session #10: Architecture Reconstruction \n",
    "\n",
    "\n",
    "Mircea Lungu\n",
    "\n",
    "\n",
    "\n",
    "Apr 15, 2021\n"
   ]
  },
  {
   "cell_type": "markdown",
   "metadata": {
    "nbpresent": {
     "id": "63ad0ca4-bc73-447d-981f-8cad795134fe"
    },
    "slideshow": {
     "slide_type": "slide"
    }
   },
   "source": [
    "# Meta\n",
    "\n",
    "- This and following three lectures\n",
    " - Are quite new material\n",
    " - Influenced by past student feedback\n",
    " - Have inspired several of your colleagues to choose thesis projects\n",
    " \n",
    " \n",
    "- Feedback\n",
    " - Anonymous: https://forms.gle/ADWfDZdKfPwdFG1D6\n",
    " - Email: mlun@itu.dk\n",
    " - PR on the GitHub version of the slides (besides the .pdf on learnit)\n",
    " \n",
    " \n",
    "- Any questions:\n",
    " - Real Time: in the chat window of Zoom\n",
    " - LearnIT forum: questions of potential relevance for everybody\n",
    " - Email: mlun@itu.dk\n",
    " \n",
    "\n",
    "\n"
   ]
  },
  {
   "cell_type": "markdown",
   "metadata": {
    "nbpresent": {
     "id": "9e411dcf-dae6-427f-ae6d-91466807c24c"
    },
    "slideshow": {
     "slide_type": "slide"
    }
   },
   "source": [
    "# Plan for the day\n",
    "- ## [Reconstruction: What, Why and How?](Architecture_Reconstruction.ipynb)\n",
    "- ## [Hands On - Basic Data Gathering](code/Data_Gathering_Intro.ipynb)\n",
    "- ## Individual Assignment Overview\n"
   ]
  },
  {
   "cell_type": "markdown",
   "metadata": {
    "nbpresent": {
     "id": "50a213e3-7f7b-470c-80a6-2d5af79cd943"
    }
   },
   "source": [
    "# Individual Assignment\n",
    "\n",
    "\n",
    "Goal is to \n",
    "- recover the architecture of an existing system\n",
    "- document the process and the outcome in an individual report\n",
    "\n",
    "Reports are: \n",
    " - due in Week 19 \n",
    " - submittable one week before for feedback\n",
    "\n",
    "Tools \n",
    "- are important for recovery\n",
    "- if you can program, then this is your chance to be coding **analysis tools** over the upcoming lectures\n",
    "- you can still code as a team! (you only have to write the analysis on your own)\n",
    "- if you can't program, then you'll have to find third party tools (the time the programming ones spend on programming, you'll be spending on finding third party tools) \n",
    "\n",
    "\n",
    "\n"
   ]
  },
  {
   "cell_type": "markdown",
   "metadata": {
    "collapsed": true,
    "nbpresent": {
     "id": "2c2fdf24-a762-4208-89b5-bdf3cc593cb0"
    }
   },
   "source": [
    "# Individual Assignment (contd.)\n",
    "\n",
    "\n",
    "### Subject systems\n",
    "\n",
    "- The [Zeeguu Project](https://zeeguu.com): \n",
    "  - [Zeeguu-API](https://github.com/zeeguu-ecosystem/Zeeguu-API)\n",
    "  - [Zeeguu-React](https://github.com/zeeguu-ecosystem/zeeguu-react) \n",
    "  - invite code: zeeguu-beta\n",
    "  - a [paper](https://github.com/zeeguu-ecosystem/CHI18-Paper/blob/master/!AsWeMayStudy--Preprint.pdf) about the system\n",
    " \n",
    " \n",
    "- You can analyze another system of a comparable complexity\n",
    "  - confirm with me or the TAs about the appropriateness of the system\n",
    "\n",
    " \n",
    " "
   ]
  },
  {
   "cell_type": "markdown",
   "metadata": {
    "nbpresent": {
     "id": "0af99fab-70b8-45eb-bd22-8e7404e89a1f"
    }
   },
   "source": [
    "# For Next Week\n",
    "\n",
    "- Read the [Symphony paper](https://www.informatik.uni-bremen.de/st/papers/symphony-wicsa04.pdf) and if something is not clear [write questions about it](https://forms.gle/bsxyKVNfm2LdHaMm7)\n",
    "- Watch the [live coding session of last year](https://app.vidgrid.com/view/qs3vPcPnjnKT?autoplay=1&t=3751.587316), try to replicate it, [submit questions about it](https://forms.gle/bsxyKVNfm2LdHaMm7)\n",
    "- Read the [Reflexion Models paper](http://www.cs.kent.edu/~jmaletic/cs63902/Papers/Murphy95.pdf) \n",
    "\n"
   ]
  }
 ],
 "metadata": {
  "anaconda-cloud": {},
  "celltoolbar": "Slideshow",
  "kernelspec": {
   "display_name": "Python 3",
   "language": "python",
   "name": "python3"
  },
  "language_info": {
   "codemirror_mode": {
    "name": "ipython",
    "version": 3
   },
   "file_extension": ".py",
   "mimetype": "text/x-python",
   "name": "python",
   "nbconvert_exporter": "python",
   "pygments_lexer": "ipython3",
   "version": "3.9.2"
  },
  "nbpresent": {
   "slides": {
    "17521e80-3bde-455a-881b-42728aff785a": {
     "id": "17521e80-3bde-455a-881b-42728aff785a",
     "prev": "22218b9f-9db8-4088-a0e5-a6577b5d86b5",
     "regions": {
      "f480b8bf-a6fe-4a54-ae41-0ad25c4e4996": {
       "attrs": {
        "height": 0.8,
        "width": 0.8,
        "x": 0.1,
        "y": 0.1
       },
       "content": {
        "cell": "0af99fab-70b8-45eb-bd22-8e7404e89a1f",
        "part": "whole"
       },
       "id": "f480b8bf-a6fe-4a54-ae41-0ad25c4e4996"
      }
     }
    },
    "22218b9f-9db8-4088-a0e5-a6577b5d86b5": {
     "id": "22218b9f-9db8-4088-a0e5-a6577b5d86b5",
     "prev": "332ed7e3-9c5f-4a56-ac05-53af1e98c475",
     "regions": {
      "2d467e77-4473-4c03-be34-bc61141e58ee": {
       "attrs": {
        "height": 0.8,
        "width": 0.8,
        "x": 0.1,
        "y": 0.1
       },
       "content": {
        "cell": "2c2fdf24-a762-4208-89b5-bdf3cc593cb0",
        "part": "whole"
       },
       "id": "2d467e77-4473-4c03-be34-bc61141e58ee"
      }
     }
    },
    "332ed7e3-9c5f-4a56-ac05-53af1e98c475": {
     "id": "332ed7e3-9c5f-4a56-ac05-53af1e98c475",
     "prev": "6ec24f10-d8df-4db1-a196-ace3de881235",
     "regions": {
      "b8b07e11-dbbb-43a5-b6be-fcc411f1b372": {
       "attrs": {
        "height": 0.8,
        "width": 0.8,
        "x": 0.1,
        "y": 0.1
       },
       "content": {
        "cell": "50a213e3-7f7b-470c-80a6-2d5af79cd943",
        "part": "whole"
       },
       "id": "b8b07e11-dbbb-43a5-b6be-fcc411f1b372"
      }
     }
    },
    "66924b45-bbf6-4047-a805-0642f24ac4ce": {
     "id": "66924b45-bbf6-4047-a805-0642f24ac4ce",
     "prev": "17521e80-3bde-455a-881b-42728aff785a",
     "regions": {
      "b9cae006-6a4c-473d-9f05-83a65833d57b": {
       "attrs": {
        "height": 0.8,
        "width": 0.8,
        "x": 0.1,
        "y": 0.1
       },
       "content": {
        "cell": "8b93a8c9-ae09-49be-a37d-ed3126fdcec0",
        "part": "whole"
       },
       "id": "b9cae006-6a4c-473d-9f05-83a65833d57b"
      }
     }
    },
    "6ec24f10-d8df-4db1-a196-ace3de881235": {
     "id": "6ec24f10-d8df-4db1-a196-ace3de881235",
     "prev": "f1ca8562-b562-4e64-b57a-d0a6ebd5a0a8",
     "regions": {
      "2950f333-23f0-40c7-adc7-34aa1e87d96f": {
       "attrs": {
        "height": 0.8,
        "width": 0.8,
        "x": 0.1,
        "y": 0.1
       },
       "content": {
        "cell": "9e411dcf-dae6-427f-ae6d-91466807c24c",
        "part": "whole"
       },
       "id": "2950f333-23f0-40c7-adc7-34aa1e87d96f"
      }
     }
    },
    "c6b41946-fb26-45ce-a889-9c4a62aa690f": {
     "id": "c6b41946-fb26-45ce-a889-9c4a62aa690f",
     "prev": null,
     "regions": {
      "1d605165-64cd-4daa-99e0-1640ba2742e8": {
       "attrs": {
        "height": 0.8,
        "width": 0.8,
        "x": 0.1,
        "y": 0.1
       },
       "content": {
        "cell": "41bdcf52-3057-4627-83c0-db025bc87d66",
        "part": "whole"
       },
       "id": "1d605165-64cd-4daa-99e0-1640ba2742e8"
      }
     }
    },
    "f1ca8562-b562-4e64-b57a-d0a6ebd5a0a8": {
     "id": "f1ca8562-b562-4e64-b57a-d0a6ebd5a0a8",
     "prev": "c6b41946-fb26-45ce-a889-9c4a62aa690f",
     "regions": {
      "5c6fdf18-0fd5-496d-bab3-b1352c18e009": {
       "attrs": {
        "height": 0.8,
        "width": 0.8,
        "x": 0.1,
        "y": 0.1
       },
       "content": {
        "cell": "63ad0ca4-bc73-447d-981f-8cad795134fe",
        "part": "whole"
       },
       "id": "5c6fdf18-0fd5-496d-bab3-b1352c18e009"
      }
     }
    }
   },
   "themes": {}
  }
 },
 "nbformat": 4,
 "nbformat_minor": 1
}
