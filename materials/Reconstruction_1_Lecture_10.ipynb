{
 "cells": [
  {
   "cell_type": "markdown",
   "metadata": {
    "nbpresent": {
     "id": "41bdcf52-3057-4627-83c0-db025bc87d66"
    }
   },
   "source": [
    "Software Architecture @ ITU\n",
    "# Session #10: Architecture Reconstruction \n",
    "\n",
    "\n",
    "Mircea Lungu\n",
    "\n",
    "\n",
    "\n",
    "Mar 30, 2020\n"
   ]
  },
  {
   "cell_type": "markdown",
   "metadata": {
    "nbpresent": {
     "id": "63ad0ca4-bc73-447d-981f-8cad795134fe"
    }
   },
   "source": [
    "# Meta\n",
    "- This and following lectures are all new material\n",
    " - Influenced by last year's feedback\n",
    " - We'll do it agile\n",
    "  - Requires feedback loop\n",
    " \n",
    " \n",
    "- Thus, I need feedback\n",
    " - Anonymous: https://forms.gle/ADWfDZdKfPwdFG1D6\n",
    " - Email: mlun@itu.dk\n",
    " - PR on the GitHub version of the slides (besides the .pdf on learnit)\n",
    " \n",
    " \n",
    "- Any questions:\n",
    " - Real Time: in the chat window of Zoom\n",
    " - LearnIT forum: questions of potential relevance for everybody\n",
    " - Email: mlun@itu.dk\n",
    " \n",
    "\n",
    "\n"
   ]
  },
  {
   "cell_type": "markdown",
   "metadata": {
    "nbpresent": {
     "id": "9e411dcf-dae6-427f-ae6d-91466807c24c"
    }
   },
   "source": [
    "# Plan for the day\n",
    "- [Reconstruction: What, Why and How?](Architecture_Reconstruction.ipynb)\n",
    "- [Hands On - Basic Data Gathering](code/Data_Gathering_Intro.ipynb)\n",
    "- Assignment\n"
   ]
  },
  {
   "cell_type": "markdown",
   "metadata": {
    "nbpresent": {
     "id": "50a213e3-7f7b-470c-80a6-2d5af79cd943"
    }
   },
   "source": [
    "# Architecture Recovery Practicals\n",
    "\n",
    "We'll be coding a few basic **analysis tools** over the upcoming lectures\n",
    "\n",
    "\n",
    "Tools...\n",
    " - are group work\n",
    " - will be used in the **individual** reports\n",
    " - code of every group's tool should be shared via GitHub\n",
    " \n",
    "Individual Reports will: \n",
    " - use the tools we build to help in AR of a system\n",
    " - be focused on the Zeeguu project by default \n",
    "  - feel free to \n",
    "    - analyze another system\n",
    "    - build your own tools in another language\n",
    "    - but, there's no support from us from there on\n",
    " - be due in Week 19 \n",
    "  - you can submit your growing report for weekly feedback \n"
   ]
  },
  {
   "cell_type": "markdown",
   "metadata": {
    "collapsed": true,
    "nbpresent": {
     "id": "2c2fdf24-a762-4208-89b5-bdf3cc593cb0"
    }
   },
   "source": [
    "# Individual Assignment (contd.)\n",
    "\n",
    "The [Zeeguu Project](https://github.com/zeeguu-ecosystem): \n",
    "\n",
    " - Zeeguu-Core\n",
    " - Zeeguu-API\n",
    " - Zeeguu-Web\n",
    " - Zeeguu-Reader\n",
    " - Zeeguu-Exercises\n",
    " \n",
    " \n",
    " "
   ]
  },
  {
   "cell_type": "markdown",
   "metadata": {
    "nbpresent": {
     "id": "0af99fab-70b8-45eb-bd22-8e7404e89a1f"
    }
   },
   "source": [
    "# For Next Week\n",
    "\n",
    "- Create a GitHub account. \n",
    "- Create a GitHub project to share team tools.\n",
    "- Create an account on Zeeguu and get accustomed with the system. \n",
    " - web: www.zeeguu.org/create_account\n",
    " - invite code: zeeguu-beta\n",
    " - a [paper](https://github.com/zeeguu-ecosystem/CHI18-Paper/blob/master/!AsWeMayStudy--Preprint.pdf) about the system\n",
    "\n",
    "\n",
    "- [Optional] Play with the code-analysis tool of today\n",
    " - apply on another sub-project besides the Zeeguu-Core (e.g. Zeeguu-API)\n",
    " - improve the tool with new features\n"
   ]
  }
 ],
 "metadata": {
  "anaconda-cloud": {},
  "kernelspec": {
   "display_name": "Python [default]",
   "language": "python",
   "name": "python3"
  },
  "language_info": {
   "codemirror_mode": {
    "name": "ipython",
    "version": 3
   },
   "file_extension": ".py",
   "mimetype": "text/x-python",
   "name": "python",
   "nbconvert_exporter": "python",
   "pygments_lexer": "ipython3",
   "version": "3.5.2"
  },
  "nbpresent": {
   "slides": {
    "17521e80-3bde-455a-881b-42728aff785a": {
     "id": "17521e80-3bde-455a-881b-42728aff785a",
     "prev": "22218b9f-9db8-4088-a0e5-a6577b5d86b5",
     "regions": {
      "f480b8bf-a6fe-4a54-ae41-0ad25c4e4996": {
       "attrs": {
        "height": 0.8,
        "width": 0.8,
        "x": 0.1,
        "y": 0.1
       },
       "content": {
        "cell": "0af99fab-70b8-45eb-bd22-8e7404e89a1f",
        "part": "whole"
       },
       "id": "f480b8bf-a6fe-4a54-ae41-0ad25c4e4996"
      }
     }
    },
    "22218b9f-9db8-4088-a0e5-a6577b5d86b5": {
     "id": "22218b9f-9db8-4088-a0e5-a6577b5d86b5",
     "prev": "332ed7e3-9c5f-4a56-ac05-53af1e98c475",
     "regions": {
      "2d467e77-4473-4c03-be34-bc61141e58ee": {
       "attrs": {
        "height": 0.8,
        "width": 0.8,
        "x": 0.1,
        "y": 0.1
       },
       "content": {
        "cell": "2c2fdf24-a762-4208-89b5-bdf3cc593cb0",
        "part": "whole"
       },
       "id": "2d467e77-4473-4c03-be34-bc61141e58ee"
      }
     }
    },
    "332ed7e3-9c5f-4a56-ac05-53af1e98c475": {
     "id": "332ed7e3-9c5f-4a56-ac05-53af1e98c475",
     "prev": "6ec24f10-d8df-4db1-a196-ace3de881235",
     "regions": {
      "b8b07e11-dbbb-43a5-b6be-fcc411f1b372": {
       "attrs": {
        "height": 0.8,
        "width": 0.8,
        "x": 0.1,
        "y": 0.1
       },
       "content": {
        "cell": "50a213e3-7f7b-470c-80a6-2d5af79cd943",
        "part": "whole"
       },
       "id": "b8b07e11-dbbb-43a5-b6be-fcc411f1b372"
      }
     }
    },
    "66924b45-bbf6-4047-a805-0642f24ac4ce": {
     "id": "66924b45-bbf6-4047-a805-0642f24ac4ce",
     "prev": "17521e80-3bde-455a-881b-42728aff785a",
     "regions": {
      "b9cae006-6a4c-473d-9f05-83a65833d57b": {
       "attrs": {
        "height": 0.8,
        "width": 0.8,
        "x": 0.1,
        "y": 0.1
       },
       "content": {
        "cell": "8b93a8c9-ae09-49be-a37d-ed3126fdcec0",
        "part": "whole"
       },
       "id": "b9cae006-6a4c-473d-9f05-83a65833d57b"
      }
     }
    },
    "6ec24f10-d8df-4db1-a196-ace3de881235": {
     "id": "6ec24f10-d8df-4db1-a196-ace3de881235",
     "prev": "f1ca8562-b562-4e64-b57a-d0a6ebd5a0a8",
     "regions": {
      "2950f333-23f0-40c7-adc7-34aa1e87d96f": {
       "attrs": {
        "height": 0.8,
        "width": 0.8,
        "x": 0.1,
        "y": 0.1
       },
       "content": {
        "cell": "9e411dcf-dae6-427f-ae6d-91466807c24c",
        "part": "whole"
       },
       "id": "2950f333-23f0-40c7-adc7-34aa1e87d96f"
      }
     }
    },
    "c6b41946-fb26-45ce-a889-9c4a62aa690f": {
     "id": "c6b41946-fb26-45ce-a889-9c4a62aa690f",
     "prev": null,
     "regions": {
      "1d605165-64cd-4daa-99e0-1640ba2742e8": {
       "attrs": {
        "height": 0.8,
        "width": 0.8,
        "x": 0.1,
        "y": 0.1
       },
       "content": {
        "cell": "41bdcf52-3057-4627-83c0-db025bc87d66",
        "part": "whole"
       },
       "id": "1d605165-64cd-4daa-99e0-1640ba2742e8"
      }
     }
    },
    "f1ca8562-b562-4e64-b57a-d0a6ebd5a0a8": {
     "id": "f1ca8562-b562-4e64-b57a-d0a6ebd5a0a8",
     "prev": "c6b41946-fb26-45ce-a889-9c4a62aa690f",
     "regions": {
      "5c6fdf18-0fd5-496d-bab3-b1352c18e009": {
       "attrs": {
        "height": 0.8,
        "width": 0.8,
        "x": 0.1,
        "y": 0.1
       },
       "content": {
        "cell": "63ad0ca4-bc73-447d-981f-8cad795134fe",
        "part": "whole"
       },
       "id": "5c6fdf18-0fd5-496d-bab3-b1352c18e009"
      }
     }
    }
   },
   "themes": {}
  }
 },
 "nbformat": 4,
 "nbformat_minor": 1
}
