{
 "cells": [
  {
   "cell_type": "markdown",
   "metadata": {
    "nbpresent": {
     "id": "41bdcf52-3057-4627-83c0-db025bc87d66"
    },
    "slideshow": {
     "slide_type": "slide"
    }
   },
   "source": [
    "Software Architecture @ ITU\n",
    "# Session #10: Architecture Reconstruction \n",
    "\n",
    "\n",
    "Mircea Lungu\n",
    "\n",
    "\n",
    "\n",
    "Apr 15, 2021\n"
   ]
  },
  {
   "cell_type": "markdown",
   "metadata": {
    "nbpresent": {
     "id": "63ad0ca4-bc73-447d-981f-8cad795134fe"
    },
    "slideshow": {
     "slide_type": "slide"
    }
   },
   "source": [
    "# Meta\n",
    "\n",
    "- This and following three lectures\n",
    " - Are quite new material\n",
    " - Influenced by past student feedback\n",
    " - Have inspired several of your colleagues to choose thesis projects\n",
    " \n",
    " \n",
    "- Feedback\n",
    " - Anonymous: https://forms.gle/ADWfDZdKfPwdFG1D6\n",
    " - Email: mlun@itu.dk\n",
    " - PR on the GitHub version of the slides (besides the .pdf on learnit)\n",
    " \n",
    " \n",
    "- Any questions:\n",
    " - Real Time: in the chat window of Zoom\n",
    " - LearnIT forum: questions of potential relevance for everybody\n",
    " - Email: mlun@itu.dk\n",
    " \n",
    "\n",
    "\n"
   ]
  },
  {
   "cell_type": "markdown",
   "metadata": {
    "nbpresent": {
     "id": "e0f099c3-3b59-45f2-96ac-993b6f2e3795"
    },
    "slideshow": {
     "slide_type": "slide"
    }
   },
   "source": [
    "# Architecture Reconstruction (AR)\n",
    "\n",
    "> The process of obtaining a (partially) documented architecture for an existing system\n",
    "\n",
    "> A reverse engineering approach that aims at reconstructing viable architectural views of\n",
    "a software application (Ducasse & Pollet)\n",
    "__ \n",
    "\n",
    "\n",
    "Synomym: Architecture Recovery\n",
    "\n",
    "\n",
    "Ducasse & Pollet. *Software Architecture Reconstruction:\n",
    "a Process-Oriented Taxonomy* (https://rmod.inria.fr/archives/papers/Duca09c-TSE-SOAArchitectureExtraction.pdf)"
   ]
  },
  {
   "cell_type": "markdown",
   "metadata": {
    "nbpresent": {
     "id": "346f9811-a162-4f7a-9092-5ef4e6c922cb"
    },
    "slideshow": {
     "slide_type": "slide"
    }
   },
   "source": [
    "## Motivation - #1: Many tasks in SE need architectural documentation\n",
    " - Adoption\n",
    " - Refactoring \n",
    " - Reengineering\n",
    " - Understanding\n",
    " - Coding\n",
    " - Risk assessment for security\n",
    " - Architectural Evaluation\n",
    "\n",
    " \n",
    "\n",
    "\n",
    " \n"
   ]
  },
  {
   "cell_type": "markdown",
   "metadata": {
    "slideshow": {
     "slide_type": "slide"
    }
   },
   "source": [
    "## Motivation - #2 Often Architectural Documentation is Missing or Obsolete\n",
    "\n",
    "- Have you seen architectural documentation for every system?\n",
    "\n",
    "Discussions:\n",
    "- Why is it missing? \n",
    "- Why is it obsolete? \n",
    "  "
   ]
  },
  {
   "cell_type": "markdown",
   "metadata": {
    "nbpresent": {
     "id": "98b543c9-826b-4b3e-a826-a857c4950826"
    },
    "slideshow": {
     "slide_type": "slide"
    }
   },
   "source": [
    "## Why is Architectural Documentation Often Obsolete?\n",
    "\n",
    " - it's hard to maintain\n",
    " - link (traceability ) between architecture and code is often not obvious\n",
    " - no perceived value for the customer\n",
    " - because people make changes that are not aligned (**architectural drift**)\n",
    "   - possible solution: enforcing architectural constraints \n",
    "     - special DSL for architecture constraints definition\n",
    "     - implemented as Unit Tests  \n"
   ]
  },
  {
   "cell_type": "markdown",
   "metadata": {
    "slideshow": {
     "slide_type": "slide"
    }
   },
   "source": [
    "# What Happens When Developers Are Not Aware of Architecture?\n",
    "\n",
    "e.g. possible scenario of dev not being aware of architecture => architectural anti-pattern.\n",
    "\n",
    " ![](images/adjacent_connector_.png)"
   ]
  },
  {
   "cell_type": "markdown",
   "metadata": {
    "nbpresent": {
     "id": "12265de9-f1a2-4460-9442-7e0bc5a8ac2f"
    },
    "slideshow": {
     "slide_type": "slide"
    }
   },
   "source": [
    "## What to Do? \n",
    "\n",
    "- reading the code? ArgoUML vs. War and Peace\n",
    "\n",
    "\n",
    "- **Reverse Reengineering** -- a general process for making sense of code bases\n",
    "- **Reengineering** -- reverse engineering + restructuring\n",
    "- **Architecture recovery** -- Specific method: **Symphony** \n"
   ]
  },
  {
   "cell_type": "markdown",
   "metadata": {
    "slideshow": {
     "slide_type": "slide"
    }
   },
   "source": [
    "# Reverse Engineering & Reengineering\n",
    "\n",
    "\n",
    "> “Reverse Engineering is the process of analyzing a subject system to identify the system’s components and their interrela- tionships and create representations of the system in another form or at a higher level of abstraction.”\n",
    "\n",
    "> “Reengineering ... is the examination and alteration of a subject system to reconstitute it in a new form and the subsequent im- plementation of the new form.”\n",
    "\n",
    "(Demeyer et al., Object Oriented Reengineering Patterns,http://scg.unibe.ch/download/oorp/OORP.pdf)\n",
    "\n",
    "\n"
   ]
  },
  {
   "cell_type": "markdown",
   "metadata": {
    "nbpresent": {
     "id": "c18ad8cc-34b4-4daf-9179-e87ff9ce7c45"
    },
    "slideshow": {
     "slide_type": "slide"
    }
   },
   "source": [
    "# Symphony: A Process for Reconstruction\n",
    "\n",
    "- By van Deursen et al.\n",
    "- Recovers views and viewpoints as in IEE 1471 / 3+1\n",
    "- Distinguishes between three kinds of views:\n",
    "    1. Source \n",
    "     - view extracted from artifacts of a sytem\n",
    "     - not necessarily architectural (e.g. AST)\n",
    "    1. Target  \n",
    "     - describes architecture-as-implemented\n",
    "     - any of the 3+1 views\n",
    "    1. Hypothetical \n",
    "     - architecture-as-designed\n",
    "     - existing documentation\n",
    "     - presentations\n"
   ]
  },
  {
   "cell_type": "markdown",
   "metadata": {
    "nbpresent": {
     "id": "153ce2b3-0f79-40f5-b30c-6880310eb713"
    },
    "slideshow": {
     "slide_type": "slide"
    }
   },
   "source": [
    "## Symphony Stages: Design (blue) & Execution (yellow)\n",
    "\n",
    "![sympony](images/symphony.png)"
   ]
  },
  {
   "cell_type": "markdown",
   "metadata": {
    "nbpresent": {
     "id": "aa8de013-6d61-4143-b569-ec0d48d819ea"
    },
    "slideshow": {
     "slide_type": "slide"
    }
   },
   "source": [
    "## Symphony: Design\n",
    "\n",
    "Problem elicitation\n",
    "- “Business case” for reconstruction\n",
    "- What is the problem? \n",
    "\n",
    "Concept determination\n",
    "- What architectural information is needed to solve the problem?\n",
    "- Which viewpoints are relevant?\n"
   ]
  },
  {
   "cell_type": "markdown",
   "metadata": {
    "nbpresent": {
     "id": "e58ec226-7e38-48fe-836f-441dab573240"
    },
    "slideshow": {
     "slide_type": "slide"
    }
   },
   "source": [
    "## Symphony: Execution\n",
    "\n",
    "Data gathering\n",
    " - collecting and extracting low-level source views\n",
    " - can involve a multitude of sources\n",
    " \n",
    " \n",
    "Knowledge inference\n",
    " - going from source to target views\n",
    " - abstracting low-level information\n",
    " \n",
    " \n",
    "Information interpretation \n",
    " - analysis, creating new documentation\n"
   ]
  },
  {
   "cell_type": "markdown",
   "metadata": {
    "nbpresent": {
     "id": "f3af11a9-0681-4e94-a27c-dc9c132e7b3e"
    },
    "slideshow": {
     "slide_type": "slide"
    }
   },
   "source": [
    "# Meta-Architecture of Architecture Recovery Tools\n",
    "\n",
    "### Extract-Abstract-Present\n",
    "\n",
    "    Extract = data gathering\n",
    "\n",
    "    Abstract = knowledge inference\n",
    "\n",
    "    Present = information interpretation\n",
    "\n",
    "![](images/eap2.png)"
   ]
  },
  {
   "cell_type": "markdown",
   "metadata": {
    "nbpresent": {
     "id": "9e411dcf-dae6-427f-ae6d-91466807c24c"
    },
    "slideshow": {
     "slide_type": "slide"
    }
   },
   "source": [
    "## [Hands On - Basic Data Gathering](https://github.com/mircealungu/itu-architecture-reconstruction/blob/master/materials/code/Data_Gathering_Intro.ipynb)\n"
   ]
  },
  {
   "cell_type": "markdown",
   "metadata": {
    "nbpresent": {
     "id": "50a213e3-7f7b-470c-80a6-2d5af79cd943"
    },
    "slideshow": {
     "slide_type": "slide"
    }
   },
   "source": [
    "# Individual Assignment\n",
    "\n",
    "\n",
    "Goal is to \n",
    "- recover the architecture of an existing system\n",
    "- document the process and the outcome in an individual report\n",
    "\n",
    "Reports are: \n",
    " - due in Week TBD\n",
    " - submittable one week before for feedback\n",
    "\n",
    "Tools \n",
    "- are important for recovery\n",
    "- **if you can program**, then this is your chance to be coding **analysis tools** over the upcoming lectures\n",
    "  - you can still code as a team! (you only have to write the analysis on your own)\n",
    "- **if you can't program**, then you'll have to find third party tools (the time the programming ones spend on programming, you'll be spending on finding third party tools) \n",
    "\n",
    "\n",
    "\n"
   ]
  },
  {
   "cell_type": "markdown",
   "metadata": {
    "collapsed": true,
    "nbpresent": {
     "id": "2c2fdf24-a762-4208-89b5-bdf3cc593cb0"
    },
    "slideshow": {
     "slide_type": "slide"
    }
   },
   "source": [
    "# Individual Assignment (contd.)\n",
    "\n",
    "\n",
    "### Case-Study Systems\n",
    "\n",
    "- The [Zeeguu Project](https://zeeguu.com): \n",
    "  - [Zeeguu-API](https://github.com/zeeguu-ecosystem/Zeeguu-API)\n",
    "  - [Zeeguu-React](https://github.com/zeeguu-ecosystem/zeeguu-react) \n",
    "  - invite code: zeeguu-beta\n",
    "  - a [paper](https://github.com/zeeguu-ecosystem/CHI18-Paper/blob/master/!AsWeMayStudy--Preprint.pdf) about the system\n",
    "- You can analyze another system of a comparable complexity\n",
    "  - confirm with me or the TAs about the appropriateness of the system\n",
    "\n",
    " \n",
    " "
   ]
  },
  {
   "cell_type": "markdown",
   "metadata": {
    "nbpresent": {
     "id": "0af99fab-70b8-45eb-bd22-8e7404e89a1f"
    }
   },
   "source": [
    "# For Next Week\n",
    "\n",
    "  \n",
    "  \n",
    "- (Watch the [live coding session of last year](https://app.vidgrid.com/view/qs3vPcPnjnKT?autoplay=1&t=3751.587316)), try to replicate it, [submit questions about it](https://forms.gle/bsxyKVNfm2LdHaMm7)\n",
    "\n",
    "\n",
    "- Read \n",
    "  - (today's) [Symphony paper](https://www.informatik.uni-bremen.de/st/papers/symphony-wicsa04.pdf) and if something is not clear [write questions about it](https://forms.gle/bsxyKVNfm2LdHaMm7)\n",
    "  - (next time) [What Architects Should Know About Reverse Engineering and Rengineering](https://www.informatik.uni-bremen.de/st/papers/keynote-wicsa05.pdf)\n",
    "  - (next time) [Reflexion Models paper](http://www.cs.kent.edu/~jmaletic/cs63902/Papers/Murphy95.pdf) \n",
    "\n",
    "\n"
   ]
  }
 ],
 "metadata": {
  "anaconda-cloud": {},
  "celltoolbar": "Slideshow",
  "kernelspec": {
   "display_name": "Python 3",
   "language": "python",
   "name": "python3"
  },
  "language_info": {
   "codemirror_mode": {
    "name": "ipython",
    "version": 3
   },
   "file_extension": ".py",
   "mimetype": "text/x-python",
   "name": "python",
   "nbconvert_exporter": "python",
   "pygments_lexer": "ipython3",
   "version": "3.9.2"
  },
  "nbpresent": {
   "slides": {
    "17521e80-3bde-455a-881b-42728aff785a": {
     "id": "17521e80-3bde-455a-881b-42728aff785a",
     "prev": "22218b9f-9db8-4088-a0e5-a6577b5d86b5",
     "regions": {
      "f480b8bf-a6fe-4a54-ae41-0ad25c4e4996": {
       "attrs": {
        "height": 0.8,
        "width": 0.8,
        "x": 0.1,
        "y": 0.1
       },
       "content": {
        "cell": "0af99fab-70b8-45eb-bd22-8e7404e89a1f",
        "part": "whole"
       },
       "id": "f480b8bf-a6fe-4a54-ae41-0ad25c4e4996"
      }
     }
    },
    "22218b9f-9db8-4088-a0e5-a6577b5d86b5": {
     "id": "22218b9f-9db8-4088-a0e5-a6577b5d86b5",
     "prev": "332ed7e3-9c5f-4a56-ac05-53af1e98c475",
     "regions": {
      "2d467e77-4473-4c03-be34-bc61141e58ee": {
       "attrs": {
        "height": 0.8,
        "width": 0.8,
        "x": 0.1,
        "y": 0.1
       },
       "content": {
        "cell": "2c2fdf24-a762-4208-89b5-bdf3cc593cb0",
        "part": "whole"
       },
       "id": "2d467e77-4473-4c03-be34-bc61141e58ee"
      }
     }
    },
    "332ed7e3-9c5f-4a56-ac05-53af1e98c475": {
     "id": "332ed7e3-9c5f-4a56-ac05-53af1e98c475",
     "prev": "6ec24f10-d8df-4db1-a196-ace3de881235",
     "regions": {
      "b8b07e11-dbbb-43a5-b6be-fcc411f1b372": {
       "attrs": {
        "height": 0.8,
        "width": 0.8,
        "x": 0.1,
        "y": 0.1
       },
       "content": {
        "cell": "50a213e3-7f7b-470c-80a6-2d5af79cd943",
        "part": "whole"
       },
       "id": "b8b07e11-dbbb-43a5-b6be-fcc411f1b372"
      }
     }
    },
    "66924b45-bbf6-4047-a805-0642f24ac4ce": {
     "id": "66924b45-bbf6-4047-a805-0642f24ac4ce",
     "prev": "17521e80-3bde-455a-881b-42728aff785a",
     "regions": {
      "b9cae006-6a4c-473d-9f05-83a65833d57b": {
       "attrs": {
        "height": 0.8,
        "width": 0.8,
        "x": 0.1,
        "y": 0.1
       },
       "content": {
        "cell": "8b93a8c9-ae09-49be-a37d-ed3126fdcec0",
        "part": "whole"
       },
       "id": "b9cae006-6a4c-473d-9f05-83a65833d57b"
      }
     }
    },
    "6ec24f10-d8df-4db1-a196-ace3de881235": {
     "id": "6ec24f10-d8df-4db1-a196-ace3de881235",
     "prev": "f1ca8562-b562-4e64-b57a-d0a6ebd5a0a8",
     "regions": {
      "2950f333-23f0-40c7-adc7-34aa1e87d96f": {
       "attrs": {
        "height": 0.8,
        "width": 0.8,
        "x": 0.1,
        "y": 0.1
       },
       "content": {
        "cell": "9e411dcf-dae6-427f-ae6d-91466807c24c",
        "part": "whole"
       },
       "id": "2950f333-23f0-40c7-adc7-34aa1e87d96f"
      }
     }
    },
    "c6b41946-fb26-45ce-a889-9c4a62aa690f": {
     "id": "c6b41946-fb26-45ce-a889-9c4a62aa690f",
     "prev": null,
     "regions": {
      "1d605165-64cd-4daa-99e0-1640ba2742e8": {
       "attrs": {
        "height": 0.8,
        "width": 0.8,
        "x": 0.1,
        "y": 0.1
       },
       "content": {
        "cell": "41bdcf52-3057-4627-83c0-db025bc87d66",
        "part": "whole"
       },
       "id": "1d605165-64cd-4daa-99e0-1640ba2742e8"
      }
     }
    },
    "f1ca8562-b562-4e64-b57a-d0a6ebd5a0a8": {
     "id": "f1ca8562-b562-4e64-b57a-d0a6ebd5a0a8",
     "prev": "c6b41946-fb26-45ce-a889-9c4a62aa690f",
     "regions": {
      "5c6fdf18-0fd5-496d-bab3-b1352c18e009": {
       "attrs": {
        "height": 0.8,
        "width": 0.8,
        "x": 0.1,
        "y": 0.1
       },
       "content": {
        "cell": "63ad0ca4-bc73-447d-981f-8cad795134fe",
        "part": "whole"
       },
       "id": "5c6fdf18-0fd5-496d-bab3-b1352c18e009"
      }
     }
    }
   },
   "themes": {}
  }
 },
 "nbformat": 4,
 "nbformat_minor": 1
}
