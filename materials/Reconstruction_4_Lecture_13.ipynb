{
 "cells": [
  {
   "cell_type": "markdown",
   "metadata": {},
   "source": [
    "## Lecture #13\n",
    "# Architecture Reconstruction (Part IV): Evolution Analysis\n",
    "\n",
    "M. Lungu \n",
    "\n",
    "mlun@itu.dk\n",
    "\n",
    "April 27th, 2020\n",
    "\n",
    "\n",
    "**NOTE**: If you want to follow along during the interactive part, clone/download **Evolution_Analysis.ipynb** from:\n",
    "    \n",
    "    https://github.com/mircealungu/itu-architecture-reconstruction/\n",
    "    \n"
   ]
  },
  {
   "cell_type": "markdown",
   "metadata": {},
   "source": [
    "### Plan for the day\n",
    "\n",
    "- An Overview of [Evolution Analysis](Evolution_Analysis.ipynb)\n",
    "- More Notes About Individual Projects\n"
   ]
  },
  {
   "cell_type": "markdown",
   "metadata": {},
   "source": [
    "### More Notes on Individual Projects\n",
    "- Goal: you become a little more of an expert in (at least) one of the techniques\n",
    "  - static analysis\n",
    "  - dynamic analysis\n",
    "  - evolutionary analysis\n",
    "  \n",
    "- Symphony: problem statement e.g.\n",
    "  - reconstruct basic architectural viewpoints to help newcomers\n",
    "  - reflexion model on your own system \n",
    "  \n",
    "- It's cool if you choose another language\n",
    "  - e.g. somebody plans to investigate static & dynamic analysis in C#\n",
    "  \n",
    "- We'll take into account your background when reading the assignment\n",
    "  \n",
    "  \n",
    "\n"
   ]
  },
  {
   "cell_type": "markdown",
   "metadata": {},
   "source": [
    "### References\n",
    "\n",
    "- Yesterday's Weather. Girba et al.\n",
    "- Program Evolution: Processes of Software Change. Lehman, Belady.\n",
    "- Software Aging. David Lorge Parnas\n",
    "- Ranking software artifacts. F Perin, L Renggli, and J Ressia\n",
    "- Detection of Logical Coupling Based on Product Release History. Gall et al.\n"
   ]
  }
 ],
 "metadata": {
  "anaconda-cloud": {},
  "kernelspec": {
   "display_name": "Python [conda env:py3]",
   "language": "python",
   "name": "conda-env-py3-py"
  },
  "language_info": {
   "codemirror_mode": {
    "name": "ipython",
    "version": 3
   },
   "file_extension": ".py",
   "mimetype": "text/x-python",
   "name": "python",
   "nbconvert_exporter": "python",
   "pygments_lexer": "ipython3",
   "version": "3.6.2"
  }
 },
 "nbformat": 4,
 "nbformat_minor": 1
}
