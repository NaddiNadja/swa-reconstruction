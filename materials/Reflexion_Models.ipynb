{
 "cells": [
  {
   "cell_type": "markdown",
   "metadata": {},
   "source": [
    "# Reflexion Models\n"
   ]
  },
  {
   "cell_type": "markdown",
   "metadata": {},
   "source": [
    "A reflexion model indicates where the source model and high-level model differ\n",
    "\n",
    "- Convergences\n",
    "- Divergences\n",
    "- Absences\n",
    "\n",
    "\n",
    "Can be considered as a *type of architectural viewpoint*"
   ]
  },
  {
   "cell_type": "markdown",
   "metadata": {},
   "source": [
    "## Case Study\n",
    "\n",
    "The VMS of Linux\n",
    "\n",
    "### 1. Modules and dependencies as drawn by the maintainers\n",
    "\n",
    "![](images/reflexion_model_hypothesis.png)\n"
   ]
  },
  {
   "cell_type": "markdown",
   "metadata": {},
   "source": [
    "### 2. Mapping the modules (by the maintainers)\n",
    "\n",
    "![](images/reflexion_model_mappings.png)\n"
   ]
  },
  {
   "cell_type": "markdown",
   "metadata": {},
   "source": [
    "### 3. Comparing the As-Is vs. As-Envisioned Views\n",
    "\n",
    "![](images/reflexion_model_comparison.png)\n"
   ]
  },
  {
   "cell_type": "markdown",
   "metadata": {},
   "source": [
    "## Source Model Computation\n",
    "\n",
    "Calculated with lightweight lexical approach to source\n",
    "code extraction\n",
    "\n",
    "- Flexible: few constraints on source\n",
    "- Tolerant: source code can be incomplete, not compilable, ..."
   ]
  },
  {
   "cell_type": "markdown",
   "metadata": {},
   "source": [
    "## Iterative Process\n",
    "\n",
    " \n",
    "    Repeat\n",
    "    * Define/Update high-level model of interest\n",
    "    * Extract a source model\n",
    "    * Define/Update declarative mapping between high- level model and source model\n",
    "    * Reflexion model computed by system\n",
    "    * Interpret the software reflexion model.\n",
    "    Until “happy”"
   ]
  },
  {
   "cell_type": "markdown",
   "metadata": {},
   "source": [
    "## Semi-automatic\n",
    "\n",
    "- Requires developer input, at least assumptions about the system\n",
    "- Has to be interpreted by developer \n",
    "\n",
    "\n",
    "\n"
   ]
  },
  {
   "cell_type": "markdown",
   "metadata": {},
   "source": [
    "### References\n",
    "\n",
    "Software Reflexion Models: Bridging the Gap between Design and Implementation. Gail C. Murphy, David Notkin, and Kevin J. Sullivan. In IEEE Trans. Softw. Eng. 27(4) p. 364—380, April 2001"
   ]
  }
 ],
 "metadata": {
  "anaconda-cloud": {},
  "kernelspec": {
   "display_name": "Python 3",
   "language": "python",
   "name": "python3"
  },
  "language_info": {
   "codemirror_mode": {
    "name": "ipython",
    "version": 3
   },
   "file_extension": ".py",
   "mimetype": "text/x-python",
   "name": "python",
   "nbconvert_exporter": "python",
   "pygments_lexer": "ipython3",
   "version": "3.9.2"
  }
 },
 "nbformat": 4,
 "nbformat_minor": 1
}
