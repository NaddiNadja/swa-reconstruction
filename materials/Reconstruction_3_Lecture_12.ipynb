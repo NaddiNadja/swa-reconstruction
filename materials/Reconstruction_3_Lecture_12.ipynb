{
 "cells": [
  {
   "cell_type": "markdown",
   "metadata": {},
   "source": [
    "## Lecture #12\n",
    "# Architecture Reconstruction (Part III): Dynamic Analysis\n",
    "\n",
    "M. Lungu \n",
    "\n",
    "mlun@itu.dk\n",
    "\n",
    "April 20th, 2020\n",
    "\n",
    "\n",
    "**NOTE**: Please clone and make sure that you can execute Basic_Abstraction_And_Presentation-Start.ipynb from: \n",
    "    \n",
    "    https://github.com/mircealungu/itu-architecture-reconstruction/\n",
    "    \n"
   ]
  }
 ],
 "metadata": {
  "anaconda-cloud": {},
  "kernelspec": {
   "display_name": "Python [conda env:py3]",
   "language": "python",
   "name": "conda-env-py3-py"
  },
  "language_info": {
   "codemirror_mode": {
    "name": "ipython",
    "version": 3
   },
   "file_extension": ".py",
   "mimetype": "text/x-python",
   "name": "python",
   "nbconvert_exporter": "python",
   "pygments_lexer": "ipython3",
   "version": "3.6.2"
  }
 },
 "nbformat": 4,
 "nbformat_minor": 1
}
