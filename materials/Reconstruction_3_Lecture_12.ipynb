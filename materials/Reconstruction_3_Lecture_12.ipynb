{
 "cells": [
  {
   "cell_type": "markdown",
   "metadata": {},
   "source": [
    "## Lecture #12\n",
    "# Architecture Reconstruction (Part III): Dynamic Analysis\n",
    "\n",
    "M. Lungu \n",
    "\n",
    "mlun@itu.dk\n",
    "\n",
    "April 20th, 2020\n",
    "\n",
    "\n",
    "**NOTE**: If you want to follow along during the interactive part, clone/download **Dynamic_Analysis.ipynb** from:\n",
    "    \n",
    "    https://github.com/mircealungu/itu-architecture-reconstruction/\n",
    "    \n"
   ]
  },
  {
   "cell_type": "markdown",
   "metadata": {},
   "source": [
    "### Plan for the day\n",
    "\n",
    "- An Introduction to [Dynamic Analysis](Dynamic_Analysis.ipynb)\n",
    "- Trailer: Software Engineering Specialization\n",
    "- Discussion: Individual Assignment"
   ]
  },
  {
   "cell_type": "markdown",
   "metadata": {},
   "source": [
    "### Trailer: Software Engineering Specialization\n",
    "\n",
    "- you can have me as advisor :)\n",
    "\n",
    "but even more: \n",
    "- multiple lecturers\n",
    "- multiple topics\n",
    "- lots to choose from\n"
   ]
  },
  {
   "cell_type": "markdown",
   "metadata": {},
   "source": [
    "### Individual Assignment / Deliverable\n",
    "\n",
    "What: **Reporting on an Architecture Reconstruction Project** \n",
    "\n",
    "\n",
    "**Deadlines**: Submit **first draft** by the end of week 18 (May 3rd) if you want early feedback; otherwise submit together with the final report.\n",
    "\n",
    "Goal: The report should present the architecture reconstruction process done on an open source system. You have to have a very strong argument for analyzing something that’s not open source. The report should be structured along the five steps of the Symphony process. Make sure to also provide a brief description of the (semi-)automated tools that you used. \n",
    "\n",
    "The system can be Zeeguu-Ecosystem (https://github.com/zeeguu-ecosystem/) a component of which (Core) we are using as a case study during the class) or can be another system that you are interested in. Your report should show that you have developed a good understanding of the system, and much more importantly, that you have a good understanding of the techniques of architecture reconstruction. \n",
    "\n",
    "In fact, if you decide to focus more on tool building and starting from the examples that we do in class you make them into slightly more advanced/intelligent analysis tools, then you can spend less time on the system analysis itself. And the other way around.\n",
    "\n",
    "However, although we would be happiest to see that you take the code that we build in class and you improve on it building your own analysis toolbox, if you are not confortable with this ***(i.e. with coding)*** you can also: \n",
    "\n",
    "* use the analysis scripts we did in class and focus more on the manual investigation of the source code and other resources around the project\n",
    "\n",
    "* **use a third party tool** that does equivalent analysis to what we do in class; however, in this case make sure to start early in evaluating tools because not all are easy to use;\n",
    "\n",
    "You choose which architecturally relevant viewpoints you want to include in your report. \n",
    "\n",
    "* A module view is the simplest, and this is also why we focused the first two AR lectures on it. However, make sure to explain it well by investigating and eventually describing the roles of both the modules and the dependencies (remember the discussion about “verbs and nouns” in Lecture 11). \n",
    "\n",
    "* If you decide to extract a reflexion model that’s cool. Ask one of the developers of your system for a hypothetical diagram; or find one in the documentation and see whether the system conforms to it. \n",
    "\n",
    "* Other viewpoints would definitely be interesting to see. \n",
    "\n",
    "\n",
    "*** Effort should be proportional to 4 days of work (you should have a bit of time to become immersed in the problem)*** \n",
    "-- (possible time allocation: 60% analysis  -- 40% writing)\n",
    "\n",
    "\n",
    "Focus on some part that's most intriguing to you. "
   ]
  }
 ],
 "metadata": {
  "anaconda-cloud": {},
  "kernelspec": {
   "display_name": "Python [conda env:py3]",
   "language": "python",
   "name": "conda-env-py3-py"
  },
  "language_info": {
   "codemirror_mode": {
    "name": "ipython",
    "version": 3
   },
   "file_extension": ".py",
   "mimetype": "text/x-python",
   "name": "python",
   "nbconvert_exporter": "python",
   "pygments_lexer": "ipython3",
   "version": "3.6.2"
  }
 },
 "nbformat": 4,
 "nbformat_minor": 1
}
