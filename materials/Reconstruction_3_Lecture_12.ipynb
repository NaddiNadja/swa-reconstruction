{
 "cells": [
  {
   "cell_type": "markdown",
   "metadata": {},
   "source": [
    "## Lecture #12\n",
    "# Architecture Reconstruction (Part III): Evolution Analysis\n",
    "\n",
    "M. Lungu \n",
    "\n",
    "mlun@itu.dk\n",
    "\n",
    "\n",
    "\n",
    "**NOTE**: If you want to follow along during the interactive part, clone/download **Evolution_Analysis.ipynb** from:\n",
    "    \n",
    "    https://github.com/mircealungu/itu-architecture-reconstruction/\n",
    "    \n"
   ]
  },
  {
   "cell_type": "markdown",
   "metadata": {},
   "source": [
    "### Plan for the day\n",
    "\n",
    "- An Overview of [Evolution Analysis](Evolution_Analysis.ipynb)\n",
    "\n",
    "- Promise: Polymetric views as module viewpoints\n",
    "\n",
    "\n",
    "- Note for individual project: remmeber to look at the code; most of the approaches that we show you here are shortcuts\n",
    "\n",
    "\n",
    "- Ad: rate your python knowledge enroll [here](https://forms.gle/j9LnEqHHtn4uUZa88)\n",
    "\n",
    "- Next time: Guest Lecturer - Tudor Girba, Feenk\n"
   ]
  }
 ],
 "metadata": {
  "anaconda-cloud": {},
  "kernelspec": {
   "display_name": "Python 3",
   "language": "python",
   "name": "python3"
  },
  "language_info": {
   "codemirror_mode": {
    "name": "ipython",
    "version": 3
   },
   "file_extension": ".py",
   "mimetype": "text/x-python",
   "name": "python",
   "nbconvert_exporter": "python",
   "pygments_lexer": "ipython3",
   "version": "3.9.2"
  }
 },
 "nbformat": 4,
 "nbformat_minor": 1
}
