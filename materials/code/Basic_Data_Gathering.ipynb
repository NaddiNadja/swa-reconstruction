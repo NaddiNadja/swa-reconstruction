{
  "nbformat": 4,
  "nbformat_minor": 0,
  "metadata": {
    "colab": {
      "name": "Basic Data Gathering.ipynb",
      "provenance": [],
      "collapsed_sections": [
        "mPBzAKl7V4j1",
        "DW-y_2UgXANn",
        "DEGzwNcGXkMO",
        "o0exsKLxYeRx",
        "LfC6yFVgZHH6"
      ]
    },
    "kernelspec": {
      "name": "python3",
      "display_name": "Python 3"
    },
    "language_info": {
      "name": "python"
    }
  },
  "cells": [
    {
      "cell_type": "markdown",
      "metadata": {
        "id": "ASCHKm-WYHqy"
      },
      "source": [
        ""
      ]
    },
    {
      "cell_type": "markdown",
      "metadata": {
        "id": "UpiozxqmVqUc"
      },
      "source": [
        "# Basic Data Gathering\n",
        "\n",
        "Extracting basic dependencies between python modules (every .py file in Python is considered a module)"
      ]
    },
    {
      "cell_type": "code",
      "metadata": {
        "colab": {
          "base_uri": "https://localhost:8080/"
        },
        "id": "Iykfb-UYnqux",
        "outputId": "fe368e7b-c8a1-4d4a-8c9b-e1105c84614e"
      },
      "source": [
        "import sys\n",
        "!{sys.executable} -m pip install gitpython\n",
        "!{sys.executable} -m pip install pyvis"
      ],
      "execution_count": 1,
      "outputs": [
        {
          "output_type": "stream",
          "text": [
            "Collecting gitpython\n",
            "\u001b[?25l  Downloading https://files.pythonhosted.org/packages/a6/99/98019716955ba243657daedd1de8f3a88ca1f5b75057c38e959db22fb87b/GitPython-3.1.14-py3-none-any.whl (159kB)\n",
            "\u001b[K     |████████████████████████████████| 163kB 5.2MB/s \n",
            "\u001b[?25hCollecting gitdb<5,>=4.0.1\n",
            "\u001b[?25l  Downloading https://files.pythonhosted.org/packages/ea/e8/f414d1a4f0bbc668ed441f74f44c116d9816833a48bf81d22b697090dba8/gitdb-4.0.7-py3-none-any.whl (63kB)\n",
            "\u001b[K     |████████████████████████████████| 71kB 5.9MB/s \n",
            "\u001b[?25hCollecting smmap<5,>=3.0.1\n",
            "  Downloading https://files.pythonhosted.org/packages/68/ee/d540eb5e5996eb81c26ceffac6ee49041d473bc5125f2aa995cf51ec1cf1/smmap-4.0.0-py2.py3-none-any.whl\n",
            "Installing collected packages: smmap, gitdb, gitpython\n",
            "Successfully installed gitdb-4.0.7 gitpython-3.1.14 smmap-4.0.0\n",
            "Collecting pyvis\n",
            "  Downloading https://files.pythonhosted.org/packages/07/d1/e87844ec86e96df7364f21af2263ad6030c0d727660ae89935c7af56a540/pyvis-0.1.9-py3-none-any.whl\n",
            "Requirement already satisfied: jinja2>=2.9.6 in /usr/local/lib/python3.7/dist-packages (from pyvis) (2.11.3)\n",
            "Requirement already satisfied: networkx>=1.11 in /usr/local/lib/python3.7/dist-packages (from pyvis) (2.5.1)\n",
            "Requirement already satisfied: ipython>=5.3.0 in /usr/local/lib/python3.7/dist-packages (from pyvis) (5.5.0)\n",
            "Collecting jsonpickle>=1.4.1\n",
            "  Downloading https://files.pythonhosted.org/packages/bb/1a/f2db026d4d682303793559f1c2bb425ba3ec0d6fd7ac63397790443f2461/jsonpickle-2.0.0-py2.py3-none-any.whl\n",
            "Requirement already satisfied: MarkupSafe>=0.23 in /usr/local/lib/python3.7/dist-packages (from jinja2>=2.9.6->pyvis) (1.1.1)\n",
            "Requirement already satisfied: decorator<5,>=4.3 in /usr/local/lib/python3.7/dist-packages (from networkx>=1.11->pyvis) (4.4.2)\n",
            "Requirement already satisfied: simplegeneric>0.8 in /usr/local/lib/python3.7/dist-packages (from ipython>=5.3.0->pyvis) (0.8.1)\n",
            "Requirement already satisfied: pygments in /usr/local/lib/python3.7/dist-packages (from ipython>=5.3.0->pyvis) (2.6.1)\n",
            "Requirement already satisfied: traitlets>=4.2 in /usr/local/lib/python3.7/dist-packages (from ipython>=5.3.0->pyvis) (5.0.5)\n",
            "Requirement already satisfied: setuptools>=18.5 in /usr/local/lib/python3.7/dist-packages (from ipython>=5.3.0->pyvis) (54.2.0)\n",
            "Requirement already satisfied: prompt-toolkit<2.0.0,>=1.0.4 in /usr/local/lib/python3.7/dist-packages (from ipython>=5.3.0->pyvis) (1.0.18)\n",
            "Requirement already satisfied: pexpect; sys_platform != \"win32\" in /usr/local/lib/python3.7/dist-packages (from ipython>=5.3.0->pyvis) (4.8.0)\n",
            "Requirement already satisfied: pickleshare in /usr/local/lib/python3.7/dist-packages (from ipython>=5.3.0->pyvis) (0.7.5)\n",
            "Requirement already satisfied: importlib-metadata; python_version < \"3.8\" in /usr/local/lib/python3.7/dist-packages (from jsonpickle>=1.4.1->pyvis) (3.10.1)\n",
            "Requirement already satisfied: ipython-genutils in /usr/local/lib/python3.7/dist-packages (from traitlets>=4.2->ipython>=5.3.0->pyvis) (0.2.0)\n",
            "Requirement already satisfied: six>=1.9.0 in /usr/local/lib/python3.7/dist-packages (from prompt-toolkit<2.0.0,>=1.0.4->ipython>=5.3.0->pyvis) (1.15.0)\n",
            "Requirement already satisfied: wcwidth in /usr/local/lib/python3.7/dist-packages (from prompt-toolkit<2.0.0,>=1.0.4->ipython>=5.3.0->pyvis) (0.2.5)\n",
            "Requirement already satisfied: ptyprocess>=0.5 in /usr/local/lib/python3.7/dist-packages (from pexpect; sys_platform != \"win32\"->ipython>=5.3.0->pyvis) (0.7.0)\n",
            "Requirement already satisfied: typing-extensions>=3.6.4; python_version < \"3.8\" in /usr/local/lib/python3.7/dist-packages (from importlib-metadata; python_version < \"3.8\"->jsonpickle>=1.4.1->pyvis) (3.7.4.3)\n",
            "Requirement already satisfied: zipp>=0.5 in /usr/local/lib/python3.7/dist-packages (from importlib-metadata; python_version < \"3.8\"->jsonpickle>=1.4.1->pyvis) (3.4.1)\n",
            "Installing collected packages: jsonpickle, pyvis\n",
            "Successfully installed jsonpickle-2.0.0 pyvis-0.1.9\n"
          ],
          "name": "stdout"
        }
      ]
    },
    {
      "cell_type": "code",
      "metadata": {
        "id": "hRVcoaLsoDYx"
      },
      "source": [
        "# all the needed imports\n",
        "import os\n",
        "import sys\n",
        "import re\n",
        "\n",
        "import pathlib\n",
        "from pathlib import Path\n",
        "\n",
        "import networkx as nx\n",
        "import matplotlib.pyplot as plt\n",
        "\n",
        "from git import Repo"
      ],
      "execution_count": 2,
      "outputs": []
    },
    {
      "cell_type": "code",
      "metadata": {
        "colab": {
          "base_uri": "https://localhost:8080/"
        },
        "id": "0ruTtX88Tb-w",
        "outputId": "bd1b9933-cca5-4ea9-8860-376a478d03a0"
      },
      "source": [
        "cwd = os.getcwd()\n",
        "print(cwd)\n"
      ],
      "execution_count": 3,
      "outputs": [
        {
          "output_type": "stream",
          "text": [
            "/content\n"
          ],
          "name": "stdout"
        }
      ]
    },
    {
      "cell_type": "code",
      "metadata": {
        "id": "Ssb7D6FsoD6F"
      },
      "source": [
        "# NOTE: this must end in /\n",
        "CODE_ROOT_FOLDER=\"/content/Zeegu-Core/\"\n"
      ],
      "execution_count": 4,
      "outputs": []
    },
    {
      "cell_type": "code",
      "metadata": {
        "id": "NeJVTDwroSxt"
      },
      "source": [
        "if not os.path.exists(CODE_ROOT_FOLDER):\n",
        "  Repo.clone_from(\"https://github.com/zeeguu-ecosystem/Zeeguu-Core\", CODE_ROOT_FOLDER)\n"
      ],
      "execution_count": 5,
      "outputs": []
    },
    {
      "cell_type": "code",
      "metadata": {
        "id": "8bMRIkgQoUsn"
      },
      "source": [
        "repo = Repo(CODE_ROOT_FOLDER)"
      ],
      "execution_count": 6,
      "outputs": []
    },
    {
      "cell_type": "code",
      "metadata": {
        "id": "Njkjj4fzUV2E"
      },
      "source": [
        "# utility functions used later\n",
        "\n",
        "# full path to the file given a relative file_name\n",
        "def file_path(file_name):\n",
        "    return CODE_ROOT_FOLDER+file_name"
      ],
      "execution_count": 7,
      "outputs": []
    },
    {
      "cell_type": "code",
      "metadata": {
        "id": "1C9goF1zob_U"
      },
      "source": [
        "# naïve way of extracting imports\n",
        "def imports(file):\n",
        "\n",
        "    def extract_import_from_line(line):\n",
        "      x = re.search(\"^import (\\S+)\", line) \n",
        "      x = re.search(\"^from (\\S+)\", line) \n",
        "      return x.group(1)\n",
        "\n",
        "    # extracts all the imported modules from a file\n",
        "    lines = [line for line in open(file)]\n",
        "    \n",
        "    all_imports = []\n",
        "    for line in lines:\n",
        "        try:\n",
        "            all_imports.append(extract_import_from_line(line))\n",
        "        except:\n",
        "            continue\n",
        "\n",
        "    return all_imports\n",
        "\n",
        "assert \"sqlalchemy\" in imports(file_path('zeeguu_core/model/user.py'))"
      ],
      "execution_count": 8,
      "outputs": []
    },
    {
      "cell_type": "code",
      "metadata": {
        "id": "zQkIMwpSpRS6"
      },
      "source": [
        "def module_from_file_path(folder_prefix, full_path):\n",
        "    # extracting a module from a file name\n",
        "    # e.g. ../zeeguu_core/model/user.py -> zeeguu_core.model.user\n",
        "    \n",
        "    file_name = full_path[len(folder_prefix):]\n",
        "    file_name = file_name.replace(\"/\",\".\")\n",
        "    file_name = file_name.replace(\".py\",\"\")\n",
        "    return file_name\n",
        "\n",
        "def module(full_path):\n",
        "    return module_from_file_path(CODE_ROOT_FOLDER, full_path)\n",
        "\n",
        "assert 'zeeguu_core.model.user' == module(file_path('zeeguu_core/model/user.py'))"
      ],
      "execution_count": 9,
      "outputs": []
    },
    {
      "cell_type": "code",
      "metadata": {
        "id": "Urj6qZH6pctR"
      },
      "source": [
        "def dependencies_graph():\n",
        "    files = Path(CODE_ROOT_FOLDER).rglob(\"*.py\")\n",
        "\n",
        "    G = nx.Graph()\n",
        "\n",
        "    for file in files:\n",
        "\n",
        "        m = module(str(file))\n",
        "        if m not in G.nodes:\n",
        "            G.add_node(m)\n",
        "\n",
        "        for each in imports(str(file)):\n",
        "            G.add_edge(m, each)\n",
        "\n",
        "    return G"
      ],
      "execution_count": 10,
      "outputs": []
    },
    {
      "cell_type": "code",
      "metadata": {
        "id": "cdu_mlxmpoSA"
      },
      "source": [
        "def draw_graph(G):\n",
        "    plt.figure(figsize=(10,6))\n",
        "    nx.draw(G)\n",
        "    plt.show()"
      ],
      "execution_count": 11,
      "outputs": []
    },
    {
      "cell_type": "code",
      "metadata": {
        "colab": {
          "base_uri": "https://localhost:8080/",
          "height": 463
        },
        "id": "HrmzBI6Vpp4s",
        "outputId": "947529bb-bac5-44c3-8713-a34f0ec6ace9"
      },
      "source": [
        "G = dependencies_graph()\n",
        "draw_graph(G)"
      ],
      "execution_count": 12,
      "outputs": [
        {
          "output_type": "display_data",
          "data": {
            "image/png": "[encoded data removed]",
            "text/plain": [
              "<Figure size 720x432 with 1 Axes>"
            ]
          },
          "metadata": {
            "tags": []
          }
        }
      ]
    },
    {
      "cell_type": "code",
      "metadata": {
        "id": "ooCM5_F7HQVt"
      },
      "source": [
        ""
      ],
      "execution_count": null,
      "outputs": []
    }
  ]
}