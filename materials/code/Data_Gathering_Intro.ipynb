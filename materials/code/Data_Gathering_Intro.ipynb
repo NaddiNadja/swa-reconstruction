{
 "cells": [
  {
   "cell_type": "markdown",
   "metadata": {},
   "source": [
    "# Data Gathring Intro"
   ]
  },
  {
   "cell_type": "code",
   "execution_count": 1,
   "metadata": {},
   "outputs": [
    {
     "name": "stdout",
     "output_type": "stream",
     "text": [
      "Collecting gitpython\n",
      "  Downloading GitPython-3.1.14-py3-none-any.whl (159 kB)\n",
      "\u001b[K     |████████████████████████████████| 159 kB 1.8 MB/s eta 0:00:01\n",
      "\u001b[?25hCollecting gitdb<5,>=4.0.1\n",
      "  Downloading gitdb-4.0.7-py3-none-any.whl (63 kB)\n",
      "\u001b[K     |████████████████████████████████| 63 kB 2.2 MB/s eta 0:00:01\n",
      "\u001b[?25hCollecting smmap<5,>=3.0.1\n",
      "  Downloading smmap-4.0.0-py2.py3-none-any.whl (24 kB)\n",
      "Installing collected packages: smmap, gitdb, gitpython\n",
      "Successfully installed gitdb-4.0.7 gitpython-3.1.14 smmap-4.0.0\n"
     ]
    }
   ],
   "source": [
    "import sys\n",
    "!{sys.executable} -m pip install gitpython"
   ]
  },
  {
   "cell_type": "code",
   "execution_count": 2,
   "metadata": {},
   "outputs": [],
   "source": [
    "ZEEGUU_CORE_FOLDER=\"/Users/mircea/Zeeguu-Core\""
   ]
  },
  {
   "cell_type": "code",
   "execution_count": 3,
   "metadata": {},
   "outputs": [
    {
     "data": {
      "text/plain": [
       "<git.repo.base.Repo '/Users/mircea/Zeeguu-Core/.git'>"
      ]
     },
     "execution_count": 3,
     "metadata": {},
     "output_type": "execute_result"
    }
   ],
   "source": [
    "from git import Repo\n",
    "\n",
    "Repo.clone_from(\"https://github.com/zeeguu-ecosystem/Zeeguu-Core\",ZEEGUU_CORE_FOLDER )"
   ]
  },
  {
   "cell_type": "code",
   "execution_count": 4,
   "metadata": {},
   "outputs": [],
   "source": [
    "repo = Repo(ZEEGUU_CORE_FOLDER)"
   ]
  },
  {
   "cell_type": "markdown",
   "metadata": {},
   "source": [
    "## Let's find the largest python file in the repository"
   ]
  },
  {
   "cell_type": "code",
   "execution_count": 5,
   "metadata": {},
   "outputs": [
    {
     "name": "stdout",
     "output_type": "stream",
     "text": [
      "Collecting pathlib\n",
      "  Using cached pathlib-1.0.1.tar.gz (49 kB)\n",
      "Building wheels for collected packages: pathlib\n",
      "  Building wheel for pathlib (setup.py) ... \u001b[?25ldone\n",
      "\u001b[?25h  Created wheel for pathlib: filename=pathlib-1.0.1-py3-none-any.whl size=14347 sha256=568fc03a00f1375eb4f515943eb8fb5e39dc230daf7f2103bbb3351b92b9475c\n",
      "  Stored in directory: /Users/mircea/Library/Caches/pip/wheels/58/e4/79/b72447132cbb865fd652d37c85cc4e0caba75da59bc3a0ee50\n",
      "Successfully built pathlib\n",
      "Installing collected packages: pathlib\n",
      "Successfully installed pathlib-1.0.1\n"
     ]
    }
   ],
   "source": [
    "!{sys.executable} -m pip install pathlib"
   ]
  },
  {
   "cell_type": "code",
   "execution_count": 6,
   "metadata": {},
   "outputs": [
    {
     "name": "stdout",
     "output_type": "stream",
     "text": [
      "/Users/mircea/Zeeguu-Core/__init__.py\n",
      "/Users/mircea/Zeeguu-Core/setup.py\n",
      "/Users/mircea/Zeeguu-Core/tools/add_standard_topics.py\n",
      "/Users/mircea/Zeeguu-Core/tools/fill_historical_reading_sessions.py\n",
      "/Users/mircea/Zeeguu-Core/tools/migrate_starredarticle_2_userarticle.py\n",
      "/Users/mircea/Zeeguu-Core/tools/tag_topics_in_danish.py\n",
      "/Users/mircea/Zeeguu-Core/tools/bookmark_info.py\n",
      "/Users/mircea/Zeeguu-Core/tools/fix_bookmark_learned_status.py\n",
      "/Users/mircea/Zeeguu-Core/tools/exercise_analysis.py\n",
      "/Users/mircea/Zeeguu-Core/tools/feed_info.py\n",
      "/Users/mircea/Zeeguu-Core/tools/article_crawler.py\n",
      "/Users/mircea/Zeeguu-Core/tools/consolidate_accounts.py\n",
      "/Users/mircea/Zeeguu-Core/tools/fix_bookmark_priorities.py\n",
      "/Users/mircea/Zeeguu-Core/tools/__init__.py\n",
      "/Users/mircea/Zeeguu-Core/tools/anonimize_users.py\n",
      "/Users/mircea/Zeeguu-Core/tools/fill_article_ids.py\n",
      "/Users/mircea/Zeeguu-Core/tools/map_article_words.py\n",
      "/Users/mircea/Zeeguu-Core/tools/feed_retrieval.py\n",
      "/Users/mircea/Zeeguu-Core/tools/remove_unreferenced_articles.py\n",
      "/Users/mircea/Zeeguu-Core/tools/learner_level.py\n",
      "/Users/mircea/Zeeguu-Core/tools/add_rssfeed.py\n",
      "/Users/mircea/Zeeguu-Core/tools/recompute_fk_difficulties_for_polish.py\n",
      "/Users/mircea/Zeeguu-Core/tools/update_particular_tag.py\n",
      "/Users/mircea/Zeeguu-Core/tools/tag_existing_articles.py\n",
      "/Users/mircea/Zeeguu-Core/tools/update_feed.py\n",
      "/Users/mircea/Zeeguu-Core/tools/forget_user.py\n",
      "/Users/mircea/Zeeguu-Core/tools/add_all_cohorts_to_teacher.py\n",
      "/Users/mircea/Zeeguu-Core/tools/past_exercises_for_user.py\n",
      "/Users/mircea/Zeeguu-Core/tools/saturate_word_interaction_history.py\n",
      "/Users/mircea/Zeeguu-Core/tools/bookmark_priorities_for_user.py\n",
      "/Users/mircea/Zeeguu-Core/tools/flatten_unicode_characters.py\n",
      "/Users/mircea/Zeeguu-Core/tools/find_broken_articles.py\n",
      "/Users/mircea/Zeeguu-Core/tools/delete_bookmark.py\n",
      "/Users/mircea/Zeeguu-Core/tools/add_article_id_to_text.py\n",
      "/Users/mircea/Zeeguu-Core/tools/users_recently_active.py\n",
      "/Users/mircea/Zeeguu-Core/tools/recompute_recommender_cache.py\n",
      "/Users/mircea/Zeeguu-Core/tools/mysql_to_elastic.py\n",
      "/Users/mircea/Zeeguu-Core/tools/delete_feed.py\n",
      "/Users/mircea/Zeeguu-Core/tools/cleanup_non_content_bits.py\n",
      "/Users/mircea/Zeeguu-Core/tools/fill_historical_exercise_sessions.py\n",
      "/Users/mircea/Zeeguu-Core/tools/migrations/fix_text_duplications.py\n",
      "/Users/mircea/Zeeguu-Core/tools/migrations/migrate_passwords.py\n",
      "/Users/mircea/Zeeguu-Core/tools/migrations/redo_hash.py\n",
      "/Users/mircea/Zeeguu-Core/tools/migrations/migrate_user_languages.py\n",
      "/Users/mircea/Zeeguu-Core/tools/migrations/towards_single_translation.py\n",
      "/Users/mircea/Zeeguu-Core/tools/migrations/add_icon_name_to_rss_feed.py\n",
      "/Users/mircea/Zeeguu-Core/tools/migrations/teacher_dashboard_migration_1/upgrade.py\n",
      "/Users/mircea/Zeeguu-Core/tools/migrations/teacher_dashboard_migration_1/downgrade.py\n",
      "/Users/mircea/Zeeguu-Core/tools/vis/generate-matrix-vis.py\n",
      "/Users/mircea/Zeeguu-Core/playground/article_retrieval.py\n",
      "/Users/mircea/Zeeguu-Core/playground/user_bookmarks.py\n",
      "/Users/mircea/Zeeguu-Core/zeeguu_core/constants.py\n",
      "/Users/mircea/Zeeguu-Core/zeeguu_core/__init__.py\n",
      "/Users/mircea/Zeeguu-Core/zeeguu_core/user_activity_hooks/article_interaction_hooks.py\n",
      "/Users/mircea/Zeeguu-Core/zeeguu_core/user_activity_hooks/__init__.py\n",
      "/Users/mircea/Zeeguu-Core/zeeguu_core/configuration/configuration.py\n",
      "/Users/mircea/Zeeguu-Core/zeeguu_core/configuration/__init__.py\n",
      "/Users/mircea/Zeeguu-Core/zeeguu_core/account_management/__init__.py\n",
      "/Users/mircea/Zeeguu-Core/zeeguu_core/account_management/user_account_creation.py\n",
      "/Users/mircea/Zeeguu-Core/zeeguu_core/word_scheduling/__init__.py\n",
      "/Users/mircea/Zeeguu-Core/zeeguu_core/word_scheduling/arts/ab_testing.py\n",
      "/Users/mircea/Zeeguu-Core/zeeguu_core/word_scheduling/arts/bookmark_priority_updater.py\n",
      "/Users/mircea/Zeeguu-Core/zeeguu_core/word_scheduling/arts/arts_base.py\n",
      "/Users/mircea/Zeeguu-Core/zeeguu_core/word_scheduling/arts/__init__.py\n",
      "/Users/mircea/Zeeguu-Core/zeeguu_core/word_scheduling/arts/algorithm_wrapper.py\n",
      "/Users/mircea/Zeeguu-Core/zeeguu_core/word_scheduling/arts/arts_rt.py\n",
      "/Users/mircea/Zeeguu-Core/zeeguu_core/word_scheduling/arts/words_to_study.py\n",
      "/Users/mircea/Zeeguu-Core/zeeguu_core/word_scheduling/arts/tools/__init__.py\n",
      "/Users/mircea/Zeeguu-Core/zeeguu_core/word_scheduling/arts/tools/algo_parameter_approximator.py\n",
      "/Users/mircea/Zeeguu-Core/zeeguu_core/word_scheduling/arts/analysis/__init__.py\n",
      "/Users/mircea/Zeeguu-Core/zeeguu_core/word_scheduling/arts/analysis/normal_distribution.py\n",
      "/Users/mircea/Zeeguu-Core/zeeguu_core/word_scheduling/arts/experiments/arts_random.py\n",
      "/Users/mircea/Zeeguu-Core/zeeguu_core/word_scheduling/arts/experiments/arts_diff_fast.py\n",
      "/Users/mircea/Zeeguu-Core/zeeguu_core/word_scheduling/arts/experiments/__init__.py\n",
      "/Users/mircea/Zeeguu-Core/zeeguu_core/word_scheduling/arts/experiments/arts_diff_slow.py\n",
      "/Users/mircea/Zeeguu-Core/zeeguu_core/util/encoding.py\n",
      "/Users/mircea/Zeeguu-Core/zeeguu_core/util/timer_logging_decorator.py\n",
      "/Users/mircea/Zeeguu-Core/zeeguu_core/util/__init__.py\n",
      "/Users/mircea/Zeeguu-Core/zeeguu_core/util/hash.py\n",
      "/Users/mircea/Zeeguu-Core/zeeguu_core/util/text.py\n",
      "/Users/mircea/Zeeguu-Core/zeeguu_core/elastic/elastic_query_builder.py\n",
      "/Users/mircea/Zeeguu-Core/zeeguu_core/elastic/__init__.py\n",
      "/Users/mircea/Zeeguu-Core/zeeguu_core/elastic/settings.py\n",
      "/Users/mircea/Zeeguu-Core/zeeguu_core/elastic/converting_from_mysql.py\n",
      "/Users/mircea/Zeeguu-Core/zeeguu_core/content_recommender/__init__.py\n",
      "/Users/mircea/Zeeguu-Core/zeeguu_core/content_recommender/elastic_first_recommender.py\n",
      "/Users/mircea/Zeeguu-Core/zeeguu_core/content_recommender/elastic_recommender.py\n",
      "/Users/mircea/Zeeguu-Core/zeeguu_core/content_recommender/mixed_recommender.py\n",
      "/Users/mircea/Zeeguu-Core/zeeguu_core/content_retriever/unicode_normalization.py\n",
      "/Users/mircea/Zeeguu-Core/zeeguu_core/content_retriever/content_cleaner.py\n",
      "/Users/mircea/Zeeguu-Core/zeeguu_core/content_retriever/__init__.py\n",
      "/Users/mircea/Zeeguu-Core/zeeguu_core/content_retriever/quality_filter.py\n",
      "/Users/mircea/Zeeguu-Core/zeeguu_core/content_retriever/article_downloader.py\n",
      "/Users/mircea/Zeeguu-Core/zeeguu_core/language/__init__.py\n",
      "/Users/mircea/Zeeguu-Core/zeeguu_core/language/difficulty_estimator_factory.py\n",
      "/Users/mircea/Zeeguu-Core/zeeguu_core/language/difficulty_estimator_strategy.py\n",
      "/Users/mircea/Zeeguu-Core/zeeguu_core/language/strategies/word_rank_difficulty_estimator.py\n",
      "/Users/mircea/Zeeguu-Core/zeeguu_core/language/strategies/word_history_difficulty_estimator.py\n",
      "/Users/mircea/Zeeguu-Core/zeeguu_core/language/strategies/cognacy_wh_difficulty_estimator.py\n",
      "/Users/mircea/Zeeguu-Core/zeeguu_core/language/strategies/flesch_kincaid_difficulty_estimator.py\n",
      "/Users/mircea/Zeeguu-Core/zeeguu_core/language/strategies/__init__.py\n",
      "/Users/mircea/Zeeguu-Core/zeeguu_core/language/strategies/default_difficulty_estimator.py\n",
      "/Users/mircea/Zeeguu-Core/zeeguu_core/language/strategies/frequency_difficulty_estimator.py\n",
      "/Users/mircea/Zeeguu-Core/zeeguu_core/language/strategies/cognacy_difficulty_estimator.py\n",
      "/Users/mircea/Zeeguu-Core/zeeguu_core/model/starred_article.py\n",
      "/Users/mircea/Zeeguu-Core/zeeguu_core/model/ranked_word.py\n",
      "/Users/mircea/Zeeguu-Core/zeeguu_core/model/user.py\n",
      "/Users/mircea/Zeeguu-Core/zeeguu_core/model/article_word.py\n",
      "/Users/mircea/Zeeguu-Core/zeeguu_core/model/user_language.py\n",
      "/Users/mircea/Zeeguu-Core/zeeguu_core/model/teacher.py\n",
      "/Users/mircea/Zeeguu-Core/zeeguu_core/model/teacher_cohort_map.py\n",
      "/Users/mircea/Zeeguu-Core/zeeguu_core/model/cohort.py\n",
      "/Users/mircea/Zeeguu-Core/zeeguu_core/model/user_article.py\n",
      "/Users/mircea/Zeeguu-Core/zeeguu_core/model/SortedExerciseLog.py\n",
      "/Users/mircea/Zeeguu-Core/zeeguu_core/model/exercise_outcome.py\n",
      "/Users/mircea/Zeeguu-Core/zeeguu_core/model/cohort_article_map.py\n",
      "/Users/mircea/Zeeguu-Core/zeeguu_core/model/session.py\n",
      "/Users/mircea/Zeeguu-Core/zeeguu_core/model/__init__.py\n",
      "/Users/mircea/Zeeguu-Core/zeeguu_core/model/search_filter.py\n",
      "/Users/mircea/Zeeguu-Core/zeeguu_core/model/feed.py\n",
      "/Users/mircea/Zeeguu-Core/zeeguu_core/model/user_preference.py\n",
      "/Users/mircea/Zeeguu-Core/zeeguu_core/model/user_activitiy_data.py\n",
      "/Users/mircea/Zeeguu-Core/zeeguu_core/model/feed_registrations.py\n",
      "/Users/mircea/Zeeguu-Core/zeeguu_core/model/user_reading_session.py\n",
      "/Users/mircea/Zeeguu-Core/zeeguu_core/model/bookmark.py\n",
      "/Users/mircea/Zeeguu-Core/zeeguu_core/model/search_subscription.py\n",
      "/Users/mircea/Zeeguu-Core/zeeguu_core/model/url.py\n",
      "/Users/mircea/Zeeguu-Core/zeeguu_core/model/user_word.py\n",
      "/Users/mircea/Zeeguu-Core/zeeguu_core/model/exercise.py\n",
      "/Users/mircea/Zeeguu-Core/zeeguu_core/model/text.py\n",
      "/Users/mircea/Zeeguu-Core/zeeguu_core/model/language.py\n",
      "/Users/mircea/Zeeguu-Core/zeeguu_core/model/topic.py\n",
      "/Users/mircea/Zeeguu-Core/zeeguu_core/model/user_exercise_session.py\n",
      "/Users/mircea/Zeeguu-Core/zeeguu_core/model/search.py\n",
      "/Users/mircea/Zeeguu-Core/zeeguu_core/model/bookmark_priority_arts.py\n",
      "/Users/mircea/Zeeguu-Core/zeeguu_core/model/student.py\n",
      "/Users/mircea/Zeeguu-Core/zeeguu_core/model/topic_subscription.py\n",
      "/Users/mircea/Zeeguu-Core/zeeguu_core/model/exercise_source.py\n",
      "/Users/mircea/Zeeguu-Core/zeeguu_core/model/domain_name.py\n",
      "/Users/mircea/Zeeguu-Core/zeeguu_core/model/topic_filter.py\n",
      "/Users/mircea/Zeeguu-Core/zeeguu_core/model/articles_cache.py\n",
      "/Users/mircea/Zeeguu-Core/zeeguu_core/model/unique_code.py\n",
      "/Users/mircea/Zeeguu-Core/zeeguu_core/model/localized_topic.py\n",
      "/Users/mircea/Zeeguu-Core/zeeguu_core/model/article.py\n",
      "/Users/mircea/Zeeguu-Core/zeeguu_core/model/learner_stats/__init__.py\n",
      "/Users/mircea/Zeeguu-Core/zeeguu_core/model/learner_stats/exercise_stats.py\n",
      "/Users/mircea/Zeeguu-Core/zeeguu_core/model/learner_stats/encounter_stats_update.py\n",
      "/Users/mircea/Zeeguu-Core/zeeguu_core/model/learner_stats/learner_stats.py\n",
      "/Users/mircea/Zeeguu-Core/zeeguu_core/model/learner_stats/encounter_stats.py\n",
      "/Users/mircea/Zeeguu-Core/zeeguu_core/model/smartwatch/__init__.py\n",
      "/Users/mircea/Zeeguu-Core/zeeguu_core/model/smartwatch/watch_interaction_event.py\n",
      "/Users/mircea/Zeeguu-Core/zeeguu_core/model/smartwatch/watch_event_type.py\n",
      "/Users/mircea/Zeeguu-Core/zeeguu_core/model/word_knowledge/word_interaction_history.py\n",
      "/Users/mircea/Zeeguu-Core/zeeguu_core/model/word_knowledge/__init__.py\n",
      "/Users/mircea/Zeeguu-Core/zeeguu_core/crowd_translations/__init__.py\n",
      "/Users/mircea/Zeeguu-Core/zeeguu_core/bookmark_quality/fit_for_study.py\n",
      "/Users/mircea/Zeeguu-Core/zeeguu_core/bookmark_quality/__init__.py\n",
      "/Users/mircea/Zeeguu-Core/zeeguu_core/bookmark_quality/negative_qualities.py\n",
      "/Users/mircea/Zeeguu-Core/zeeguu_core/bookmark_quality/top_bookmarks_for_user.py\n",
      "/Users/mircea/Zeeguu-Core/zeeguu_core/bookmark_quality/positive_qualities.py\n",
      "/Users/mircea/Zeeguu-Core/zeeguu_core/emailer/password_reset.py\n",
      "/Users/mircea/Zeeguu-Core/zeeguu_core/emailer/__init__.py\n",
      "/Users/mircea/Zeeguu-Core/zeeguu_core/emailer/zeeguu_mailer.py\n",
      "/Users/mircea/Zeeguu-Core/zeeguu_core/emailer/user_activity.py\n",
      "/Users/mircea/Zeeguu-Core/zeeguu_core/definition_of_learned/__init__.py\n",
      "/Users/mircea/Zeeguu-Core/zeeguu_core/definition_of_learned/is_learned.py\n",
      "/Users/mircea/Zeeguu-Core/analyses/difficulties_for_user.py\n",
      "/Users/mircea/Zeeguu-Core/analyses/__init__.py\n",
      "/Users/mircea/Zeeguu-Core/analyses/recent_activity.py\n",
      "/Users/mircea/Zeeguu-Core/zeeguu_core_test/test_reading_session.py\n",
      "/Users/mircea/Zeeguu-Core/zeeguu_core_test/test_retrieve_and_compute.py\n",
      "/Users/mircea/Zeeguu-Core/zeeguu_core_test/test_user.py\n",
      "/Users/mircea/Zeeguu-Core/zeeguu_core_test/test_logging.py\n",
      "/Users/mircea/Zeeguu-Core/zeeguu_core_test/testing_data.py\n",
      "/Users/mircea/Zeeguu-Core/zeeguu_core_test/test_user_word.py\n",
      "/Users/mircea/Zeeguu-Core/zeeguu_core_test/test_feed.py\n",
      "/Users/mircea/Zeeguu-Core/zeeguu_core_test/test_words_to_study.py\n",
      "/Users/mircea/Zeeguu-Core/zeeguu_core_test/test_localized_topic.py\n",
      "/Users/mircea/Zeeguu-Core/zeeguu_core_test/__init__.py\n",
      "/Users/mircea/Zeeguu-Core/zeeguu_core_test/test_words_exercise_stats.py\n",
      "/Users/mircea/Zeeguu-Core/zeeguu_core_test/test_user_article.py\n",
      "/Users/mircea/Zeeguu-Core/zeeguu_core_test/test_exercise_session.py\n",
      "/Users/mircea/Zeeguu-Core/zeeguu_core_test/test_text.py\n",
      "/Users/mircea/Zeeguu-Core/zeeguu_core_test/test_difficulty_estimator_factory.py\n",
      "/Users/mircea/Zeeguu-Core/zeeguu_core_test/test_cohort.py\n",
      "/Users/mircea/Zeeguu-Core/zeeguu_core_test/test_domain.py\n",
      "/Users/mircea/Zeeguu-Core/zeeguu_core_test/test_url.py\n",
      "/Users/mircea/Zeeguu-Core/zeeguu_core_test/test_bookmark.py\n",
      "/Users/mircea/Zeeguu-Core/zeeguu_core_test/test_watch_event.py\n",
      "/Users/mircea/Zeeguu-Core/zeeguu_core_test/test_article.py\n",
      "/Users/mircea/Zeeguu-Core/zeeguu_core_test/test_user_preferences.py\n",
      "/Users/mircea/Zeeguu-Core/zeeguu_core_test/test_language.py\n",
      "/Users/mircea/Zeeguu-Core/zeeguu_core_test/model_test_mixin.py\n",
      "/Users/mircea/Zeeguu-Core/zeeguu_core_test/test_data/__init__.py\n",
      "/Users/mircea/Zeeguu-Core/zeeguu_core_test/test_data/mocking_the_web.py\n",
      "/Users/mircea/Zeeguu-Core/zeeguu_core_test/rules/exercise_rule.py\n",
      "/Users/mircea/Zeeguu-Core/zeeguu_core_test/rules/outcome_rule.py\n",
      "/Users/mircea/Zeeguu-Core/zeeguu_core_test/rules/cohort_rule.py\n",
      "/Users/mircea/Zeeguu-Core/zeeguu_core_test/rules/url_rule.py\n",
      "/Users/mircea/Zeeguu-Core/zeeguu_core_test/rules/user_article_rule.py\n",
      "/Users/mircea/Zeeguu-Core/zeeguu_core_test/rules/language_rule.py\n",
      "/Users/mircea/Zeeguu-Core/zeeguu_core_test/rules/user_exercise_session_rule.py\n",
      "/Users/mircea/Zeeguu-Core/zeeguu_core_test/rules/bookmark_rule.py\n",
      "/Users/mircea/Zeeguu-Core/zeeguu_core_test/rules/__init__.py\n",
      "/Users/mircea/Zeeguu-Core/zeeguu_core_test/rules/article_rule.py\n",
      "/Users/mircea/Zeeguu-Core/zeeguu_core_test/rules/rss_feed_rule.py\n",
      "/Users/mircea/Zeeguu-Core/zeeguu_core_test/rules/watch_interaction_event_rule.py\n",
      "/Users/mircea/Zeeguu-Core/zeeguu_core_test/rules/source_rule.py\n",
      "/Users/mircea/Zeeguu-Core/zeeguu_core_test/rules/watch_event_type_rule.py\n",
      "/Users/mircea/Zeeguu-Core/zeeguu_core_test/rules/user_word_rule.py\n",
      "/Users/mircea/Zeeguu-Core/zeeguu_core_test/rules/user_reading_session_rule.py\n",
      "/Users/mircea/Zeeguu-Core/zeeguu_core_test/rules/text_rule.py\n",
      "/Users/mircea/Zeeguu-Core/zeeguu_core_test/rules/base_rule.py\n",
      "/Users/mircea/Zeeguu-Core/zeeguu_core_test/rules/user_rule.py\n",
      "/Users/mircea/Zeeguu-Core/zeeguu_core_test/tests_difficulty_estimator_strategies/test_default_difficulty_estimator.py\n",
      "/Users/mircea/Zeeguu-Core/zeeguu_core_test/tests_difficulty_estimator_strategies/test_frequency_difficulty_estimator.py\n",
      "/Users/mircea/Zeeguu-Core/zeeguu_core_test/tests_difficulty_estimator_strategies/test_flesch_kincaid_difficulty_estimator.py\n",
      "/Users/mircea/Zeeguu-Core/zeeguu_core_test/tests_difficulty_estimator_strategies/__init__.py\n"
     ]
    }
   ],
   "source": [
    "from pathlib import Path\n",
    "for file in Path(ZEEGUU_CORE_FOLDER).rglob(\"*.py\"):\n",
    "    print(file)"
   ]
  },
  {
   "cell_type": "code",
   "execution_count": 8,
   "metadata": {},
   "outputs": [
    {
     "data": {
      "text/plain": [
       "56"
      ]
     },
     "execution_count": 8,
     "metadata": {},
     "output_type": "execute_result"
    }
   ],
   "source": [
    "def LOC(file):\n",
    "    return sum([1 for line in open(file)])\n",
    "\n",
    "LOC(ZEEGUU_CORE_FOLDER+'/zeeguu_core_test/rules/user_rule.py')\n",
    "    "
   ]
  },
  {
   "cell_type": "code",
   "execution_count": 16,
   "metadata": {
    "collapsed": true
   },
   "outputs": [],
   "source": [
    "def NOM(file):\n",
    "    # number of methods\n",
    "    pass"
   ]
  },
  {
   "cell_type": "code",
   "execution_count": 9,
   "metadata": {},
   "outputs": [
    {
     "name": "stdout",
     "output_type": "stream",
     "text": [
      "(PosixPath('/Users/mircea/Zeeguu-Core/zeeguu_core/model/user.py'), 680)\n"
     ]
    }
   ],
   "source": [
    "files = Path(ZEEGUU_CORE_FOLDER).rglob(\"*.py\")\n",
    "\n",
    "print(max([(f,LOC(str(f))) for f in files], key= lambda x: x[1]))"
   ]
  },
  {
   "cell_type": "code",
   "execution_count": 10,
   "metadata": {},
   "outputs": [
    {
     "name": "stdout",
     "output_type": "stream",
     "text": [
      "680 /Users/mircea/Zeeguu-Core/zeeguu_core/model/user.py\n",
      "478 /Users/mircea/Zeeguu-Core/zeeguu_core/word_scheduling/arts/tools/algo_parameter_approximator.py\n",
      "403 /Users/mircea/Zeeguu-Core/zeeguu_core/model/user_reading_session.py\n",
      "347 /Users/mircea/Zeeguu-Core/zeeguu_core/content_recommender/mixed_recommender.py\n",
      "332 /Users/mircea/Zeeguu-Core/zeeguu_core/model/bookmark.py\n",
      "310 /Users/mircea/Zeeguu-Core/zeeguu_core/content_retriever/article_downloader.py\n",
      "298 /Users/mircea/Zeeguu-Core/zeeguu_core/model/article.py\n",
      "287 /Users/mircea/Zeeguu-Core/zeeguu_core/language/strategies/word_history_difficulty_estimator.py\n",
      "280 /Users/mircea/Zeeguu-Core/zeeguu_core/model/word_knowledge/word_interaction_history.py\n",
      "266 /Users/mircea/Zeeguu-Core/zeeguu_core/model/user_article.py\n",
      "257 /Users/mircea/Zeeguu-Core/zeeguu_core/model/user_activitiy_data.py\n",
      "255 /Users/mircea/Zeeguu-Core/zeeguu_core/model/feed.py\n",
      "238 /Users/mircea/Zeeguu-Core/zeeguu_core/model/user_exercise_session.py\n",
      "218 /Users/mircea/Zeeguu-Core/zeeguu_core_test/test_bookmark.py\n",
      "202 /Users/mircea/Zeeguu-Core/zeeguu_core/language/strategies/cognacy_wh_difficulty_estimator.py\n",
      "186 /Users/mircea/Zeeguu-Core/tools/saturate_word_interaction_history.py\n",
      "164 /Users/mircea/Zeeguu-Core/zeeguu_core/model/url.py\n",
      "164 /Users/mircea/Zeeguu-Core/zeeguu_core/model/language.py\n",
      "161 /Users/mircea/Zeeguu-Core/tools/exercise_analysis.py\n",
      "153 /Users/mircea/Zeeguu-Core/zeeguu_core_test/test_reading_session.py\n",
      "151 /Users/mircea/Zeeguu-Core/zeeguu_core/word_scheduling/arts/bookmark_priority_updater.py\n",
      "148 /Users/mircea/Zeeguu-Core/zeeguu_core/content_recommender/elastic_recommender.py\n",
      "146 /Users/mircea/Zeeguu-Core/zeeguu_core/language/strategies/frequency_difficulty_estimator.py\n",
      "139 /Users/mircea/Zeeguu-Core/zeeguu_core/language/strategies/cognacy_difficulty_estimator.py\n",
      "137 /Users/mircea/Zeeguu-Core/zeeguu_core_test/tests_difficulty_estimator_strategies/test_flesch_kincaid_difficulty_estimator.py\n",
      "132 /Users/mircea/Zeeguu-Core/zeeguu_core_test/test_user.py\n",
      "131 /Users/mircea/Zeeguu-Core/tools/migrations/teacher_dashboard_migration_1/upgrade.py\n",
      "130 /Users/mircea/Zeeguu-Core/zeeguu_core/elastic/elastic_query_builder.py\n",
      "129 /Users/mircea/Zeeguu-Core/zeeguu_core/model/user_preference.py\n",
      "120 /Users/mircea/Zeeguu-Core/zeeguu_core/language/strategies/word_rank_difficulty_estimator.py\n",
      "117 /Users/mircea/Zeeguu-Core/tools/map_article_words.py\n",
      "117 /Users/mircea/Zeeguu-Core/tools/migrations/teacher_dashboard_migration_1/downgrade.py\n",
      "116 /Users/mircea/Zeeguu-Core/zeeguu_core_test/test_exercise_session.py\n",
      "114 /Users/mircea/Zeeguu-Core/zeeguu_core/language/strategies/flesch_kincaid_difficulty_estimator.py\n",
      "114 /Users/mircea/Zeeguu-Core/zeeguu_core/model/starred_article.py\n",
      "108 /Users/mircea/Zeeguu-Core/tools/remove_unreferenced_articles.py\n",
      "108 /Users/mircea/Zeeguu-Core/zeeguu_core/model/text.py\n",
      "103 /Users/mircea/Zeeguu-Core/tools/fill_article_ids.py\n",
      "101 /Users/mircea/Zeeguu-Core/zeeguu_core/model/user_word.py\n",
      "96 /Users/mircea/Zeeguu-Core/zeeguu_core/crowd_translations/__init__.py\n",
      "96 /Users/mircea/Zeeguu-Core/zeeguu_core_test/test_retrieve_and_compute.py\n",
      "94 /Users/mircea/Zeeguu-Core/tools/recompute_recommender_cache.py\n",
      "94 /Users/mircea/Zeeguu-Core/zeeguu_core/model/learner_stats/encounter_stats.py\n",
      "94 /Users/mircea/Zeeguu-Core/zeeguu_core_test/rules/language_rule.py\n",
      "92 /Users/mircea/Zeeguu-Core/zeeguu_core_test/rules/bookmark_rule.py\n",
      "91 /Users/mircea/Zeeguu-Core/zeeguu_core/account_management/user_account_creation.py\n",
      "90 /Users/mircea/Zeeguu-Core/zeeguu_core/model/articles_cache.py\n",
      "89 /Users/mircea/Zeeguu-Core/zeeguu_core/model/user_language.py\n",
      "89 /Users/mircea/Zeeguu-Core/zeeguu_core/model/exercise.py\n",
      "88 /Users/mircea/Zeeguu-Core/zeeguu_core/model/__init__.py\n",
      "86 /Users/mircea/Zeeguu-Core/zeeguu_core/model/session.py\n",
      "84 /Users/mircea/Zeeguu-Core/zeeguu_core/model/exercise_outcome.py\n",
      "82 /Users/mircea/Zeeguu-Core/tools/past_exercises_for_user.py\n",
      "82 /Users/mircea/Zeeguu-Core/zeeguu_core/user_activity_hooks/article_interaction_hooks.py\n",
      "82 /Users/mircea/Zeeguu-Core/zeeguu_core/model/article_word.py\n",
      "78 /Users/mircea/Zeeguu-Core/zeeguu_core/model/topic.py\n",
      "78 /Users/mircea/Zeeguu-Core/zeeguu_core/model/domain_name.py\n",
      "78 /Users/mircea/Zeeguu-Core/zeeguu_core/model/learner_stats/learner_stats.py\n",
      "73 /Users/mircea/Zeeguu-Core/zeeguu_core/model/search_filter.py\n",
      "73 /Users/mircea/Zeeguu-Core/zeeguu_core/model/search_subscription.py\n",
      "72 /Users/mircea/Zeeguu-Core/zeeguu_core/model/topic_filter.py\n",
      "72 /Users/mircea/Zeeguu-Core/zeeguu_core_test/test_words_to_study.py\n",
      "71 /Users/mircea/Zeeguu-Core/zeeguu_core/model/cohort.py\n",
      "71 /Users/mircea/Zeeguu-Core/zeeguu_core/model/SortedExerciseLog.py\n",
      "71 /Users/mircea/Zeeguu-Core/zeeguu_core/model/topic_subscription.py\n",
      "71 /Users/mircea/Zeeguu-Core/zeeguu_core_test/test_data/mocking_the_web.py\n",
      "70 /Users/mircea/Zeeguu-Core/zeeguu_core/model/feed_registrations.py\n",
      "69 /Users/mircea/Zeeguu-Core/tools/learner_level.py\n",
      "68 /Users/mircea/Zeeguu-Core/tools/add_standard_topics.py\n",
      "68 /Users/mircea/Zeeguu-Core/zeeguu_core/util/text.py\n",
      "67 /Users/mircea/Zeeguu-Core/zeeguu_core/model/search.py\n",
      "67 /Users/mircea/Zeeguu-Core/zeeguu_core_test/rules/outcome_rule.py\n",
      "66 /Users/mircea/Zeeguu-Core/analyses/difficulties_for_user.py\n",
      "65 /Users/mircea/Zeeguu-Core/zeeguu_core/model/student.py\n",
      "64 /Users/mircea/Zeeguu-Core/zeeguu_core/configuration/configuration.py\n",
      "63 /Users/mircea/Zeeguu-Core/zeeguu_core/model/localized_topic.py\n",
      "62 /Users/mircea/Zeeguu-Core/zeeguu_core/word_scheduling/arts/algorithm_wrapper.py\n",
      "62 /Users/mircea/Zeeguu-Core/zeeguu_core/bookmark_quality/negative_qualities.py\n",
      "61 /Users/mircea/Zeeguu-Core/zeeguu_core_test/test_domain.py\n",
      "59 /Users/mircea/Zeeguu-Core/zeeguu_core_test/test_url.py\n",
      "59 /Users/mircea/Zeeguu-Core/zeeguu_core_test/rules/source_rule.py\n",
      "58 /Users/mircea/Zeeguu-Core/zeeguu_core/model/smartwatch/watch_interaction_event.py\n",
      "56 /Users/mircea/Zeeguu-Core/tools/mysql_to_elastic.py\n",
      "56 /Users/mircea/Zeeguu-Core/zeeguu_core_test/rules/user_rule.py\n",
      "55 /Users/mircea/Zeeguu-Core/zeeguu_core/word_scheduling/arts/words_to_study.py\n",
      "52 /Users/mircea/Zeeguu-Core/tools/vis/generate-matrix-vis.py\n",
      "52 /Users/mircea/Zeeguu-Core/zeeguu_core/content_retriever/quality_filter.py\n",
      "51 /Users/mircea/Zeeguu-Core/tools/fill_historical_reading_sessions.py\n",
      "50 /Users/mircea/Zeeguu-Core/tools/add_rssfeed.py\n",
      "50 /Users/mircea/Zeeguu-Core/tools/update_particular_tag.py\n",
      "49 /Users/mircea/Zeeguu-Core/zeeguu_core_test/test_cohort.py\n",
      "48 /Users/mircea/Zeeguu-Core/zeeguu_core/word_scheduling/arts/ab_testing.py\n",
      "48 /Users/mircea/Zeeguu-Core/zeeguu_core/word_scheduling/arts/__init__.py\n",
      "48 /Users/mircea/Zeeguu-Core/zeeguu_core_test/test_user_word.py\n",
      "48 /Users/mircea/Zeeguu-Core/zeeguu_core_test/rules/article_rule.py\n",
      "48 /Users/mircea/Zeeguu-Core/zeeguu_core_test/rules/rss_feed_rule.py\n",
      "47 /Users/mircea/Zeeguu-Core/tools/feed_retrieval.py\n",
      "47 /Users/mircea/Zeeguu-Core/zeeguu_core/emailer/zeeguu_mailer.py\n",
      "46 /Users/mircea/Zeeguu-Core/tools/consolidate_accounts.py\n",
      "46 /Users/mircea/Zeeguu-Core/zeeguu_core/content_retriever/content_cleaner.py\n",
      "46 /Users/mircea/Zeeguu-Core/zeeguu_core/model/learner_stats/exercise_stats.py\n",
      "46 /Users/mircea/Zeeguu-Core/zeeguu_core_test/test_language.py\n",
      "45 /Users/mircea/Zeeguu-Core/tools/migrations/migrate_user_languages.py\n",
      "45 /Users/mircea/Zeeguu-Core/zeeguu_core/model/ranked_word.py\n",
      "45 /Users/mircea/Zeeguu-Core/zeeguu_core_test/rules/exercise_rule.py\n",
      "44 /Users/mircea/Zeeguu-Core/tools/flatten_unicode_characters.py\n",
      "44 /Users/mircea/Zeeguu-Core/zeeguu_core/model/teacher_cohort_map.py\n",
      "44 /Users/mircea/Zeeguu-Core/zeeguu_core_test/test_localized_topic.py\n",
      "43 /Users/mircea/Zeeguu-Core/zeeguu_core_test/test_user_preferences.py\n",
      "43 /Users/mircea/Zeeguu-Core/zeeguu_core_test/rules/cohort_rule.py\n",
      "42 /Users/mircea/Zeeguu-Core/tools/add_article_id_to_text.py\n",
      "42 /Users/mircea/Zeeguu-Core/zeeguu_core/constants.py\n",
      "41 /Users/mircea/Zeeguu-Core/zeeguu_core_test/rules/user_article_rule.py\n",
      "41 /Users/mircea/Zeeguu-Core/zeeguu_core_test/rules/text_rule.py\n",
      "40 /Users/mircea/Zeeguu-Core/setup.py\n",
      "40 /Users/mircea/Zeeguu-Core/tools/fix_bookmark_learned_status.py\n",
      "40 /Users/mircea/Zeeguu-Core/zeeguu_core/content_recommender/elastic_first_recommender.py\n",
      "40 /Users/mircea/Zeeguu-Core/zeeguu_core/model/exercise_source.py\n",
      "40 /Users/mircea/Zeeguu-Core/zeeguu_core_test/test_watch_event.py\n",
      "40 /Users/mircea/Zeeguu-Core/zeeguu_core_test/test_article.py\n",
      "40 /Users/mircea/Zeeguu-Core/zeeguu_core_test/model_test_mixin.py\n",
      "40 /Users/mircea/Zeeguu-Core/zeeguu_core_test/rules/url_rule.py\n",
      "40 /Users/mircea/Zeeguu-Core/zeeguu_core_test/rules/base_rule.py\n",
      "39 /Users/mircea/Zeeguu-Core/tools/cleanup_non_content_bits.py\n",
      "39 /Users/mircea/Zeeguu-Core/tools/migrations/fix_text_duplications.py\n",
      "39 /Users/mircea/Zeeguu-Core/zeeguu_core/word_scheduling/arts/arts_rt.py\n",
      "39 /Users/mircea/Zeeguu-Core/zeeguu_core_test/rules/user_exercise_session_rule.py\n",
      "39 /Users/mircea/Zeeguu-Core/zeeguu_core_test/rules/user_word_rule.py\n",
      "38 /Users/mircea/Zeeguu-Core/tools/forget_user.py\n",
      "37 /Users/mircea/Zeeguu-Core/tools/tag_existing_articles.py\n",
      "37 /Users/mircea/Zeeguu-Core/tools/find_broken_articles.py\n",
      "37 /Users/mircea/Zeeguu-Core/zeeguu_core/word_scheduling/arts/experiments/arts_diff_fast.py\n",
      "37 /Users/mircea/Zeeguu-Core/zeeguu_core/word_scheduling/arts/experiments/arts_diff_slow.py\n",
      "37 /Users/mircea/Zeeguu-Core/zeeguu_core/bookmark_quality/positive_qualities.py\n",
      "35 /Users/mircea/Zeeguu-Core/tools/tag_topics_in_danish.py\n",
      "35 /Users/mircea/Zeeguu-Core/zeeguu_core_test/test_words_exercise_stats.py\n",
      "34 /Users/mircea/Zeeguu-Core/tools/fix_bookmark_priorities.py\n",
      "34 /Users/mircea/Zeeguu-Core/zeeguu_core/language/difficulty_estimator_strategy.py\n",
      "34 /Users/mircea/Zeeguu-Core/zeeguu_core/model/learner_stats/encounter_stats_update.py\n",
      "33 /Users/mircea/Zeeguu-Core/analyses/recent_activity.py\n",
      "33 /Users/mircea/Zeeguu-Core/zeeguu_core_test/test_user_article.py\n",
      "33 /Users/mircea/Zeeguu-Core/zeeguu_core_test/rules/watch_interaction_event_rule.py\n",
      "32 /Users/mircea/Zeeguu-Core/zeeguu_core/model/bookmark_priority_arts.py\n",
      "32 /Users/mircea/Zeeguu-Core/zeeguu_core/model/unique_code.py\n",
      "32 /Users/mircea/Zeeguu-Core/zeeguu_core/bookmark_quality/fit_for_study.py\n",
      "32 /Users/mircea/Zeeguu-Core/zeeguu_core_test/test_feed.py\n",
      "31 /Users/mircea/Zeeguu-Core/zeeguu_core/__init__.py\n",
      "31 /Users/mircea/Zeeguu-Core/zeeguu_core/language/difficulty_estimator_factory.py\n",
      "31 /Users/mircea/Zeeguu-Core/zeeguu_core_test/test_difficulty_estimator_factory.py\n",
      "31 /Users/mircea/Zeeguu-Core/zeeguu_core_test/rules/user_reading_session_rule.py\n",
      "30 /Users/mircea/Zeeguu-Core/tools/anonimize_users.py\n",
      "29 /Users/mircea/Zeeguu-Core/zeeguu_core_test/tests_difficulty_estimator_strategies/test_default_difficulty_estimator.py\n",
      "28 /Users/mircea/Zeeguu-Core/zeeguu_core/elastic/converting_from_mysql.py\n",
      "28 /Users/mircea/Zeeguu-Core/zeeguu_core_test/rules/watch_event_type_rule.py\n",
      "27 /Users/mircea/Zeeguu-Core/tools/fill_historical_exercise_sessions.py\n",
      "27 /Users/mircea/Zeeguu-Core/zeeguu_core/model/teacher.py\n",
      "26 /Users/mircea/Zeeguu-Core/tools/delete_bookmark.py\n",
      "26 /Users/mircea/Zeeguu-Core/tools/delete_feed.py\n",
      "26 /Users/mircea/Zeeguu-Core/zeeguu_core/model/smartwatch/watch_event_type.py\n",
      "26 /Users/mircea/Zeeguu-Core/zeeguu_core/bookmark_quality/top_bookmarks_for_user.py\n",
      "25 /Users/mircea/Zeeguu-Core/playground/article_retrieval.py\n",
      "25 /Users/mircea/Zeeguu-Core/zeeguu_core/content_retriever/unicode_normalization.py\n",
      "25 /Users/mircea/Zeeguu-Core/zeeguu_core/emailer/user_activity.py\n",
      "25 /Users/mircea/Zeeguu-Core/zeeguu_core_test/tests_difficulty_estimator_strategies/test_frequency_difficulty_estimator.py\n",
      "24 /Users/mircea/Zeeguu-Core/tools/article_crawler.py\n",
      "24 /Users/mircea/Zeeguu-Core/zeeguu_core/util/hash.py\n",
      "24 /Users/mircea/Zeeguu-Core/zeeguu_core/language/strategies/default_difficulty_estimator.py\n",
      "24 /Users/mircea/Zeeguu-Core/zeeguu_core/model/cohort_article_map.py\n",
      "23 /Users/mircea/Zeeguu-Core/tools/feed_info.py\n",
      "23 /Users/mircea/Zeeguu-Core/tools/update_feed.py\n",
      "23 /Users/mircea/Zeeguu-Core/zeeguu_core/util/encoding.py\n",
      "21 /Users/mircea/Zeeguu-Core/tools/migrations/towards_single_translation.py\n",
      "20 /Users/mircea/Zeeguu-Core/tools/add_all_cohorts_to_teacher.py\n",
      "19 /Users/mircea/Zeeguu-Core/tools/users_recently_active.py\n",
      "19 /Users/mircea/Zeeguu-Core/zeeguu_core/word_scheduling/arts/experiments/arts_random.py\n",
      "18 /Users/mircea/Zeeguu-Core/tools/recompute_fk_difficulties_for_polish.py\n",
      "18 /Users/mircea/Zeeguu-Core/zeeguu_core/definition_of_learned/is_learned.py\n",
      "17 /Users/mircea/Zeeguu-Core/tools/bookmark_priorities_for_user.py\n",
      "16 /Users/mircea/Zeeguu-Core/tools/migrate_starredarticle_2_userarticle.py\n",
      "16 /Users/mircea/Zeeguu-Core/tools/migrations/migrate_passwords.py\n",
      "16 /Users/mircea/Zeeguu-Core/zeeguu_core/util/timer_logging_decorator.py\n",
      "16 /Users/mircea/Zeeguu-Core/zeeguu_core_test/test_text.py\n",
      "15 /Users/mircea/Zeeguu-Core/tools/migrations/redo_hash.py\n",
      "15 /Users/mircea/Zeeguu-Core/zeeguu_core/emailer/password_reset.py\n",
      "12 /Users/mircea/Zeeguu-Core/tools/migrations/add_icon_name_to_rss_feed.py\n",
      "12 /Users/mircea/Zeeguu-Core/zeeguu_core/word_scheduling/arts/analysis/normal_distribution.py\n",
      "10 /Users/mircea/Zeeguu-Core/zeeguu_core/word_scheduling/__init__.py\n",
      "10 /Users/mircea/Zeeguu-Core/zeeguu_core/word_scheduling/arts/arts_base.py\n",
      "10 /Users/mircea/Zeeguu-Core/zeeguu_core_test/testing_data.py\n",
      "9 /Users/mircea/Zeeguu-Core/zeeguu_core_test/test_logging.py\n",
      "7 /Users/mircea/Zeeguu-Core/tools/bookmark_info.py\n",
      "7 /Users/mircea/Zeeguu-Core/playground/user_bookmarks.py\n",
      "6 /Users/mircea/Zeeguu-Core/zeeguu_core/elastic/settings.py\n",
      "5 /Users/mircea/Zeeguu-Core/zeeguu_core/util/__init__.py\n",
      "4 /Users/mircea/Zeeguu-Core/zeeguu_core/content_recommender/__init__.py\n",
      "4 /Users/mircea/Zeeguu-Core/zeeguu_core/bookmark_quality/__init__.py\n",
      "2 /Users/mircea/Zeeguu-Core/zeeguu_core/definition_of_learned/__init__.py\n",
      "1 /Users/mircea/Zeeguu-Core/zeeguu_core/configuration/__init__.py\n",
      "0 /Users/mircea/Zeeguu-Core/__init__.py\n",
      "0 /Users/mircea/Zeeguu-Core/tools/__init__.py\n",
      "0 /Users/mircea/Zeeguu-Core/zeeguu_core/user_activity_hooks/__init__.py\n",
      "0 /Users/mircea/Zeeguu-Core/zeeguu_core/account_management/__init__.py\n",
      "0 /Users/mircea/Zeeguu-Core/zeeguu_core/word_scheduling/arts/tools/__init__.py\n",
      "0 /Users/mircea/Zeeguu-Core/zeeguu_core/word_scheduling/arts/analysis/__init__.py\n",
      "0 /Users/mircea/Zeeguu-Core/zeeguu_core/word_scheduling/arts/experiments/__init__.py\n",
      "0 /Users/mircea/Zeeguu-Core/zeeguu_core/elastic/__init__.py\n",
      "0 /Users/mircea/Zeeguu-Core/zeeguu_core/content_retriever/__init__.py\n",
      "0 /Users/mircea/Zeeguu-Core/zeeguu_core/language/__init__.py\n",
      "0 /Users/mircea/Zeeguu-Core/zeeguu_core/language/strategies/__init__.py\n",
      "0 /Users/mircea/Zeeguu-Core/zeeguu_core/model/learner_stats/__init__.py\n",
      "0 /Users/mircea/Zeeguu-Core/zeeguu_core/model/smartwatch/__init__.py\n",
      "0 /Users/mircea/Zeeguu-Core/zeeguu_core/model/word_knowledge/__init__.py\n",
      "0 /Users/mircea/Zeeguu-Core/zeeguu_core/emailer/__init__.py\n",
      "0 /Users/mircea/Zeeguu-Core/analyses/__init__.py\n",
      "0 /Users/mircea/Zeeguu-Core/zeeguu_core_test/__init__.py\n",
      "0 /Users/mircea/Zeeguu-Core/zeeguu_core_test/test_data/__init__.py\n",
      "0 /Users/mircea/Zeeguu-Core/zeeguu_core_test/rules/__init__.py\n",
      "0 /Users/mircea/Zeeguu-Core/zeeguu_core_test/tests_difficulty_estimator_strategies/__init__.py\n"
     ]
    }
   ],
   "source": [
    "from pathlib import Path\n",
    "\n",
    "files_and_LOCs = []\n",
    "for file in Path(ZEEGUU_CORE_FOLDER).rglob(\"*.py\"):\n",
    "    files_and_LOCs.append( \n",
    "        (LOC(str(file)),\n",
    "         str(file)\n",
    "        )\n",
    "    )\n",
    "\n",
    "files_and_LOCs.sort(key = lambda x: -x[0])\n",
    "for each in files_and_LOCs:\n",
    "    print (str(each[0]) + \" \" + str(each [1]))"
   ]
  },
  {
   "cell_type": "code",
   "execution_count": 11,
   "metadata": {},
   "outputs": [],
   "source": [
    "def size_of_all_files(sizes_and_files):\n",
    "    pass"
   ]
  },
  {
   "cell_type": "markdown",
   "metadata": {},
   "source": [
    "## Recovering Module Views\n",
    "\n",
    "- modules & dependencies between them\n",
    "  - modules are easy\n",
    "  - how to extract the **dependencies**?"
   ]
  },
  {
   "cell_type": "code",
   "execution_count": 12,
   "metadata": {},
   "outputs": [
    {
     "name": "stdout",
     "output_type": "stream",
     "text": [
      "#\n",
      "\n",
      "import datetime\n",
      "\n",
      "import json\n",
      "\n",
      "import random\n",
      "\n",
      "import re\n",
      "\n",
      "\n",
      "\n",
      "import sqlalchemy.orm\n",
      "\n",
      "import zeeguu_core\n",
      "\n",
      "from sqlalchemy import Column, ForeignKey, Integer, func\n",
      "\n",
      "from sqlalchemy.orm import relationship\n",
      "\n"
     ]
    }
   ],
   "source": [
    "lines = [line for line in open(ZEEGUU_CORE_FOLDER+'/zeeguu_core/model/user.py')]\n",
    "\n",
    "for line in lines[:10]:    \n",
    "    print(line)"
   ]
  },
  {
   "cell_type": "code",
   "execution_count": 13,
   "metadata": {},
   "outputs": [
    {
     "data": {
      "text/plain": [
       "'sqlalchemy'"
      ]
     },
     "execution_count": 13,
     "metadata": {},
     "output_type": "execute_result"
    }
   ],
   "source": [
    "import re\n",
    "\n",
    "def extract_import_from_line(line):\n",
    "    # TODO: think about how to detect imports when\n",
    "    # they are inside a function / method\n",
    "    x = re.search(\"^import (\\S+)\", line) \n",
    "    x = re.search(\"^from (\\S+)\", line) \n",
    "    return x.group(1)\n",
    "\n",
    "extract_import_from_line('from sqlalchemy import Column, ForeignKey, Integer, func')\n",
    "\n",
    "\n"
   ]
  },
  {
   "cell_type": "code",
   "execution_count": 14,
   "metadata": {},
   "outputs": [
    {
     "name": "stdout",
     "output_type": "stream",
     "text": [
      "['sqlalchemy', 'sqlalchemy.orm', 'sqlalchemy.orm.exc', 'zeeguu_core', 'zeeguu_core.language.difficulty_estimator_factory', 'zeeguu_core.model']\n"
     ]
    }
   ],
   "source": [
    "def imports(file):\n",
    "    lines = [line for line in open(file)]\n",
    "    \n",
    "    all_imports = []\n",
    "    for line in lines:\n",
    "        try:\n",
    "            all_imports.append(extract_import_from_line(line))\n",
    "        except:\n",
    "            continue\n",
    "\n",
    "    return all_imports\n",
    "\n",
    "print(imports(ZEEGUU_CORE_FOLDER+'/zeeguu_core/model/user.py'))"
   ]
  },
  {
   "cell_type": "markdown",
   "metadata": {},
   "source": [
    "## Extracting module from file name\n",
    "\n",
    "/Users/mircea/Zeeguu-Core/zeeguu_core/model/user.py \n",
    "->\n",
    "zeeguu_core.model.user\n",
    "\n"
   ]
  },
  {
   "cell_type": "code",
   "execution_count": 15,
   "metadata": {},
   "outputs": [
    {
     "data": {
      "text/plain": [
       "'.zeeguu_core.model.user'"
      ]
     },
     "execution_count": 15,
     "metadata": {},
     "output_type": "execute_result"
    }
   ],
   "source": [
    "def module_from_file_path(folder_prefix, full_path):\n",
    "    file_name = full_path[len(folder_prefix):]\n",
    "    file_name = file_name.replace(\"/\",\".\")\n",
    "    file_name = file_name.replace(\".py\",\"\")\n",
    "    return file_name\n",
    "\n",
    "def module(full_path):\n",
    "    return module_from_file_path(ZEEGUU_CORE_FOLDER, full_path)\n",
    "\n",
    "module(ZEEGUU_CORE_FOLDER+'/zeeguu_core/model/user.py')"
   ]
  },
  {
   "cell_type": "code",
   "execution_count": 18,
   "metadata": {},
   "outputs": [
    {
     "name": "stdout",
     "output_type": "stream",
     "text": [
      "Requirement already satisfied: networkx in /usr/local/lib/python3.9/site-packages (2.5.1)\n",
      "Requirement already satisfied: decorator<5,>=4.3 in /usr/local/lib/python3.9/site-packages (from networkx) (4.4.2)\n",
      "Collecting matplotlib\n",
      "  Downloading matplotlib-3.4.1-cp39-cp39-macosx_10_9_x86_64.whl (7.2 MB)\n",
      "\u001b[K     |████████████████████████████████| 7.2 MB 609 kB/s eta 0:00:01\n",
      "\u001b[?25hCollecting kiwisolver>=1.0.1\n",
      "  Downloading kiwisolver-1.3.1-cp39-cp39-macosx_10_9_x86_64.whl (61 kB)\n",
      "\u001b[K     |████████████████████████████████| 61 kB 603 kB/s  eta 0:00:01\n",
      "\u001b[?25hCollecting cycler>=0.10\n",
      "  Using cached cycler-0.10.0-py2.py3-none-any.whl (6.5 kB)\n",
      "Requirement already satisfied: pyparsing>=2.2.1 in /usr/local/lib/python3.9/site-packages (from matplotlib) (2.4.7)\n",
      "Collecting numpy>=1.16\n",
      "  Downloading numpy-1.20.2-cp39-cp39-macosx_10_9_x86_64.whl (16.1 MB)\n",
      "\u001b[K     |████████████████████████████████| 16.1 MB 18.1 MB/s eta 0:00:01    |████                            | 2.0 MB 18.9 MB/s eta 0:00:01\n",
      "\u001b[?25hRequirement already satisfied: python-dateutil>=2.7 in /usr/local/lib/python3.9/site-packages (from matplotlib) (2.8.1)\n",
      "Collecting pillow>=6.2.0\n",
      "  Downloading Pillow-8.2.0-cp39-cp39-macosx_10_10_x86_64.whl (2.8 MB)\n",
      "\u001b[K     |████████████████████████████████| 2.8 MB 27.3 MB/s eta 0:00:01\n",
      "\u001b[?25hRequirement already satisfied: six in /usr/local/lib/python3.9/site-packages (from cycler>=0.10->matplotlib) (1.15.0)\n",
      "Installing collected packages: pillow, numpy, kiwisolver, cycler, matplotlib\n",
      "Successfully installed cycler-0.10.0 kiwisolver-1.3.1 matplotlib-3.4.1 numpy-1.20.2 pillow-8.2.0\n"
     ]
    }
   ],
   "source": [
    "!{sys.executable} -m pip install networkx --upgrade\n",
    "!{sys.executable} -m pip install matplotlib"
   ]
  },
  {
   "cell_type": "code",
   "execution_count": 22,
   "metadata": {},
   "outputs": [
    {
     "data": {
      "image/png": "[encoded data removed]",
      "text/plain": [
       "<Figure size 432x288 with 1 Axes>"
      ]
     },
     "metadata": {},
     "output_type": "display_data"
    }
   ],
   "source": [
    "import networkx as nx\n",
    "import matplotlib.pyplot as plt\n",
    "\n",
    "G = nx.Graph()\n",
    "G.add_node(1)\n",
    "G.add_node(1)\n",
    "G.add_node(2)\n",
    "\n",
    "G.add_edge(1, 2)\n",
    "\n",
    "plt.subplot(121)\n",
    "nx.draw(G, font_weight='bold')\n",
    "plt.show()"
   ]
  },
  {
   "cell_type": "code",
   "execution_count": 23,
   "metadata": {},
   "outputs": [
    {
     "data": {
      "image/png": "[encoded data removed]",
      "text/plain": [
       "<Figure size 1440x1440 with 1 Axes>"
      ]
     },
     "metadata": {},
     "output_type": "display_data"
    }
   ],
   "source": [
    "files = Path(ZEEGUU_CORE_FOLDER).rglob(\"*.py\")\n",
    "\n",
    "G = nx.Graph()\n",
    "\n",
    "for file in files:\n",
    "    m = module(str(file))\n",
    "    if m not in G.nodes:\n",
    "        G.add_node(m)\n",
    "    \n",
    "    for each in imports(str(file)):\n",
    "        G.add_edge(m, each)\n",
    "        \n",
    "\n",
    "plt.figure(figsize=(20,20))\n",
    "nx.draw(G, font_weight='bold')\n",
    "plt.show()\n",
    "    \n",
    "    \n"
   ]
  }
 ],
 "metadata": {
  "anaconda-cloud": {},
  "kernelspec": {
   "display_name": "Python 3",
   "language": "python",
   "name": "python3"
  },
  "language_info": {
   "codemirror_mode": {
    "name": "ipython",
    "version": 3
   },
   "file_extension": ".py",
   "mimetype": "text/x-python",
   "name": "python",
   "nbconvert_exporter": "python",
   "pygments_lexer": "ipython3",
   "version": "3.9.2"
  }
 },
 "nbformat": 4,
 "nbformat_minor": 1
}
