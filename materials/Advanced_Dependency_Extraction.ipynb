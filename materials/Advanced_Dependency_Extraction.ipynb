{
 "cells": [
  {
   "cell_type": "markdown",
   "metadata": {
    "nbpresent": {
     "id": "ef1140fc-93cd-4a25-b7aa-0503664010e0"
    },
    "slideshow": {
     "slide_type": "slide"
    }
   },
   "source": [
    "# Advanced Dependency Extraction"
   ]
  },
  {
   "cell_type": "markdown",
   "metadata": {
    "nbpresent": {
     "id": "ef969e28-bca9-4282-8213-8ac2c1c92185"
    },
    "slideshow": {
     "slide_type": "slide"
    }
   },
   "source": [
    "### Tool Demo: Softwarenaut\n",
    "\n",
    "\n",
    "<a href=\"https://vimeo.com/62767181\">\n",
    "    <img src=\"images/softwarenaut.png\" width=600/>\n",
    "</a>"
   ]
  },
  {
   "cell_type": "markdown",
   "metadata": {
    "nbpresent": {
     "id": "8dc25145-36a5-4fe0-a835-fe3dae13f5a3"
    },
    "slideshow": {
     "slide_type": "slide"
    }
   },
   "source": [
    "## Limitations of Regular Expressions\n",
    "\n",
    "In our *import parser* case: \n",
    "- remember that we only parse the imports at the top of a file\n",
    "- we could change the regex to not start with `^` but then we might match comments...\n",
    "\n",
    "In general\n",
    "- regexes are not good at parsing recursive grammars (e.g. nested methods)\n",
    "\n",
    "Challenge:\n",
    "- How to extract low-level dependencies between classes / methods?"
   ]
  },
  {
   "cell_type": "markdown",
   "metadata": {
    "slideshow": {
     "slide_type": "slide"
    }
   },
   "source": [
    "## Chomsky Hierarchy of Languages  \n",
    "\n",
    "![](images/languages.png)\n",
    "\n",
    "- Regexes are the weakest of the formal grammars\n",
    "- You can prove that they can't parse real programming languages\n",
    "\n",
    "Your regex would have a hard time knowing that this import is not actually executed\n",
    "\n",
    "    \"\"\"\n",
    "    import py-cool\n",
    "    \"\"\""
   ]
  },
  {
   "cell_type": "markdown",
   "metadata": {
    "collapsed": true,
    "nbpresent": {
     "id": "59597a02-c1a6-4a1b-b717-6fba8369f41d"
    },
    "slideshow": {
     "slide_type": "slide"
    }
   },
   "source": [
    "## Semantic Analysis (Parsing)\n",
    "\n",
    "- basic component in compiler technology\n",
    "- the most precise way to **extract** information from source code\n",
    "\n",
    "\n",
    "Approaches\n",
    "- manual: e.g. PEGs (Parsing Expression Grammars)\n",
    "- parser generators (Bison, Antlr, etc.)\n",
    "- language specific parsing libraries (e.g. `ast` package in Python)\n",
    "\n",
    "\n",
    "In general, a complicated business (See: A Few Billion LOC Later)"
   ]
  },
  {
   "cell_type": "markdown",
   "metadata": {
    "nbpresent": {
     "id": "7ad8e766-8c6c-42a8-8cf5-37dc2496c14f"
    },
    "slideshow": {
     "slide_type": "slide"
    }
   },
   "source": [
    "## Parse Tree\n",
    "\n",
    "The parse tree is a \n",
    "- concrete representation of the input\n",
    "- retains all of the information of the input\n",
    "- the empty boxes represent whitespace (i.e. EOL)\n",
    "\n",
    "![](images/parse__tree.png)\n",
    "\n"
   ]
  },
  {
   "cell_type": "markdown",
   "metadata": {
    "nbpresent": {
     "id": "b5c83490-346d-40bd-be02-158fd4b2408f"
    },
    "slideshow": {
     "slide_type": "slide"
    }
   },
   "source": [
    "## AST = Abstract Syntax Tree\n",
    "\n",
    "The minimal representation of the meaning of the program\n",
    "\n",
    "Contains nodes that correspond to constructs in the language\n",
    "\n",
    "Enables inspection and modification of the program (or program transformation)\n",
    "\n",
    "![](images/ast.png)"
   ]
  },
  {
   "cell_type": "markdown",
   "metadata": {
    "nbpresent": {
     "id": "5b66b9ac-1c90-476f-8bb7-099326325720"
    },
    "slideshow": {
     "slide_type": "slide"
    }
   },
   "source": [
    "## In Python\n",
    "\n",
    "- `ast` package is part of the default language distribution\n",
    "  - similar packages in other languages\n",
    "- tree of nodes representing syntactic constructs\n",
    "- nodes are instances of ast.AST"
   ]
  },
  {
   "cell_type": "markdown",
   "metadata": {
    "nbpresent": {
     "id": "155eb8ae-d095-492f-a1bc-67c6becd7908"
    },
    "slideshow": {
     "slide_type": "slide"
    }
   },
   "source": [
    "### AST nodes \n",
    "\n",
    "Have two types of attributes:\n",
    "  - attributes (properties)\n",
    "    - lineno, col_offset\n",
    "  - fields (subnodes)\n",
    "    - One of 5 types: identifier, int, string, object, bool"
   ]
  },
  {
   "cell_type": "markdown",
   "metadata": {
    "nbpresent": {
     "id": "cf19b101-dd9c-46b9-afce-d230cf7c478f"
    },
    "slideshow": {
     "slide_type": "slide"
    }
   },
   "source": [
    "### Loading an AST from a file"
   ]
  },
  {
   "cell_type": "code",
   "execution_count": 1,
   "metadata": {
    "nbpresent": {
     "id": "5ff7b406-3c05-4dab-9b58-34b097a524b0"
    },
    "slideshow": {
     "slide_type": "slide"
    }
   },
   "outputs": [
    {
     "name": "stdout",
     "output_type": "stream",
     "text": [
      "<_ast.Import object at 0x10c64f048>\n"
     ]
    }
   ],
   "source": [
    "import ast\n",
    "f = open(\"/Users/mircea/Zeeguu-Core/zeeguu_core/model/user.py\")\n",
    "user_ast = ast.parse(f.read())\n",
    "print(user_ast.body[0])  "
   ]
  },
  {
   "cell_type": "markdown",
   "metadata": {
    "nbpresent": {
     "id": "e2a503cc-d068-4dd5-a715-1acf995313ca"
    },
    "slideshow": {
     "slide_type": "slide"
    }
   },
   "source": [
    "### Visiting an AST\n",
    "\n",
    "The Visitor design pattern strikes back :)\n",
    "\n",
    "- Your class should subclass `ast.NodeVisitor`\n",
    "- `NodeVisitor` subclasses traverse an AST\n",
    "- Traversal is depth-first, preorder\n",
    "  - i.e. first node, then children \n",
    "\n",
    "\n",
    "- You become involved by defining visit_<nodetype> methods\n",
    "  - Visit your chidren, or define `generic_visit`\n",
    "    - generic_visit calls visit() on all children of the node.\n",
    "    - Note: child nodes of nodes that have a custom visitor method won’t be visited unless the visitor calls generic_visit() or visits them itself.\n",
    "\n",
    "- visit lets you *skip* subtrees\n",
    "  - if you don't call generic_visit the visitor will not recurse in the current node\n",
    "  - can be convenient for expediency"
   ]
  },
  {
   "cell_type": "code",
   "execution_count": 2,
   "metadata": {
    "nbpresent": {
     "id": "c2e3583d-43bc-46be-b960-d07c5cd5aee4"
    },
    "slideshow": {
     "slide_type": "slide"
    }
   },
   "outputs": [],
   "source": [
    "class GenericVisitor(ast.NodeVisitor):\n",
    "    def generic_visit(self, node):\n",
    "        print (type(node).__name__)\n",
    "        ast.NodeVisitor.generic_visit(self, node)"
   ]
  },
  {
   "cell_type": "code",
   "execution_count": 6,
   "metadata": {
    "nbpresent": {
     "id": "6fd4b8e7-891f-41ea-b5a8-fb70990e17b7"
    },
    "slideshow": {
     "slide_type": "slide"
    }
   },
   "outputs": [],
   "source": [
    "visitor = GenericVisitor()\n",
    "visitor.visit(user_ast)"
   ]
  },
  {
   "cell_type": "code",
   "execution_count": 4,
   "metadata": {
    "nbpresent": {
     "id": "c8c96268-6135-4541-84c5-4dc42382cc6e"
    },
    "slideshow": {
     "slide_type": "slide"
    }
   },
   "outputs": [],
   "source": [
    "class ImportVisitor(ast.NodeVisitor):\n",
    "\n",
    "    def visit_Import(self, import_node):\n",
    "        # retrieve the name from the returned object\n",
    "        # normally, there is just a single alias\n",
    "        for alias in import_node.names:\n",
    "            print (f'importing {alias.name}')\n",
    "        \n",
    "        # allow_parser to continue \n",
    "        super(ImportVisitor, self).generic_visit(import_node)\n",
    "\n"
   ]
  },
  {
   "cell_type": "code",
   "execution_count": 5,
   "metadata": {
    "nbpresent": {
     "id": "ff7d9b77-ec72-45b0-bca6-0b8a39711acd"
    },
    "slideshow": {
     "slide_type": "slide"
    }
   },
   "outputs": [
    {
     "name": "stdout",
     "output_type": "stream",
     "text": [
      "importing datetime\n",
      "importing json\n",
      "importing random\n",
      "importing re\n",
      "importing sqlalchemy.orm\n",
      "importing zeeguu_core\n",
      "importing dateutil.relativedelta\n"
     ]
    }
   ],
   "source": [
    "ImportVisitor().visit(user_ast)"
   ]
  },
  {
   "cell_type": "markdown",
   "metadata": {
    "nbpresent": {
     "id": "f2475265-fe1b-4963-9eaf-a704802e9433"
    },
    "slideshow": {
     "slide_type": "slide"
    }
   },
   "source": [
    "### More on the `ast` package\n",
    "\n",
    "https://docs.python.org/3/library/ast.html\n",
    "\n"
   ]
  },
  {
   "cell_type": "markdown",
   "metadata": {
    "nbpresent": {
     "id": "408beb6c-659c-4e04-a32c-ca9c51042bb7"
    },
    "slideshow": {
     "slide_type": "slide"
    }
   },
   "source": [
    "## Beyond Source Code\n",
    "\n",
    "What other sources of information do we have for dependencies?\n",
    "- runtime dependencies \n",
    "- indirect dependencies\n",
    "- and we'll see more ...\n"
   ]
  },
  {
   "cell_type": "markdown",
   "metadata": {
    "slideshow": {
     "slide_type": "slide"
    }
   },
   "source": [
    "## Programming Challenge\n",
    "\n",
    "- replace the naïve import in the Basic_Abstraction notebook with imports based on the AST package\n",
    "- if this is too boring, try to extract info about classes and method calls between them"
   ]
  },
  {
   "cell_type": "code",
   "execution_count": null,
   "metadata": {
    "slideshow": {
     "slide_type": "slide"
    }
   },
   "outputs": [],
   "source": []
  }
 ],
 "metadata": {
  "anaconda-cloud": {},
  "celltoolbar": "Slideshow",
  "kernelspec": {
   "display_name": "Python SubtitlesNLP",
   "language": "python",
   "name": "subtitlesnlp-7fofha1f"
  },
  "language_info": {
   "codemirror_mode": {
    "name": "ipython",
    "version": 3
   },
   "file_extension": ".py",
   "mimetype": "text/x-python",
   "name": "python",
   "nbconvert_exporter": "python",
   "pygments_lexer": "ipython3",
   "version": "3.6.1"
  },
  "nbpresent": {
   "slides": {
    "034a9b13-5aa7-462e-9b15-18a4ee2f7ad3": {
     "id": "034a9b13-5aa7-462e-9b15-18a4ee2f7ad3",
     "prev": null,
     "regions": {
      "4ffb9d45-cf4b-4ba3-a9d6-ca425c774920": {
       "attrs": {
        "height": 0.8,
        "width": 0.8,
        "x": 0.1,
        "y": 0.1
       },
       "content": {
        "cell": "ef1140fc-93cd-4a25-b7aa-0503664010e0",
        "part": "whole"
       },
       "id": "4ffb9d45-cf4b-4ba3-a9d6-ca425c774920"
      }
     }
    },
    "0baec7f5-c686-498d-bbf2-711bb9df15c6": {
     "id": "0baec7f5-c686-498d-bbf2-711bb9df15c6",
     "prev": "cab64136-cdec-4289-9d0a-e8dcbf42e3da",
     "regions": {
      "68ef3da8-888e-4616-8839-10689ef4e787": {
       "attrs": {
        "height": 0.8,
        "width": 0.8,
        "x": 0.1,
        "y": 0.1
       },
       "content": {
        "cell": "7ad8e766-8c6c-42a8-8cf5-37dc2496c14f",
        "part": "whole"
       },
       "id": "68ef3da8-888e-4616-8839-10689ef4e787"
      }
     }
    },
    "20a67eb8-e5f2-45e0-b0ae-6321d709bf38": {
     "id": "20a67eb8-e5f2-45e0-b0ae-6321d709bf38",
     "prev": "6fbc4d13-25a0-4188-aece-0f77a6f42c96",
     "regions": {
      "56557267-5679-4eaa-b3a0-3429acecc2ca": {
       "attrs": {
        "height": 0.8,
        "width": 0.8,
        "x": 0.1,
        "y": 0.1
       },
       "content": {
        "cell": "e2a503cc-d068-4dd5-a715-1acf995313ca",
        "part": "whole"
       },
       "id": "56557267-5679-4eaa-b3a0-3429acecc2ca"
      }
     }
    },
    "2e6335d2-0995-4c16-bcc1-867d7aac8629": {
     "id": "2e6335d2-0995-4c16-bcc1-867d7aac8629",
     "prev": "20a67eb8-e5f2-45e0-b0ae-6321d709bf38",
     "regions": {
      "eaaaa195-d0e6-4af1-b5f1-d6bbe8e52861": {
       "attrs": {
        "height": 0.8,
        "width": 0.8,
        "x": 0.1,
        "y": 0.1
       },
       "content": {
        "cell": "c2e3583d-43bc-46be-b960-d07c5cd5aee4",
        "part": "whole"
       },
       "id": "eaaaa195-d0e6-4af1-b5f1-d6bbe8e52861"
      }
     }
    },
    "383bd300-613d-47a0-bce9-97f19e68ead3": {
     "id": "383bd300-613d-47a0-bce9-97f19e68ead3",
     "prev": "42d215c3-c712-4439-b48e-c27dcef933e8",
     "regions": {
      "a4399ff3-4446-4410-b529-dd0d3f38e74e": {
       "attrs": {
        "height": 0.8,
        "width": 0.8,
        "x": 0.1,
        "y": 0.1
       },
       "content": {
        "cell": "ff7d9b77-ec72-45b0-bca6-0b8a39711acd",
        "part": "whole"
       },
       "id": "a4399ff3-4446-4410-b529-dd0d3f38e74e"
      }
     }
    },
    "42d215c3-c712-4439-b48e-c27dcef933e8": {
     "id": "42d215c3-c712-4439-b48e-c27dcef933e8",
     "prev": "9ff2b840-a5cd-47d1-bdc8-b5669247056d",
     "regions": {
      "a9c18db5-ab3e-4ff6-a52a-88781c896e48": {
       "attrs": {
        "height": 0.8,
        "width": 0.8,
        "x": 0.1,
        "y": 0.1
       },
       "content": {
        "cell": "c8c96268-6135-4541-84c5-4dc42382cc6e",
        "part": "whole"
       },
       "id": "a9c18db5-ab3e-4ff6-a52a-88781c896e48"
      }
     }
    },
    "5a9cf73a-2ef0-41be-87b5-407a83047760": {
     "id": "5a9cf73a-2ef0-41be-87b5-407a83047760",
     "prev": "034a9b13-5aa7-462e-9b15-18a4ee2f7ad3",
     "regions": {
      "4a45ae6b-9e06-4724-86d7-83e4288109ee": {
       "attrs": {
        "height": 0.8,
        "width": 0.8,
        "x": 0.1,
        "y": 0.1
       },
       "content": {
        "cell": "ef969e28-bca9-4282-8213-8ac2c1c92185",
        "part": "whole"
       },
       "id": "4a45ae6b-9e06-4724-86d7-83e4288109ee"
      }
     }
    },
    "6045d546-4a00-43c2-b3b1-8a495d779881": {
     "id": "6045d546-4a00-43c2-b3b1-8a495d779881",
     "prev": "2e6335d2-0995-4c16-bcc1-867d7aac8629",
     "regions": {
      "1f70782f-ffc2-48cc-996e-5db45cbf5bf3": {
       "attrs": {
        "height": 0.8,
        "width": 0.8,
        "x": 0.1,
        "y": 0.1
       },
       "content": {
        "cell": "6fd4b8e7-891f-41ea-b5a8-fb70990e17b7",
        "part": "whole"
       },
       "id": "1f70782f-ffc2-48cc-996e-5db45cbf5bf3"
      }
     }
    },
    "62c440f6-0d71-4d74-8e83-a3f5694345eb": {
     "id": "62c440f6-0d71-4d74-8e83-a3f5694345eb",
     "prev": "68a29c53-954b-410a-9469-e88b9cd43836",
     "regions": {
      "bc9de463-4598-4380-b472-647d7aa9dce9": {
       "attrs": {
        "height": 0.8,
        "width": 0.8,
        "x": 0.1,
        "y": 0.1
       },
       "content": {
        "cell": "408beb6c-659c-4e04-a32c-ca9c51042bb7",
        "part": "whole"
       },
       "id": "bc9de463-4598-4380-b472-647d7aa9dce9"
      }
     }
    },
    "68a29c53-954b-410a-9469-e88b9cd43836": {
     "id": "68a29c53-954b-410a-9469-e88b9cd43836",
     "prev": "383bd300-613d-47a0-bce9-97f19e68ead3",
     "regions": {
      "f2d69c08-db39-4d1e-9f8f-13a3bcbaeb15": {
       "attrs": {
        "height": 0.8,
        "width": 0.8,
        "x": 0.1,
        "y": 0.1
       },
       "content": {
        "cell": "f2475265-fe1b-4963-9eaf-a704802e9433",
        "part": "whole"
       },
       "id": "f2d69c08-db39-4d1e-9f8f-13a3bcbaeb15"
      }
     }
    },
    "6b59d3a4-750e-4cc0-a901-bce903ea8d92": {
     "id": "6b59d3a4-750e-4cc0-a901-bce903ea8d92",
     "prev": "5a9cf73a-2ef0-41be-87b5-407a83047760",
     "regions": {
      "cb0f3e29-2687-4b2f-8e80-1c42c155fda2": {
       "attrs": {
        "height": 0.8,
        "width": 0.8,
        "x": 0.1,
        "y": 0.1
       },
       "content": {
        "cell": "5317033a-1a3d-4207-8bc7-2d0e17302b25",
        "part": "whole"
       },
       "id": "cb0f3e29-2687-4b2f-8e80-1c42c155fda2"
      }
     }
    },
    "6fbc4d13-25a0-4188-aece-0f77a6f42c96": {
     "id": "6fbc4d13-25a0-4188-aece-0f77a6f42c96",
     "prev": "8058ca77-86d7-459e-a8d6-ada54503d640",
     "regions": {
      "ab4ac4cb-607f-4c1f-b812-5c07ff3a8840": {
       "attrs": {
        "height": 0.8,
        "width": 0.8,
        "x": 0.1,
        "y": 0.1
       },
       "content": {
        "cell": "5ff7b406-3c05-4dab-9b58-34b097a524b0",
        "part": "whole"
       },
       "id": "ab4ac4cb-607f-4c1f-b812-5c07ff3a8840"
      }
     }
    },
    "72db8cb1-5334-4135-99ce-fdb0d1e9ab1a": {
     "id": "72db8cb1-5334-4135-99ce-fdb0d1e9ab1a",
     "prev": "6b59d3a4-750e-4cc0-a901-bce903ea8d92",
     "regions": {
      "af4513d5-8fa4-4195-9ea8-7cb569de3788": {
       "attrs": {
        "height": 0.8,
        "width": 0.8,
        "x": 0.1,
        "y": 0.1
       },
       "content": {
        "cell": "8dc25145-36a5-4fe0-a835-fe3dae13f5a3",
        "part": "whole"
       },
       "id": "af4513d5-8fa4-4195-9ea8-7cb569de3788"
      }
     }
    },
    "7a430166-3714-4d15-b060-b879744c6b3d": {
     "id": "7a430166-3714-4d15-b060-b879744c6b3d",
     "prev": "0baec7f5-c686-498d-bbf2-711bb9df15c6",
     "regions": {
      "6853cb8b-2f94-4397-a0da-43fb99781fc5": {
       "attrs": {
        "height": 0.8,
        "width": 0.8,
        "x": 0.1,
        "y": 0.1
       },
       "content": {
        "cell": "b5c83490-346d-40bd-be02-158fd4b2408f",
        "part": "whole"
       },
       "id": "6853cb8b-2f94-4397-a0da-43fb99781fc5"
      }
     }
    },
    "8058ca77-86d7-459e-a8d6-ada54503d640": {
     "id": "8058ca77-86d7-459e-a8d6-ada54503d640",
     "prev": "f93111e7-5ed0-4b49-904d-dc0b841b6b47",
     "regions": {
      "5e230fd6-6142-4165-8398-24c47909cdaf": {
       "attrs": {
        "height": 0.8,
        "width": 0.8,
        "x": 0.1,
        "y": 0.1
       },
       "content": {
        "cell": "cf19b101-dd9c-46b9-afce-d230cf7c478f",
        "part": "whole"
       },
       "id": "5e230fd6-6142-4165-8398-24c47909cdaf"
      }
     }
    },
    "8b9269e7-b911-43eb-9917-ede734097d51": {
     "id": "8b9269e7-b911-43eb-9917-ede734097d51",
     "prev": "7a430166-3714-4d15-b060-b879744c6b3d",
     "regions": {
      "61f56ac8-279f-4040-b691-6d39597db445": {
       "attrs": {
        "height": 0.8,
        "width": 0.8,
        "x": 0.1,
        "y": 0.1
       },
       "content": {
        "cell": "5b66b9ac-1c90-476f-8bb7-099326325720",
        "part": "whole"
       },
       "id": "61f56ac8-279f-4040-b691-6d39597db445"
      }
     }
    },
    "9ff2b840-a5cd-47d1-bdc8-b5669247056d": {
     "id": "9ff2b840-a5cd-47d1-bdc8-b5669247056d",
     "prev": "6045d546-4a00-43c2-b3b1-8a495d779881",
     "regions": {
      "5b133c6f-27df-44c4-b325-b1f64e971d6c": {
       "attrs": {
        "height": 0.8,
        "width": 0.8,
        "x": 0.1,
        "y": 0.1
       },
       "content": {
        "cell": "1dddcefb-4a6d-417e-b0f5-115154a8c49f",
        "part": "whole"
       },
       "id": "5b133c6f-27df-44c4-b325-b1f64e971d6c"
      }
     }
    },
    "cab64136-cdec-4289-9d0a-e8dcbf42e3da": {
     "id": "cab64136-cdec-4289-9d0a-e8dcbf42e3da",
     "prev": "72db8cb1-5334-4135-99ce-fdb0d1e9ab1a",
     "regions": {
      "45dbd188-8c6b-47bc-8a1a-6fd0c39b694e": {
       "attrs": {
        "height": 0.8,
        "width": 0.8,
        "x": 0.1,
        "y": 0.1
       },
       "content": {
        "cell": "59597a02-c1a6-4a1b-b717-6fba8369f41d",
        "part": "whole"
       },
       "id": "45dbd188-8c6b-47bc-8a1a-6fd0c39b694e"
      }
     }
    },
    "f93111e7-5ed0-4b49-904d-dc0b841b6b47": {
     "id": "f93111e7-5ed0-4b49-904d-dc0b841b6b47",
     "prev": "8b9269e7-b911-43eb-9917-ede734097d51",
     "regions": {
      "27ea8f5a-f542-4efe-8a35-b9f61d5425be": {
       "attrs": {
        "height": 0.8,
        "width": 0.8,
        "x": 0.1,
        "y": 0.1
       },
       "content": {
        "cell": "155eb8ae-d095-492f-a1bc-67c6becd7908",
        "part": "whole"
       },
       "id": "27ea8f5a-f542-4efe-8a35-b9f61d5425be"
      }
     }
    }
   },
   "themes": {}
  }
 },
 "nbformat": 4,
 "nbformat_minor": 1
}
