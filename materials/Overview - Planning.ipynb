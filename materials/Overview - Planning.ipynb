{
 "cells": [
  {
   "cell_type": "markdown",
   "metadata": {},
   "source": [
    "## Plan for Session #3\n",
    "\n",
    "Very Advanced Dependencies\n",
    "- logical coupling\n",
    "- dynamic analysis for dependency extraction\n",
    "  - Interactive: dynamic analysis\n",
    "\n",
    "Very Advanced Abstraction\n",
    "  - Clustering\n",
    "  - Extracting the **architectural backbone** of the system\n",
    "\n",
    "Monitoring Architectural Evolution\n",
    "- extracting evolution information\n",
    "- evolution viewpoints?\n",
    "  - Interactive: Git analysis\n",
    "  \n",
    "Guiding Architectural Evolution\n",
    "- adding constraints (Reading: SAVE)\n",
    "- architectural unit tests \n",
    "- continuous architectural checking (pre-commit scripts, etc.)\n"
   ]
  },
  {
   "cell_type": "markdown",
   "metadata": {},
   "source": [
    "## Plan for Session #4\n",
    "\n",
    "Beyond the System\n",
    "- the ecosystem\n",
    "- package repositories\n",
    "- monitoring system communication (with wireshark!)\n",
    "\n",
    "Recovering Deployment Viewpoints\n",
    "- looking at Vagrant descriptions \n",
    "- docker file descriptions\n",
    "\n",
    "Beyond the Single Language System\n",
    "- most of the systems are made up of more than a single language\n",
    "  - e.g. Zeeguu = Python + Javascript + frameworks ... \n",
    "etc.\n"
   ]
  },
  {
   "cell_type": "code",
   "execution_count": null,
   "metadata": {
    "collapsed": true
   },
   "outputs": [],
   "source": []
  }
 ],
 "metadata": {
  "kernelspec": {
   "display_name": "Python [conda root]",
   "language": "python",
   "name": "conda-root-py"
  },
  "language_info": {
   "codemirror_mode": {
    "name": "ipython",
    "version": 3
   },
   "file_extension": ".py",
   "mimetype": "text/x-python",
   "name": "python",
   "nbconvert_exporter": "python",
   "pygments_lexer": "ipython3",
   "version": "3.5.2"
  }
 },
 "nbformat": 4,
 "nbformat_minor": 1
}
