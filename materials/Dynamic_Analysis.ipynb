{
 "cells": [
  {
   "cell_type": "markdown",
   "metadata": {},
   "source": [
    "# Dynamic Analysis\n",
    "\n",
    "> Dynamic analyses collect information about the system as it executes"
   ]
  },
  {
   "cell_type": "markdown",
   "metadata": {},
   "source": [
    "Opposed to **static analysis**: \n",
    "\n",
    "> Static analyses analyze the system’s artifacts to obtain information that is valid for all possible executions (e.g, program structure or potential calls between different modules). \n",
    "(View-Driven Software Architecture Reconstruction...)\n"
   ]
  },
  {
   "cell_type": "markdown",
   "metadata": {},
   "source": [
    "### Uses in Architecture Recovery\n",
    "In the Extraction phase: \n",
    "  - dependencies between components (e.g. `Model` -> `UI`)\n",
    "  - properties of components (e.g. `Model` is never used, `connection` is slow, etc.)"
   ]
  },
  {
   "cell_type": "markdown",
   "metadata": {},
   "source": [
    "## Prerequisite: Running the System\n",
    "\n",
    "- not that trivial as you might think\n",
    "- challenges\n",
    "  - configuration\n",
    "  - dependencies\n",
    "  - unwritten rules\n",
    "  - some systems don't have a clear entry point (e.g. libraries)\n",
    "- helpful practices\n",
    "  - continuous integration\n",
    "  - containerization\n",
    "  - infrastructure as code\n",
    "  \n",
    "  "
   ]
  },
  {
   "cell_type": "markdown",
   "metadata": {},
   "source": [
    "## How to Get the Program Running? \n",
    "\n",
    "- install required 3rd party librarie\n",
    "- deploy using containers\n",
    "- ..."
   ]
  },
  {
   "cell_type": "markdown",
   "metadata": {},
   "source": [
    "## Which Scenarios to Run from the System?\n",
    "\n",
    "- Run the unit tests if they exist \n",
    "- Exercise \"features\" \n",
    "\n",
    "> A feature is a realized functional requirement of a system. [...] an observable unit of behavior of a system triggered by the user [Eisenbarth et al., 2003].\n",
    "\n",
    "[Eisenbarth et al., 2003]. Thomas Eisenbarth, Rainer Koschke, and Daniel Simon. Locating features in source code. IEEE Computer, 29(3):210–224, March 2003."
   ]
  },
  {
   "cell_type": "markdown",
   "metadata": {},
   "source": [
    "## Approaches\n",
    "\n",
    "- logging\n",
    "- instrumentation\n",
    "- traffic analysis\n"
   ]
  },
  {
   "cell_type": "markdown",
   "metadata": {},
   "source": [
    "## Approach #1: Logging\n",
    "\n",
    "- invasive - adding logging statements in the program\n",
    "  - implies changing the program\n",
    "- allows surgical precision - adding log statements only where relevant\n"
   ]
  },
  {
   "cell_type": "markdown",
   "metadata": {},
   "source": [
    "## Approach #2: Instrumentation\n",
    "\n",
    "What to instrument: \n",
    "- source code\n",
    "  - using reflection, or code generation\n",
    "- binaries\n",
    "  - e.g. virtual machine instrumentation\n"
   ]
  },
  {
   "cell_type": "markdown",
   "metadata": {},
   "source": [
    "### Instrumenting Binaries. e.g. Java\n",
    "\n",
    "![](./images/java_instrumentation.png)\n",
    "\n",
    "- Java programs are compiled into bytecode\n",
    "- Bytecode is executed on the JVM\n",
    "- You can provide a Java Agent (via command line argument -javaagent) that modifieds the bytecode before it being executed\n",
    "\n",
    "\n",
    "Advantages:\n",
    "  - no need for parsing\n",
    "  - works for multiple languages\n",
    "\n",
    "\n",
    "\n",
    "  \n",
    "More on this topic:\n",
    "- https://blog.sqreen.com/building-a-dynamic-instrumentation-agent-for-java/\n"
   ]
  },
  {
   "cell_type": "markdown",
   "metadata": {},
   "source": [
    "### Instrumenting Source Code\n",
    "\n",
    "- can be done using **reflection**\n",
    "\n",
    "> Reflection is the ability of a program to manipulate as data something representing the state of the program during its own execution. \n",
    "> - **Introspection** is the ability for a program to observe and therefore reason about its own state. \n",
    "> - **Intercession** is the ability for a program to modify its own execution state or alter its own interpretation or meaning.\n",
    "\n",
    "- in some languages it's easier to do (e.g. Ruby, Python, Java)  than in others\n",
    "\n"
   ]
  },
  {
   "cell_type": "markdown",
   "metadata": {},
   "source": [
    "### Example: Introspection in Python\n",
    "\n",
    "Goal: \n",
    "- a program to observe it's own state (e.g. a class observing it's own methods)\n",
    "\n",
    "\n",
    "Python Specific: \n",
    "- use the `cls_name.__dict__.items( )` to get all the attributes of a class and filter those which represent a method because they have the `__call__` annotation"
   ]
  },
  {
   "cell_type": "code",
   "execution_count": null,
   "metadata": {
    "collapsed": false
   },
   "outputs": [],
   "source": [
    "# an object-oriented foobar example\n",
    "class Foo(object):\n",
    "\n",
    "    def __init__(self):\n",
    "        self.x= 'foo'\n",
    "\n",
    "    def do(self):\n",
    "        print(self.x)\n",
    "\n",
    "\n",
    "class Bar(object):\n",
    "\n",
    "    def __init__(self, foo):\n",
    "        self.foo = foo\n",
    "\n",
    "    def do(self):\n",
    "        self.foo.do()"
   ]
  },
  {
   "cell_type": "code",
   "execution_count": null,
   "metadata": {
    "collapsed": false
   },
   "outputs": [],
   "source": [
    "def methods_in_class(cls_name):\n",
    "    \"\"\" list all methods in a class\"\"\"\n",
    "    result = {}\n",
    "    for key, value in cls_name.__dict__.items( ):\n",
    "            if hasattr( value, '__call__' ):\n",
    "                result [key] = value\n",
    "    return result\n"
   ]
  },
  {
   "cell_type": "code",
   "execution_count": null,
   "metadata": {
    "collapsed": false,
    "scrolled": true
   },
   "outputs": [],
   "source": [
    "methods_in_class(Foo)"
   ]
  },
  {
   "cell_type": "markdown",
   "metadata": {},
   "source": [
    "Notes:\n",
    "- it's the same program, even if it's in three cells\n",
    "  - could have moved the `list_methods` in the Bar class"
   ]
  },
  {
   "cell_type": "markdown",
   "metadata": {},
   "source": [
    "### Example: Intercession in Python\n",
    "\n",
    "Goal: \n",
    "- let's have our program replace it's methods on the fly \n",
    "  - each with another method that prints a note when the function is entered\n",
    "  - we will thus trace the execution of the program!\n",
    "\n",
    "\n",
    "We rely on `setattr( cls_name, key, replacement )` to replace the method found under the name `key` with `replacement`\n",
    "\n",
    "\n"
   ]
  },
  {
   "cell_type": "code",
   "execution_count": null,
   "metadata": {
    "collapsed": false
   },
   "outputs": [],
   "source": [
    "# same class as before\n",
    "class Foo(object):\n",
    "\n",
    "    def __init__(self):\n",
    "        self.x= 'foo'\n",
    "\n",
    "    def do(self):\n",
    "        print(self.x)\n",
    "\n",
    "\n",
    "class Bar(object):\n",
    "\n",
    "    def __init__(self, foo):\n",
    "        self.foo = foo\n",
    "\n",
    "    def do(self):\n",
    "        self.foo.do()"
   ]
  },
  {
   "cell_type": "code",
   "execution_count": null,
   "metadata": {
    "collapsed": true
   },
   "outputs": [],
   "source": [
    "def replace_methods( cls_name, replacement ):\n",
    "    \"\"\" replace every method in class cls_name with a wrapper method \"\"\"\n",
    "    for key, value in methods_in_class(cls_name).items():\n",
    "            setattr( cls_name, key, replacement( value ) )\n",
    "            \n",
    "def wrapper( fn ):\n",
    "    def result( *args, **kwargs ):\n",
    "        print (f'entered {fn}')\n",
    "        return fn( *args, **kwargs )\n",
    "    return result\n"
   ]
  },
  {
   "cell_type": "code",
   "execution_count": null,
   "metadata": {
    "collapsed": false
   },
   "outputs": [],
   "source": [
    "replace_methods(Foo, wrapper)\n",
    "Foo().do()"
   ]
  },
  {
   "cell_type": "markdown",
   "metadata": {},
   "source": [
    "##### Notes:\n",
    "- this is easier in a dynamically typed language\n",
    "- we have used **function wrappers**, a design pattern where:\n",
    "  - a function *wraps* another function in order to\n",
    "    - perform some *prologue* and/or *epilogue* tasks\n",
    "    - optimize (e.g. cache results )\n",
    "  - while the *wrapper* is *fully* compatible with the wrapped function so it can be used instead\n",
    "\n",
    "\n",
    "\n",
    "More on Function Wrappers: \n",
    "- https://wiki.python.org/moin/FunctionWrappers\n",
    "- Wrappers to the Rescue: http://citeseerx.ist.psu.edu/viewdoc/download?doi=10.1.1.18.6550&rep=rep1&type=pdf"
   ]
  },
  {
   "cell_type": "markdown",
   "metadata": {},
   "source": [
    "### Example: Tracing Method Calls with Function Wrappers\n",
    "\n",
    "- we want a wrapper that prints out when a method is called\n",
    "  - the method name\n",
    "  - who called it\n",
    "  \n",
    "\n",
    "- by deploying this in selected parts of our system we can trace all method calls\n",
    "\n"
   ]
  },
  {
   "cell_type": "code",
   "execution_count": null,
   "metadata": {
    "collapsed": true
   },
   "outputs": [],
   "source": [
    "class Foo(object):\n",
    "\n",
    "    def __init__(self):\n",
    "        self.x= 'foo'\n",
    "\n",
    "    def do(self):\n",
    "        print(self.x)\n",
    "\n",
    "\n",
    "class Bar(object):\n",
    "\n",
    "    def __init__(self, foo):\n",
    "        self.foo = foo\n",
    "\n",
    "    def do(self):\n",
    "        self.foo.do()"
   ]
  },
  {
   "cell_type": "code",
   "execution_count": null,
   "metadata": {
    "collapsed": true
   },
   "outputs": [],
   "source": [
    "import inspect\n",
    "import sys\n",
    "\n",
    "def trace_call(caller_method, called_method):\n",
    "    print(caller_method + \" -> \" + called_method)\n",
    "    \n",
    "def tracing_wrapper( cls, fn ):\n",
    "    def result( *args, **kwargs ):\n",
    "        caller_method =  inspect.stack()[1].frame.f_code.co_name    \n",
    "        called_method = str(cls) + \".\" + fn.__name__\n",
    "        trace_call(caller_method, called_method)\n",
    "        return fn( *args, **kwargs )\n",
    "    return result\n",
    "\n",
    "def wrap_methods( cls, wrapper ):\n",
    "    \"\"\" replace every method in class cls_name with a wrapper method \"\"\"\n",
    "    for key, value in cls.__dict__.items( ):\n",
    "        if hasattr( value, '__call__' ):\n",
    "            setattr( cls, key, wrapper( cls, value ) )\n"
   ]
  },
  {
   "cell_type": "code",
   "execution_count": null,
   "metadata": {
    "collapsed": false
   },
   "outputs": [],
   "source": [
    "wrap_methods(Foo, tracing_wrapper)\n",
    "wrap_methods(Bar, tracing_wrapper)\n",
    "Bar(Foo()).do()"
   ]
  },
  {
   "cell_type": "markdown",
   "metadata": {},
   "source": [
    "#### And to Our Case Study Now!\n"
   ]
  },
  {
   "cell_type": "code",
   "execution_count": null,
   "metadata": {
    "collapsed": false
   },
   "outputs": [],
   "source": [
    "%cd /Users/mircea/Zeeguu-Core"
   ]
  },
  {
   "cell_type": "code",
   "execution_count": null,
   "metadata": {
    "collapsed": false
   },
   "outputs": [],
   "source": [
    "from zeeguu_core.model import User"
   ]
  },
  {
   "cell_type": "code",
   "execution_count": null,
   "metadata": {
    "collapsed": false
   },
   "outputs": [],
   "source": [
    "from tools.past_exercises_for_user import past_exercises_for\n",
    "past_exercises_for(534)"
   ]
  },
  {
   "cell_type": "code",
   "execution_count": null,
   "metadata": {
    "collapsed": false
   },
   "outputs": [],
   "source": [
    "def all_classes_in(mod):\n",
    "    import inspect, importlib\n",
    "    \"\"\" return all the classes in a given module \"\"\"\n",
    "    result = []\n",
    "    for name, thingy in inspect.getmembers(importlib.import_module(mod)):\n",
    "        if inspect.ismodule(thingy):\n",
    "            if thingy.__name__.startswith(mod):\n",
    "                result.extend(all_classes_in(thingy.__name__))\n",
    "\n",
    "        elif inspect.isclass(thingy):\n",
    "            if (thingy.__module__ == mod):\n",
    "                result.append(thingy)\n",
    "    return result\n"
   ]
  },
  {
   "cell_type": "code",
   "execution_count": null,
   "metadata": {
    "collapsed": false,
    "scrolled": true
   },
   "outputs": [],
   "source": [
    "import zeeguu_core\n",
    "all_classes_in('zeeguu_core')"
   ]
  },
  {
   "cell_type": "code",
   "execution_count": null,
   "metadata": {
    "collapsed": false
   },
   "outputs": [],
   "source": [
    "for each in all_classes_in('zeeguu_core'):\n",
    "    wrap_methods(each, tracing_wrapper)\n",
    "    "
   ]
  },
  {
   "cell_type": "code",
   "execution_count": null,
   "metadata": {
    "collapsed": false
   },
   "outputs": [],
   "source": [
    "past_exercises_for(534)"
   ]
  },
  {
   "cell_type": "markdown",
   "metadata": {},
   "source": [
    "####  Challenges for you: Improve this if you can!\n",
    "- fully qualified names of the caller method\n",
    "- log to file\n",
    "- compute overhead\n",
    "- extract graph from unit tests\n",
    "- compare dyanmically extracted graph with statically extracted graph\n",
    "\n"
   ]
  },
  {
   "cell_type": "markdown",
   "metadata": {},
   "source": [
    "### Disadvantages of Wrappers\n",
    "- they introduce an overhead (but then, so do all code related tracing)\n",
    "- they require you to obtain the **live** objects (must be in the same process as the instrumented code)\n",
    "\n",
    "\n",
    "### Advantages of Wrappers\n",
    "\n",
    "- still allows surgical precision \n",
    "- allow **even more surgical deployment and removal** of wrappers at runtime\n",
    "- as opposed to off-the-shelf tools that trace the entire execution of the program\n",
    "  - compare with\n",
    "    ```python -m trace --trackcalls past_exercises_for_user.py ```\n",
    "    \n",
    "    - (executed from within the tools folder)\n",
    "    \n",
    "    \n",
    "More on the `trace` module: https://docs.python.org/3/library/trace.html"
   ]
  },
  {
   "cell_type": "markdown",
   "metadata": {},
   "source": [
    "## Approach #3: Traffic Analysis\n",
    "\n",
    "- useful for service oriented architectures\n",
    "- monitors the messages on the wire\n",
    "- powerful approach for reverse engineering services\n",
    "\n",
    "\n",
    "Read: https://danlebrero.com/2017/04/06/documenting-your-architecture-wireshark-plantuml-and-a-repl/\n",
    "- If somebody wants to work on this as their report, replicating this for Zeeguu-API / Zeeguu-Web would be great!\n",
    "- If not for now, doing something like this would be a great starting point for a thesis\n",
    "\n"
   ]
  },
  {
   "cell_type": "markdown",
   "metadata": {},
   "source": [
    "## Limitations\n",
    "\n",
    "- limited by execution coverage \n",
    "  - a program does not reach an execution point... => no data (e.g. Word but user never prints)\n",
    "  \n",
    "- can slow down the application considerably \n",
    "\n",
    "\n",
    "- can result in a large amount of of data\n",
    "\n",
    "  \n"
   ]
  },
  {
   "cell_type": "markdown",
   "metadata": {},
   "source": [
    "## Uses Beyond Architecture Recovery\n",
    "\n",
    "- Performance monitoring (e.g. the FMD)\n",
    "- Intercepting and tracing specific calls\n",
    "  - e.g. calls to the DB, calls across the network\n",
    "  \n",
    "- Quality control (e.g. test coverage tool)\n",
    "- Dynamic optimizations \n",
    "- Logging Energy Usage (https://help.apple.com/instruments/mac/current/#/dev03a7149d)"
   ]
  },
  {
   "cell_type": "markdown",
   "metadata": {},
   "source": [
    "### Further Reading\n",
    "\n",
    "Papers: \n",
    "- **Visualizing the Execution of Java Programs**. Wim De Pauw, Erik Jensen, Nick Mitchell, Gary Sevitsky, John Vlissides, Jeaha Yang\n",
    "\n",
    "- **Correlating Features and Code Using a Compact Two-Sideed Trace Analysis Approach**. Orla Greevy, Stephane Ducasse. \n"
   ]
  }
 ],
 "metadata": {
  "kernelspec": {
   "display_name": "Python [conda env:py3]",
   "language": "python",
   "name": "conda-env-py3-py"
  },
  "language_info": {
   "codemirror_mode": {
    "name": "ipython",
    "version": 3
   },
   "file_extension": ".py",
   "mimetype": "text/x-python",
   "name": "python",
   "nbconvert_exporter": "python",
   "pygments_lexer": "ipython3",
   "version": "3.6.2"
  }
 },
 "nbformat": 4,
 "nbformat_minor": 1
}
