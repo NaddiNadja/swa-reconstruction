{
 "cells": [
  {
   "cell_type": "markdown",
   "metadata": {
    "nbpresent": {
     "id": "65576d12-7eb3-4a8b-80e6-752ed233f293"
    },
    "slideshow": {
     "slide_type": "slide"
    }
   },
   "source": [
    "# Dynamic Analysis\n",
    "\n",
    "### the analysis of computer software that is performed by executing programs on a real or virtual processor\n",
    "\n",
    "1. Comparison with Static Analysis\n",
    "2. Uses of Dyanmic Analysis\n",
    "3. Technical Approach\n",
    "4. Limitations\n",
    "\n"
   ]
  },
  {
   "cell_type": "markdown",
   "metadata": {
    "nbpresent": {
     "id": "1863763d-ba53-44e3-b2d7-a3359c562cff"
    },
    "slideshow": {
     "slide_type": "slide"
    }
   },
   "source": [
    "# 1. Comparison with Static Analysis\n",
    "\n",
    "### Static analysis\n",
    "\n",
    "- analyzes the system’s artifacts to obtain information that is valid for all possible executions (e.g, program structure or potential calls between different modules). (*View-Driven Software Architecture Reconstruction*...)\n",
    "\n",
    "\n",
    "- static view of the system is valid for all executions\n",
    "\n",
    "\n",
    "Cons: \n",
    "- Some structural relationships are not known before execution\n",
    "- There is no information about runtime properties (memory consumption, timing)\n",
    "\n",
    "\n",
    "\n"
   ]
  },
  {
   "cell_type": "markdown",
   "metadata": {
    "slideshow": {
     "slide_type": "subslide"
    }
   },
   "source": [
    "### Some structural relationships are not known at compile time\n",
    "\n",
    "- Example: *can't see beyond polymorphism*\n",
    "\n",
    "```python\n",
    "\n",
    "class Person(object):\n",
    "   def have_fun():\n",
    "      pass\n",
    "   \n",
    "class Student(Person):\n",
    "   def have_fun():\n",
    "      print(\"student kind of fun\")\n",
    "   \n",
    "class SoftwareArchitect(Person):\n",
    "   def have_fun():\n",
    "      print(\"architect kind of fun\")\n",
    "      \n",
    "# later in code...\n",
    "def process(p:Person):\n",
    "   p.have_fun()\n",
    "\n",
    "# statical analysis tool can't know which `have_fun` implementation is called \n",
    "\n",
    "```\n",
    "\n"
   ]
  },
  {
   "cell_type": "markdown",
   "metadata": {
    "slideshow": {
     "slide_type": "subslide"
    }
   },
   "source": [
    "### There is no information about runtime properties\n",
    "\n",
    "Architecturally Relevant\n",
    "- Actual resource consumption\n",
    "- Timing, performance\n",
    "\n",
    "Open Source Research Tool: [Flask Monitoring Dashboard](https://github.com/flask-dashboard/Flask-MonitoringDashboard)\n",
    "And [Related Student Projects](https://github.com/mircealungu/student-projects/labels/flask-monitoring-dashboard)  \n",
    "\n"
   ]
  },
  {
   "cell_type": "markdown",
   "metadata": {
    "nbpresent": {
     "id": "89c73c54-6cee-4197-8f43-650099cef85c"
    },
    "slideshow": {
     "slide_type": "slide"
    }
   },
   "source": [
    "# 2. Uses of Dynamic Analysis in Architecture Recovery\n",
    "\n",
    "\n",
    "In general:\n",
    "- compensate for limitations of static analysis (e.g. Can't reliably detect `dead code` https://news.ycombinator.com/item?id=27036626)\n",
    "\n",
    "\n",
    "In Architecture Recovery -> Extraction phase: \n",
    "  - dependencies between components (e.g. `Model` -> `UI`)\n",
    "  - properties of components (e.g. `Model` is never used, `Connection` is slow, etc.)\n",
    "\n"
   ]
  },
  {
   "cell_type": "markdown",
   "metadata": {
    "slideshow": {
     "slide_type": "slide"
    }
   },
   "source": [
    "# 3. Technical Approach\n",
    "\n",
    "1. Instrument System <- focus\n",
    "2. Run System and Collect Data\n",
    "3. Analyze data\n",
    "4. Iterate\n"
   ]
  },
  {
   "cell_type": "markdown",
   "metadata": {
    "slideshow": {
     "slide_type": "subslide"
    }
   },
   "source": [
    "## Step 1: Instrument System\n",
    "\n",
    "- Add Logging Statements\n",
    "- Modify Code at Runtime\n",
    "- Analyze Network Traffic"
   ]
  },
  {
   "cell_type": "markdown",
   "metadata": {
    "nbpresent": {
     "id": "90d3e9dd-a7a8-42ee-84db-82dcfc60587a"
    },
    "slideshow": {
     "slide_type": "subslide"
    }
   },
   "source": [
    "### Instrumentation (1): Add Logging Statements\n",
    "\n",
    "- allows surgical precision - adding log statements only where relevant\n",
    "- might already be there; although it's usually higher-level\n",
    "- log-levels: (DEBUG, TRACE)\n",
    "\n",
    "con:\n",
    "- invasive - implies changing the program\n",
    "- usually we want to log extensively\n",
    "\n"
   ]
  },
  {
   "cell_type": "markdown",
   "metadata": {
    "nbpresent": {
     "id": "205a5732-278d-4209-874b-e0d52e869906"
    },
    "slideshow": {
     "slide_type": "subslide"
    }
   },
   "source": [
    "### Instrumentation (2): Modify Code at Runtime\n",
    "\n",
    "What to Modify? \n",
    "\n",
    "- source code\n",
    "  - using reflection (or code generation)\n",
    "\n",
    "- bytecode\n",
    "  - using specialized tools\n"
   ]
  },
  {
   "cell_type": "markdown",
   "metadata": {
    "nbpresent": {
     "id": "15b9b170-9f7d-4f35-98ca-e1649680fd49"
    },
    "slideshow": {
     "slide_type": "subslide"
    }
   },
   "source": [
    "### Modifying Program with Reflection\n",
    "\n",
    "#### Reflection = the ability of a program to manipulate as data something representing the state of the program during its own execution\n",
    "\n",
    "> - **Introspection** is the ability for a program to observe and therefore reason about its own state. \n",
    "> - **Intercession** is the ability for a program to modify its own execution state or alter its own interpretation or meaning.\n",
    "\n",
    "In some languages it's easier to do (e.g. Ruby, Python)  than in others (Java)\n",
    "\n"
   ]
  },
  {
   "cell_type": "markdown",
   "metadata": {
    "nbpresent": {
     "id": "54811624-c009-419f-99dc-693089e7f284"
    },
    "slideshow": {
     "slide_type": "subslide"
    }
   },
   "source": [
    "### Example: Introspection in Python\n",
    "\n",
    "Goal: \n",
    "- a program to observe it's own state (e.g. a class observing it's own methods)\n",
    "\n",
    "\n",
    "Python Specific: \n",
    "- use the `cls_name.__dict__.items( )` to get all the attributes of a class \n",
    "- filter those which represent a method because they have the `__call__` annotation"
   ]
  },
  {
   "cell_type": "code",
   "execution_count": 20,
   "metadata": {
    "nbpresent": {
     "id": "19af9674-a158-43e6-a794-cfc65211637d"
    },
    "slideshow": {
     "slide_type": "subslide"
    }
   },
   "outputs": [],
   "source": [
    "\"\"\" \n",
    "    introspects a class\n",
    "    returns a _dictionary_ with \n",
    "    (method name, method body) tuples\n",
    "    \n",
    "\"\"\"\n",
    "def methods_in_class(cls_name):\n",
    "\n",
    "    result = {}\n",
    "    \n",
    "    for item_name, value in cls_name.__dict__.items( ):\n",
    "            if hasattr( value, '__call__' ):\n",
    "                result [item_name] = value\n",
    "\n",
    "    return result.items()\n"
   ]
  },
  {
   "cell_type": "code",
   "execution_count": 21,
   "metadata": {
    "nbpresent": {
     "id": "f3a9e13f-32f0-46d0-8d0e-87247de97afa"
    },
    "slideshow": {
     "slide_type": "subslide"
    }
   },
   "outputs": [],
   "source": [
    "# an object-oriented foobar example\n",
    "class Foo(object):\n",
    "\n",
    "    def __init__(self):\n",
    "        self.x= 'foo'\n",
    "\n",
    "    def do(self):\n",
    "        print(self.x)\n",
    "\n",
    "\n",
    "class Bar(object):\n",
    "\n",
    "    def __init__(self, foo):\n",
    "        self.foo = foo\n",
    "\n",
    "    def do(self):\n",
    "        self.foo.do()"
   ]
  },
  {
   "cell_type": "code",
   "execution_count": 22,
   "metadata": {
    "nbpresent": {
     "id": "8262e7de-cec7-4dcf-a6d2-bf4c02659f67"
    },
    "scrolled": true,
    "slideshow": {
     "slide_type": "subslide"
    }
   },
   "outputs": [
    {
     "data": {
      "text/plain": [
       "dict_items([('__init__', <function Foo.__init__ at 0x10d8060d0>), ('do', <function Foo.do at 0x10d868b80>)])"
      ]
     },
     "execution_count": 22,
     "metadata": {},
     "output_type": "execute_result"
    }
   ],
   "source": [
    "methods_in_class(Foo)"
   ]
  },
  {
   "cell_type": "markdown",
   "metadata": {
    "nbpresent": {
     "id": "4711e785-b310-4727-a66a-c3fa84d536b4"
    },
    "slideshow": {
     "slide_type": "subslide"
    }
   },
   "source": [
    "### Example: Intercession in Python\n",
    "\n",
    "Goal: \n",
    "- let's have our program replace it's methods on the fly \n",
    "\n",
    "Python specific: \n",
    "- We rely on `setattr( cls_name, key, replacement )` to replace the method found under the name `key` with `replacement`\n",
    "  - each with another method that prints a note when the function is called\n",
    "  - we will thus trace the execution of the program!\n",
    "\n",
    "\n"
   ]
  },
  {
   "cell_type": "code",
   "execution_count": 24,
   "metadata": {
    "slideshow": {
     "slide_type": "subslide"
    }
   },
   "outputs": [],
   "source": [
    "\"\"\" \n",
    "    Implementing decorator pattern by defining a new function \n",
    "    that does a print and then calls the original function\n",
    "\"\"\"\n",
    "def print_decorator( original_function ):\n",
    "\n",
    "    def decorated( *args, **kwargs ):\n",
    "        print (f'Calling: {original_function}')\n",
    "        return original_function( *args, **kwargs )\n",
    "    \n",
    "    return decorated\n"
   ]
  },
  {
   "cell_type": "code",
   "execution_count": 9,
   "metadata": {
    "slideshow": {
     "slide_type": "subslide"
    }
   },
   "outputs": [],
   "source": [
    "\"\"\" \n",
    "    Replace every method in class cls_name \n",
    "    with the replacement method \n",
    "\"\"\"\n",
    "def replace_methods( cls_name, replacement ):\n",
    "\n",
    "    methods = methods_in_class(cls_name)\n",
    "    \n",
    "    for method_name, implementation in methods:\n",
    "            setattr( cls_name, \n",
    "                     method_name, \n",
    "                     replacement ( implementation ) )"
   ]
  },
  {
   "cell_type": "code",
   "execution_count": 30,
   "metadata": {
    "nbpresent": {
     "id": "6a62c3c2-aee7-43dc-9df6-b0e75c03a824"
    },
    "slideshow": {
     "slide_type": "subslide"
    }
   },
   "outputs": [],
   "source": [
    "# same classes as before\n",
    "class Foo(object):\n",
    "\n",
    "    def __init__(self):\n",
    "        self.x= 'foo'\n",
    "\n",
    "    def do(self):\n",
    "        print(self.x)\n"
   ]
  },
  {
   "cell_type": "code",
   "execution_count": 31,
   "metadata": {
    "nbpresent": {
     "id": "f0a769de-aa17-4213-af85-ae76496e0328"
    },
    "slideshow": {
     "slide_type": "subslide"
    }
   },
   "outputs": [
    {
     "name": "stdout",
     "output_type": "stream",
     "text": [
      "Calling: <function Foo.__init__ at 0x10d8ff8b0>\n",
      "Calling: <function Foo.do at 0x10d8ff820>\n",
      "foo\n"
     ]
    }
   ],
   "source": [
    "replace_methods(Foo, print_decorator)\n",
    "Foo().do()"
   ]
  },
  {
   "cell_type": "code",
   "execution_count": 32,
   "metadata": {
    "slideshow": {
     "slide_type": "subslide"
    }
   },
   "outputs": [],
   "source": [
    "class Bar(object):\n",
    "\n",
    "    def __init__(self, foo):\n",
    "        self.foo = foo\n",
    "\n",
    "    def do(self):\n",
    "        self.foo.do()"
   ]
  },
  {
   "cell_type": "code",
   "execution_count": 33,
   "metadata": {
    "slideshow": {
     "slide_type": "subslide"
    }
   },
   "outputs": [
    {
     "name": "stdout",
     "output_type": "stream",
     "text": [
      "Calling: <function Foo.__init__ at 0x10d8ff8b0>\n",
      "Calling: <function Bar.__init__ at 0x10d8ff430>\n",
      "Calling: <function Bar.do at 0x10d8ff4c0>\n",
      "Calling: <function Foo.do at 0x10d8ff820>\n",
      "foo\n"
     ]
    }
   ],
   "source": [
    "replace_methods(Bar, print_decorator)\n",
    "bar = Bar(Foo())\n",
    "bar.do()"
   ]
  },
  {
   "cell_type": "markdown",
   "metadata": {
    "nbpresent": {
     "id": "b5beb401-020e-428f-a17b-15277e4fdd96"
    },
    "slideshow": {
     "slide_type": "subslide"
    }
   },
   "source": [
    "### Function Wrappers \n",
    "\n",
    "- we have used **function wrappers**, a pattern inspired from the Decorator design pattern:\n",
    "  - a function *wraps* another function in order to\n",
    "    - perform some *prologue* and/or *epilogue* tasks\n",
    "    - optimize (e.g. cache results )\n",
    "  - while the *wrapper* is *fully* compatible with the wrapped function so it can be used instead\n",
    "\n",
    "More on Function Wrappers: \n",
    "- https://wiki.python.org/moin/FunctionWrappers\n",
    "- Wrappers to the Rescue: http://citeseerx.ist.psu.edu/viewdoc/download?doi=10.1.1.18.6550&rep=rep1&type=pdf"
   ]
  },
  {
   "cell_type": "markdown",
   "metadata": {
    "nbpresent": {
     "id": "4863dd60-386b-4511-a15b-ac10da1c344d"
    },
    "slideshow": {
     "slide_type": "subslide"
    }
   },
   "source": [
    "\n",
    "### Advantages of Wrappers\n",
    "\n",
    "- allows surgical precision \n",
    "- allow **even more surgical deployment and removal** of wrappers at runtime\n",
    "  - e.g. FlaskMonitoringDashboard \n",
    "  - as opposed to off-the-shelf tools that trace the entire execution of the program\n",
    "      \n",
    "### Disadvantages of Wrappers\n",
    "- they introduce an overhead (but then, so do all code related tracing)\n",
    "- they require you to obtain the **live** objects (must be in the same process as the instrumented code)\n",
    "      "
   ]
  },
  {
   "cell_type": "markdown",
   "metadata": {
    "slideshow": {
     "slide_type": "subslide"
    }
   },
   "source": [
    "### Challenges for You\n",
    "\n",
    "#### Extract dynamic dependencies from your case study system?\n",
    "- can you create a wrapper that traces method calls (both the caller and the callee?)\n",
    "- fully qualified names of the caller method\n",
    "- can you run it on your Python case study? (ping me if you need help!)\n",
    "\n",
    "\n",
    "#### Implement a **Code Coverage Viewpoint**?\n",
    "  - for every class compute the ratio of methods called in the unit tests from the total number of methods\n",
    "  - aggregate to module level\n"
   ]
  },
  {
   "cell_type": "markdown",
   "metadata": {
    "nbpresent": {
     "id": "a0b4e7de-7acc-41ad-a5a0-1c8b2bfd959f"
    },
    "slideshow": {
     "slide_type": "subslide"
    }
   },
   "source": [
    "### Modyfing Bytecode at Runtime: Java Example\n",
    "\n",
    "\n",
    "- Java programs are compiled into bytecode\n",
    "- Bytecode is executed on the JVM\n",
    "- You can provide a Java Agent (via command line argument -javaagent) that modifieds the bytecode before it being executed\n",
    "\n",
    "\n",
    "<img src=\"./images/java_instrumentation.png\" style=\"width:70%\" />\n",
    "\n",
    "\n",
    "Advantage: JVM bytecode instrumentation works for multiple languages; And Source code is harder\n",
    "\n",
    "Image source: https://blog.sqreen.com/building-a-dynamic-instrumentation-agent-for-java/\n"
   ]
  },
  {
   "cell_type": "markdown",
   "metadata": {
    "nbpresent": {
     "id": "02bb3540-e6ed-4fba-999b-91427a69ca64"
    },
    "slideshow": {
     "slide_type": "slide"
    }
   },
   "source": [
    "## Instrumentation (3): Network Traffic Analysis\n",
    "\n",
    "Not exactly `traditional` dynamic analysis:\n",
    "- useful for service oriented architectures\n",
    "- monitors the messages on the wire\n",
    "- powerful approach for reverse engineering services\n",
    "\n",
    "\n",
    "Read: https://danlebrero.com/2017/04/06/documenting-your-architecture-wireshark-plantuml-and-a-repl/\n",
    "\n",
    "\n",
    "Note: **Something like this would be a great starting point for a thesis**\n",
    "\n"
   ]
  },
  {
   "cell_type": "markdown",
   "metadata": {
    "slideshow": {
     "slide_type": "slide"
    }
   },
   "source": [
    "## Step 2: Run Code and Collect Data\n",
    "\n",
    "Not that trivial as you might think\n",
    "\n",
    "Running the Code At all: \n",
    "\n",
    "- Challenges\n",
    "  - configuration\n",
    "  - dependencies\n",
    "  - unwritten rules\n",
    "  - some systems don't have a clear entry point (e.g. libraries)\n",
    "\n",
    "\n",
    "- Helpful practices\n",
    "  - continuous integration\n",
    "  - containerization\n",
    "  - infrastructure as code\n",
    "  "
   ]
  },
  {
   "cell_type": "markdown",
   "metadata": {
    "nbpresent": {
     "id": "4ddb0827-e782-451c-addb-87a9a1f4dc27"
    },
    "slideshow": {
     "slide_type": "subslide"
    }
   },
   "source": [
    "## Which Scenarios to Run from the System?\n",
    "\n",
    "- Run the unit tests if they exist \n",
    "- Exercise \"features\" \n",
    "\n",
    "> A feature is a realized functional requirement of a system. [...] an observable unit of behavior of a system triggered by the user [Eisenbarth et al., 2003].\n"
   ]
  },
  {
   "cell_type": "markdown",
   "metadata": {
    "nbpresent": {
     "id": "985f1135-42dd-471d-a855-4b4222710b13"
    },
    "slideshow": {
     "slide_type": "slide"
    }
   },
   "source": [
    "# Limitations of Dynamic Analysis\n",
    "\n",
    "- limited by execution coverage \n",
    "  - a program does not reach an execution point... => no data (e.g. Word but user never prints)\n",
    "- can slow down the application considerably \n",
    "- can result in a large amount of of data\n",
    "\n",
    "  \n"
   ]
  },
  {
   "cell_type": "markdown",
   "metadata": {
    "nbpresent": {
     "id": "14df1ce6-b858-46a5-a242-eca37d805c56"
    },
    "slideshow": {
     "slide_type": "slide"
    }
   },
   "source": [
    "## Further Reading\n",
    "\n",
    "[Optional] Papers: \n",
    "- **Visualizing the Execution of Java Programs**. Wim De Pauw, Erik Jensen, Nick Mitchell, Gary Sevitsky, John Vlissides, Jeaha Yang\n",
    "\n",
    "- **Correlating Features and Code Using a Compact Two-Sideed Trace Analysis Approach**. Orla Greevy, Stephane Ducasse. \n"
   ]
  },
  {
   "cell_type": "markdown",
   "metadata": {
    "slideshow": {
     "slide_type": "subslide"
    }
   },
   "source": [
    "### References\n",
    "\n",
    "[Eisenbarth et al., 2003]. Thomas Eisenbarth, Rainer Koschke, and Daniel Simon. Locating features in source code. IEEE Computer, 29(3):210–224, March 2003."
   ]
  },
  {
   "cell_type": "markdown",
   "metadata": {
    "nbpresent": {
     "id": "8e222d77-630d-4d5d-8fc4-8fca6af57657"
    },
    "slideshow": {
     "slide_type": "slide"
    }
   },
   "source": [
    "## Uses Beyond Architecture Recovery\n",
    "\n",
    "- Performance monitoring (e.g. the FMD)\n",
    "- Intercepting and tracing specific calls\n",
    "  - e.g. calls to the DB, calls across the network\n",
    "  \n",
    "- Quality control (e.g. test coverage tool)\n",
    "- Dynamic optimizations \n",
    "- Logging Energy Usage (https://help.apple.com/instruments/mac/current/#/dev03a7149d)"
   ]
  }
 ],
 "metadata": {
  "anaconda-cloud": {},
  "celltoolbar": "Slideshow",
  "kernelspec": {
   "display_name": "Python 3",
   "language": "python",
   "name": "python3"
  },
  "language_info": {
   "codemirror_mode": {
    "name": "ipython",
    "version": 3
   },
   "file_extension": ".py",
   "mimetype": "text/x-python",
   "name": "python",
   "nbconvert_exporter": "python",
   "pygments_lexer": "ipython3",
   "version": "3.9.2"
  },
  "nbpresent": {
   "slides": {
    "0a2ba07d-9ade-45f9-8380-adfcff418131": {
     "id": "0a2ba07d-9ade-45f9-8380-adfcff418131",
     "prev": "aab17e6c-ff35-4afb-973e-764076ca8ca5",
     "regions": {
      "5d45a796-9e68-4cc2-bddb-36cfcd48b168": {
       "attrs": {
        "height": 0.8,
        "width": 0.8,
        "x": 0.1,
        "y": 0.1
       },
       "content": {
        "cell": "54811624-c009-419f-99dc-693089e7f284",
        "part": "whole"
       },
       "id": "5d45a796-9e68-4cc2-bddb-36cfcd48b168"
      }
     }
    },
    "0a333332-d9a1-4fb5-b064-e30558bb0a25": {
     "id": "0a333332-d9a1-4fb5-b064-e30558bb0a25",
     "prev": "9c70ee2e-1ec6-4e3b-90c2-15bfbba4b179",
     "regions": {
      "c3792162-c600-428a-abdc-b4e8a7a7ae47": {
       "attrs": {
        "height": 0.8,
        "width": 0.8,
        "x": 0.1,
        "y": 0.1
       },
       "content": {
        "cell": "ed10337f-a838-4ee3-96c2-c0aa85a41dd7",
        "part": "whole"
       },
       "id": "c3792162-c600-428a-abdc-b4e8a7a7ae47"
      }
     }
    },
    "0dffd81a-8974-43f1-bd1a-6b4efb975e3c": {
     "id": "0dffd81a-8974-43f1-bd1a-6b4efb975e3c",
     "prev": "1df1b56b-e009-4944-a13a-9cb45b662881",
     "regions": {
      "dd5273fb-ec9b-43fe-8125-b8f3d53c011c": {
       "attrs": {
        "height": 0.8,
        "width": 0.8,
        "x": 0.1,
        "y": 0.1
       },
       "content": {
        "cell": "8e222d77-630d-4d5d-8fc4-8fca6af57657",
        "part": "whole"
       },
       "id": "dd5273fb-ec9b-43fe-8125-b8f3d53c011c"
      }
     }
    },
    "10b447d8-59c0-4269-99c4-f6a1dd1a9721": {
     "id": "10b447d8-59c0-4269-99c4-f6a1dd1a9721",
     "prev": "4773ddb6-03b9-44bc-a50e-3a83aebf430a",
     "regions": {
      "f2c72f5e-6eeb-453c-8ebc-009c4e3ee797": {
       "attrs": {
        "height": 0.8,
        "width": 0.8,
        "x": 0.1,
        "y": 0.1
       },
       "content": {
        "cell": "3cbfbedb-64d3-4ffc-83d5-9c5acef1fa7b",
        "part": "whole"
       },
       "id": "f2c72f5e-6eeb-453c-8ebc-009c4e3ee797"
      }
     }
    },
    "1df1b56b-e009-4944-a13a-9cb45b662881": {
     "id": "1df1b56b-e009-4944-a13a-9cb45b662881",
     "prev": "2446ec97-f867-4e56-9bd2-9c5fb24771a2",
     "regions": {
      "58ad4239-9a85-4d68-be1b-6f8ea3232642": {
       "attrs": {
        "height": 0.8,
        "width": 0.8,
        "x": 0.1,
        "y": 0.1
       },
       "content": {
        "cell": "985f1135-42dd-471d-a855-4b4222710b13",
        "part": "whole"
       },
       "id": "58ad4239-9a85-4d68-be1b-6f8ea3232642"
      }
     }
    },
    "208fbb63-d1f2-4c22-a482-5a201c1be328": {
     "id": "208fbb63-d1f2-4c22-a482-5a201c1be328",
     "prev": "7739b565-c974-402c-a8ba-676d492e8fc9",
     "regions": {
      "3f58de3c-5445-4a71-9463-df635a4c93c7": {
       "attrs": {
        "height": 0.8,
        "width": 0.8,
        "x": 0.1,
        "y": 0.1
       },
       "content": {
        "cell": "6a62c3c2-aee7-43dc-9df6-b0e75c03a824",
        "part": "whole"
       },
       "id": "3f58de3c-5445-4a71-9463-df635a4c93c7"
      }
     }
    },
    "2446ec97-f867-4e56-9bd2-9c5fb24771a2": {
     "id": "2446ec97-f867-4e56-9bd2-9c5fb24771a2",
     "prev": "9bc0c8e1-1b67-468c-819a-e01f23ad5b63",
     "regions": {
      "f706200f-1901-462c-99ca-1589b0fdead5": {
       "attrs": {
        "height": 0.8,
        "width": 0.8,
        "x": 0.1,
        "y": 0.1
       },
       "content": {
        "cell": "02bb3540-e6ed-4fba-999b-91427a69ca64",
        "part": "whole"
       },
       "id": "f706200f-1901-462c-99ca-1589b0fdead5"
      }
     }
    },
    "26460fd8-4379-4de4-9c4c-f1a2eb48f3cb": {
     "id": "26460fd8-4379-4de4-9c4c-f1a2eb48f3cb",
     "prev": "e8718bd2-e790-49ad-a97a-27f2fcf59284",
     "regions": {
      "e4af6a77-66e0-4cf2-923a-6ddfdcd6710e": {
       "attrs": {
        "height": 0.8,
        "width": 0.8,
        "x": 0.1,
        "y": 0.1
       },
       "content": {
        "cell": "5c82d7cf-5dbf-4dae-b88e-4ee5f6fa8ced",
        "part": "whole"
       },
       "id": "e4af6a77-66e0-4cf2-923a-6ddfdcd6710e"
      }
     }
    },
    "317233c4-f88b-41e2-8e06-353d65532dc4": {
     "id": "317233c4-f88b-41e2-8e06-353d65532dc4",
     "prev": "ded4f69e-428b-4105-9139-7ecb6bf864ad",
     "regions": {
      "78c0de43-4f79-4c40-9402-469bb7fe8c21": {
       "attrs": {
        "height": 0.8,
        "width": 0.8,
        "x": 0.1,
        "y": 0.1
       },
       "content": {
        "cell": "b5688b12-a7ab-4242-a430-d6abee6b3f78",
        "part": "whole"
       },
       "id": "78c0de43-4f79-4c40-9402-469bb7fe8c21"
      }
     }
    },
    "3ea47fdc-b607-46b4-aa68-d3a8ef9472f9": {
     "id": "3ea47fdc-b607-46b4-aa68-d3a8ef9472f9",
     "prev": "8f29febf-b017-4fcf-b4dc-1618b22a9a28",
     "regions": {
      "43f50031-5a1a-4d16-ba9d-14cfb1215f98": {
       "attrs": {
        "height": 0.8,
        "width": 0.8,
        "x": 0.1,
        "y": 0.1
       },
       "content": {
        "cell": "f0a769de-aa17-4213-af85-ae76496e0328",
        "part": "whole"
       },
       "id": "43f50031-5a1a-4d16-ba9d-14cfb1215f98"
      }
     }
    },
    "4773ddb6-03b9-44bc-a50e-3a83aebf430a": {
     "id": "4773ddb6-03b9-44bc-a50e-3a83aebf430a",
     "prev": "c6c98c7e-e425-47b9-9087-336fcc5afe63",
     "regions": {
      "8eba3793-e7c2-479e-a3f4-934f85a86392": {
       "attrs": {
        "height": 0.8,
        "width": 0.8,
        "x": 0.1,
        "y": 0.1
       },
       "content": {
        "cell": "89c73c54-6cee-4197-8f43-650099cef85c",
        "part": "whole"
       },
       "id": "8eba3793-e7c2-479e-a3f4-934f85a86392"
      }
     }
    },
    "4b6b657b-c185-4679-86b8-05d50b88282f": {
     "id": "4b6b657b-c185-4679-86b8-05d50b88282f",
     "prev": "0a333332-d9a1-4fb5-b064-e30558bb0a25",
     "regions": {
      "f1d86779-5848-4931-8e6f-79083c50dadb": {
       "attrs": {
        "height": 0.8,
        "width": 0.8,
        "x": 0.1,
        "y": 0.1
       },
       "content": {
        "cell": "f8b52b9c-a323-4dbe-a3ee-ec2a34663b41",
        "part": "whole"
       },
       "id": "f1d86779-5848-4931-8e6f-79083c50dadb"
      }
     }
    },
    "5c1220a7-5e2a-427d-973c-44e3c83834c4": {
     "id": "5c1220a7-5e2a-427d-973c-44e3c83834c4",
     "prev": "9b790a10-b8f8-469c-a8fe-5a0a0818967f",
     "regions": {
      "30b9195a-dd5b-40b7-a6eb-8e6fd70a0914": {
       "attrs": {
        "height": 0.8,
        "width": 0.8,
        "x": 0.1,
        "y": 0.1
       },
       "content": {
        "cell": "8262e7de-cec7-4dcf-a6d2-bf4c02659f67",
        "part": "whole"
       },
       "id": "30b9195a-dd5b-40b7-a6eb-8e6fd70a0914"
      }
     }
    },
    "612b09ff-9d44-4c7b-ba8e-c171608afdb1": {
     "id": "612b09ff-9d44-4c7b-ba8e-c171608afdb1",
     "prev": "8d42d430-f151-4bba-a400-3329445a62d2",
     "regions": {
      "6fdb4f23-18e1-478e-9372-4ae03ac67ecc": {
       "attrs": {
        "height": 0.8,
        "width": 0.8,
        "x": 0.1,
        "y": 0.1
       },
       "content": {
        "cell": "90d3e9dd-a7a8-42ee-84db-82dcfc60587a",
        "part": "whole"
       },
       "id": "6fdb4f23-18e1-478e-9372-4ae03ac67ecc"
      }
     }
    },
    "6656f54d-bcfa-481c-a895-a6cdbf3013a3": {
     "id": "6656f54d-bcfa-481c-a895-a6cdbf3013a3",
     "prev": "d7c84ec1-4c6a-4622-b2a0-b8821ab31851",
     "regions": {
      "683009f7-9a29-44f5-9f3d-2cc89ff89155": {
       "attrs": {
        "height": 0.8,
        "width": 0.8,
        "x": 0.1,
        "y": 0.1
       },
       "content": {
        "cell": "ba52e85e-313f-431a-9418-a3ce8c003d8c",
        "part": "whole"
       },
       "id": "683009f7-9a29-44f5-9f3d-2cc89ff89155"
      }
     }
    },
    "687e070a-1610-4cbb-aea3-702a33735059": {
     "id": "687e070a-1610-4cbb-aea3-702a33735059",
     "prev": null,
     "regions": {
      "4d76b68f-379b-4d09-8fcc-eafb3bdad702": {
       "attrs": {
        "height": 0.8,
        "width": 0.8,
        "x": 0.1,
        "y": 0.1
       },
       "content": {
        "cell": "65576d12-7eb3-4a8b-80e6-752ed233f293",
        "part": "whole"
       },
       "id": "4d76b68f-379b-4d09-8fcc-eafb3bdad702"
      }
     }
    },
    "74012632-90f7-454f-a0cc-b3ec488e773b": {
     "id": "74012632-90f7-454f-a0cc-b3ec488e773b",
     "prev": "8f1eeec1-e1bc-4ed6-a57e-59e51a81830e",
     "regions": {
      "ca37cb00-4041-4a71-8b62-9c4bfdd17511": {
       "attrs": {
        "height": 0.8,
        "width": 0.8,
        "x": 0.1,
        "y": 0.1
       },
       "content": {
        "cell": "4ddb0827-e782-451c-addb-87a9a1f4dc27",
        "part": "whole"
       },
       "id": "ca37cb00-4041-4a71-8b62-9c4bfdd17511"
      }
     }
    },
    "756b8e27-7157-436b-a284-ced246b4ab46": {
     "id": "756b8e27-7157-436b-a284-ced246b4ab46",
     "prev": "0dffd81a-8974-43f1-bd1a-6b4efb975e3c",
     "regions": {
      "0843af02-5b15-422c-9651-49297de2d872": {
       "attrs": {
        "height": 0.8,
        "width": 0.8,
        "x": 0.1,
        "y": 0.1
       },
       "content": {
        "cell": "14df1ce6-b858-46a5-a242-eca37d805c56",
        "part": "whole"
       },
       "id": "0843af02-5b15-422c-9651-49297de2d872"
      }
     }
    },
    "7739b565-c974-402c-a8ba-676d492e8fc9": {
     "id": "7739b565-c974-402c-a8ba-676d492e8fc9",
     "prev": "b5eefc60-5c6a-4d92-811c-38ee455bf213",
     "regions": {
      "6542b104-9007-41ac-8d93-94b7d5a1e39d": {
       "attrs": {
        "height": 0.8,
        "width": 0.8,
        "x": 0.1,
        "y": 0.1
       },
       "content": {
        "cell": "4711e785-b310-4727-a66a-c3fa84d536b4",
        "part": "whole"
       },
       "id": "6542b104-9007-41ac-8d93-94b7d5a1e39d"
      }
     }
    },
    "79a08213-39ce-4f07-9338-0a665c96ac9c": {
     "id": "79a08213-39ce-4f07-9338-0a665c96ac9c",
     "prev": "7b02cdc0-1ccb-48c5-9fee-935d3a0c05ce",
     "regions": {
      "5dbfc544-8283-4fa7-8ed0-8561ae72dba4": {
       "attrs": {
        "height": 0.8,
        "width": 0.8,
        "x": 0.1,
        "y": 0.1
       },
       "content": {
        "cell": "cb5b4ace-9612-416b-9d5f-87a077374d99",
        "part": "whole"
       },
       "id": "5dbfc544-8283-4fa7-8ed0-8561ae72dba4"
      }
     }
    },
    "7b02cdc0-1ccb-48c5-9fee-935d3a0c05ce": {
     "id": "7b02cdc0-1ccb-48c5-9fee-935d3a0c05ce",
     "prev": "317233c4-f88b-41e2-8e06-353d65532dc4",
     "regions": {
      "5b7357af-1eaa-49c3-a730-8d83df969031": {
       "attrs": {
        "height": 0.8,
        "width": 0.8,
        "x": 0.1,
        "y": 0.1
       },
       "content": {
        "cell": "ef7dfcac-7d47-4345-b0d1-9afd0546f950",
        "part": "whole"
       },
       "id": "5b7357af-1eaa-49c3-a730-8d83df969031"
      }
     }
    },
    "86153117-e3f9-44d5-927f-11c96f8bc750": {
     "id": "86153117-e3f9-44d5-927f-11c96f8bc750",
     "prev": "92f71f82-9cb4-4594-abd4-b8ab48a77e07",
     "regions": {
      "c0797624-0c6d-4ec8-a695-fde96df1c7f2": {
       "attrs": {
        "height": 0.8,
        "width": 0.8,
        "x": 0.1,
        "y": 0.1
       },
       "content": {
        "cell": "a0b4e7de-7acc-41ad-a5a0-1c8b2bfd959f",
        "part": "whole"
       },
       "id": "c0797624-0c6d-4ec8-a695-fde96df1c7f2"
      }
     }
    },
    "8d42d430-f151-4bba-a400-3329445a62d2": {
     "id": "8d42d430-f151-4bba-a400-3329445a62d2",
     "prev": "74012632-90f7-454f-a0cc-b3ec488e773b",
     "regions": {
      "e7f64c5d-cf3f-42ea-9feb-805559cf1311": {
       "attrs": {
        "height": 0.8,
        "width": 0.8,
        "x": 0.1,
        "y": 0.1
       },
       "content": {
        "cell": "efe4e10a-1346-4702-8791-502aa11c1435",
        "part": "whole"
       },
       "id": "e7f64c5d-cf3f-42ea-9feb-805559cf1311"
      }
     }
    },
    "8f1eeec1-e1bc-4ed6-a57e-59e51a81830e": {
     "id": "8f1eeec1-e1bc-4ed6-a57e-59e51a81830e",
     "prev": "10b447d8-59c0-4269-99c4-f6a1dd1a9721",
     "regions": {
      "0ae36b72-f250-40c9-a1d7-4735098f9886": {
       "attrs": {
        "height": 0.8,
        "width": 0.8,
        "x": 0.1,
        "y": 0.1
       },
       "content": {
        "cell": "acb0558e-02fe-4bae-a9cf-517ad479b992",
        "part": "whole"
       },
       "id": "0ae36b72-f250-40c9-a1d7-4735098f9886"
      }
     }
    },
    "8f29febf-b017-4fcf-b4dc-1618b22a9a28": {
     "id": "8f29febf-b017-4fcf-b4dc-1618b22a9a28",
     "prev": "208fbb63-d1f2-4c22-a482-5a201c1be328",
     "regions": {
      "899b4c86-1386-45a4-b6f4-930b7f0f279a": {
       "attrs": {
        "height": 0.8,
        "width": 0.8,
        "x": 0.1,
        "y": 0.1
       },
       "content": {
        "cell": "b8ab0024-eda0-4257-a96f-a484755427a6",
        "part": "whole"
       },
       "id": "899b4c86-1386-45a4-b6f4-930b7f0f279a"
      }
     }
    },
    "92f71f82-9cb4-4594-abd4-b8ab48a77e07": {
     "id": "92f71f82-9cb4-4594-abd4-b8ab48a77e07",
     "prev": "612b09ff-9d44-4c7b-ba8e-c171608afdb1",
     "regions": {
      "0f2eac9a-5d30-450e-8ce7-98d3f58e1a3f": {
       "attrs": {
        "height": 0.8,
        "width": 0.8,
        "x": 0.1,
        "y": 0.1
       },
       "content": {
        "cell": "205a5732-278d-4209-874b-e0d52e869906",
        "part": "whole"
       },
       "id": "0f2eac9a-5d30-450e-8ce7-98d3f58e1a3f"
      }
     }
    },
    "9b790a10-b8f8-469c-a8fe-5a0a0818967f": {
     "id": "9b790a10-b8f8-469c-a8fe-5a0a0818967f",
     "prev": "d1d04979-5c70-4147-b68e-d73313256560",
     "regions": {
      "feff6f38-a426-4763-ae6a-0d361bd6461c": {
       "attrs": {
        "height": 0.8,
        "width": 0.8,
        "x": 0.1,
        "y": 0.1
       },
       "content": {
        "cell": "19af9674-a158-43e6-a794-cfc65211637d",
        "part": "whole"
       },
       "id": "feff6f38-a426-4763-ae6a-0d361bd6461c"
      }
     }
    },
    "9bc0c8e1-1b67-468c-819a-e01f23ad5b63": {
     "id": "9bc0c8e1-1b67-468c-819a-e01f23ad5b63",
     "prev": "a54f7bdd-c581-4e16-9087-a06e640c8d83",
     "regions": {
      "f8590037-169d-4676-a5d8-1d92793cd507": {
       "attrs": {
        "height": 0.8,
        "width": 0.8,
        "x": 0.1,
        "y": 0.1
       },
       "content": {
        "cell": "4863dd60-386b-4511-a15b-ac10da1c344d",
        "part": "whole"
       },
       "id": "f8590037-169d-4676-a5d8-1d92793cd507"
      }
     }
    },
    "9c70ee2e-1ec6-4e3b-90c2-15bfbba4b179": {
     "id": "9c70ee2e-1ec6-4e3b-90c2-15bfbba4b179",
     "prev": "6656f54d-bcfa-481c-a895-a6cdbf3013a3",
     "regions": {
      "df21948b-ec7f-4abd-8417-481a7250fee8": {
       "attrs": {
        "height": 0.8,
        "width": 0.8,
        "x": 0.1,
        "y": 0.1
       },
       "content": {
        "cell": "96cb39b8-ac3a-4dea-8d9c-55bec710ddcf",
        "part": "whole"
       },
       "id": "df21948b-ec7f-4abd-8417-481a7250fee8"
      }
     }
    },
    "a54f7bdd-c581-4e16-9087-a06e640c8d83": {
     "id": "a54f7bdd-c581-4e16-9087-a06e640c8d83",
     "prev": "26460fd8-4379-4de4-9c4c-f1a2eb48f3cb",
     "regions": {
      "ddf25861-2d41-462f-9645-c5efc4955ba0": {
       "attrs": {
        "height": 0.8,
        "width": 0.8,
        "x": 0.1,
        "y": 0.1
       },
       "content": {
        "cell": "a1b23f85-8c0b-4645-bb20-cd2dbf4ae008",
        "part": "whole"
       },
       "id": "ddf25861-2d41-462f-9645-c5efc4955ba0"
      }
     }
    },
    "aab17e6c-ff35-4afb-973e-764076ca8ca5": {
     "id": "aab17e6c-ff35-4afb-973e-764076ca8ca5",
     "prev": "86153117-e3f9-44d5-927f-11c96f8bc750",
     "regions": {
      "62e38f25-1cee-49b1-9a31-1a31d60de78a": {
       "attrs": {
        "height": 0.8,
        "width": 0.8,
        "x": 0.1,
        "y": 0.1
       },
       "content": {
        "cell": "15b9b170-9f7d-4f35-98ca-e1649680fd49",
        "part": "whole"
       },
       "id": "62e38f25-1cee-49b1-9a31-1a31d60de78a"
      }
     }
    },
    "b5eefc60-5c6a-4d92-811c-38ee455bf213": {
     "id": "b5eefc60-5c6a-4d92-811c-38ee455bf213",
     "prev": "5c1220a7-5e2a-427d-973c-44e3c83834c4",
     "regions": {
      "23d11ac4-8935-45dc-9747-0972f5aea9dc": {
       "attrs": {
        "height": 0.8,
        "width": 0.8,
        "x": 0.1,
        "y": 0.1
       },
       "content": {
        "cell": "e7b5a252-3ead-4126-a23f-a0162107a14d",
        "part": "whole"
       },
       "id": "23d11ac4-8935-45dc-9747-0972f5aea9dc"
      }
     }
    },
    "bb6424ae-9225-4ee1-86c3-8d3417a39a19": {
     "id": "bb6424ae-9225-4ee1-86c3-8d3417a39a19",
     "prev": "d69ad92d-7635-4bd1-a4c6-d152c22e1530",
     "regions": {
      "4ca938cd-0edf-4a48-aa11-fbafdad4479a": {
       "attrs": {
        "height": 0.8,
        "width": 0.8,
        "x": 0.1,
        "y": 0.1
       },
       "content": {
        "cell": "92b18ba7-dc05-45bd-9460-e01f11f1b53a",
        "part": "whole"
       },
       "id": "4ca938cd-0edf-4a48-aa11-fbafdad4479a"
      }
     }
    },
    "c6c98c7e-e425-47b9-9087-336fcc5afe63": {
     "id": "c6c98c7e-e425-47b9-9087-336fcc5afe63",
     "prev": "687e070a-1610-4cbb-aea3-702a33735059",
     "regions": {
      "ec89f9de-f8db-41cd-9a34-b8935c456af6": {
       "attrs": {
        "height": 0.8,
        "width": 0.8,
        "x": 0.1,
        "y": 0.1
       },
       "content": {
        "cell": "1863763d-ba53-44e3-b2d7-a3359c562cff",
        "part": "whole"
       },
       "id": "ec89f9de-f8db-41cd-9a34-b8935c456af6"
      }
     }
    },
    "d1d04979-5c70-4147-b68e-d73313256560": {
     "id": "d1d04979-5c70-4147-b68e-d73313256560",
     "prev": "0a2ba07d-9ade-45f9-8380-adfcff418131",
     "regions": {
      "c003116e-0b9d-452e-b5b2-983a26f4cf82": {
       "attrs": {
        "height": 0.8,
        "width": 0.8,
        "x": 0.1,
        "y": 0.1
       },
       "content": {
        "cell": "f3a9e13f-32f0-46d0-8d0e-87247de97afa",
        "part": "whole"
       },
       "id": "c003116e-0b9d-452e-b5b2-983a26f4cf82"
      }
     }
    },
    "d69ad92d-7635-4bd1-a4c6-d152c22e1530": {
     "id": "d69ad92d-7635-4bd1-a4c6-d152c22e1530",
     "prev": "4b6b657b-c185-4679-86b8-05d50b88282f",
     "regions": {
      "945336df-31fb-46d6-8e62-5dc4a7c8c58c": {
       "attrs": {
        "height": 0.8,
        "width": 0.8,
        "x": 0.1,
        "y": 0.1
       },
       "content": {
        "cell": "31eb87ea-1f0a-436a-8640-05e9a008a6a4",
        "part": "whole"
       },
       "id": "945336df-31fb-46d6-8e62-5dc4a7c8c58c"
      }
     }
    },
    "d7c84ec1-4c6a-4622-b2a0-b8821ab31851": {
     "id": "d7c84ec1-4c6a-4622-b2a0-b8821ab31851",
     "prev": "3ea47fdc-b607-46b4-aa68-d3a8ef9472f9",
     "regions": {
      "9e1e88ea-dfe6-44eb-807b-3c58b60e5f6d": {
       "attrs": {
        "height": 0.8,
        "width": 0.8,
        "x": 0.1,
        "y": 0.1
       },
       "content": {
        "cell": "b5beb401-020e-428f-a17b-15277e4fdd96",
        "part": "whole"
       },
       "id": "9e1e88ea-dfe6-44eb-807b-3c58b60e5f6d"
      }
     }
    },
    "ded4f69e-428b-4105-9139-7ecb6bf864ad": {
     "id": "ded4f69e-428b-4105-9139-7ecb6bf864ad",
     "prev": "bb6424ae-9225-4ee1-86c3-8d3417a39a19",
     "regions": {
      "fb220bac-752f-493c-9fe1-4819f3ebad3f": {
       "attrs": {
        "height": 0.8,
        "width": 0.8,
        "x": 0.1,
        "y": 0.1
       },
       "content": {
        "cell": "8c5a7a17-5587-48aa-905c-34762dc61380",
        "part": "whole"
       },
       "id": "fb220bac-752f-493c-9fe1-4819f3ebad3f"
      }
     }
    },
    "e8718bd2-e790-49ad-a97a-27f2fcf59284": {
     "id": "e8718bd2-e790-49ad-a97a-27f2fcf59284",
     "prev": "79a08213-39ce-4f07-9338-0a665c96ac9c",
     "regions": {
      "68d7063b-915b-40f3-8ef9-88a88fb18fb9": {
       "attrs": {
        "height": 0.8,
        "width": 0.8,
        "x": 0.1,
        "y": 0.1
       },
       "content": {
        "cell": "e4caec7b-ca44-4680-8653-d2f80f48b5c6",
        "part": "whole"
       },
       "id": "68d7063b-915b-40f3-8ef9-88a88fb18fb9"
      }
     }
    }
   },
   "themes": {}
  }
 },
 "nbformat": 4,
 "nbformat_minor": 1
}
