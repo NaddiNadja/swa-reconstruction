{
 "cells": [
  {
   "cell_type": "markdown",
   "metadata": {},
   "source": [
    "# Data Gathering\n",
    "\n",
    "Going deeper in this aspect: \n",
    "- Kinds of Data\n",
    "  - Expert Knowledge (most important!)\n",
    "  - Source Code Analysis\n",
    "    - Textual (Regular Expressions)\n",
    "    - Parsing (extracting ASTs) \n",
    "  - Version Control Information\n",
    "  - Deployment Files\n",
    "  - Database \n",
    "  - Dynamic Analysis \n",
    "\n"
   ]
  },
  {
   "cell_type": "markdown",
   "metadata": {},
   "source": [
    "# Abstraction \n",
    "\n",
    "- Kinds of Abstraction\n",
    "  - Based on Existing Folder Structure\n",
    "  - Based on Explicit Module Declarations\n",
    "  - Automated based on Clustering Algorithms\n",
    "  - \"Key Components\"\n"
   ]
  },
  {
   "cell_type": "markdown",
   "metadata": {},
   "source": [
    "## Static Analysis\n",
    "\n",
    "analysis of computer software without actually executing programs\n",
    "\n",
    "- what we did with extracting `import` statements\n",
    "   - ... it's SA at the most basic level\n",
    "   - it's easy and fast\n",
    "   - similar approaches would work for other languages\n"
   ]
  },
  {
   "cell_type": "markdown",
   "metadata": {},
   "source": [
    "## Limitation of RegEx-es\n",
    "\n",
    "Not powerful enough for PLs\n",
    "\n",
    "Most basic in the Chomsky hierarchy of languages \n",
    "<img style=\"float:right; margin-right: 200px;\" src=\"images/languages.png\" width=\"400px\"/>\n",
    "\n"
   ]
  },
  {
   "cell_type": "markdown",
   "metadata": {},
   "source": [
    "## Limitations of RegEx based SA\n",
    "\n",
    "- not be able to know whether it's commented out \n",
    "- would not be able to know that it's actuall real (could not be used)\n",
    "\n"
   ]
  },
  {
   "cell_type": "markdown",
   "metadata": {},
   "source": [
    "## Limitations of  `import` based analysis\n",
    "\n",
    "- too high level (e.g. how **strong** is a dependency) (fr: google automatically assessing the strength of dependencies)\n",
    "- is the dependency really used? \n"
   ]
  },
  {
   "cell_type": "markdown",
   "metadata": {},
   "source": [
    "## Solution: Syntactic Analysis\n",
    "\n",
    "- based on the grammar of the language\n",
    "- grammar can be complicated to define !!!\n",
    "  - Ref: grammar complexity for various languages\n",
    "- many languages have embedded support (e.g. `ast` package in Python)\n",
    "\n"
   ]
  },
  {
   "cell_type": "markdown",
   "metadata": {},
   "source": [
    "## Abstract Syntax Trees\n",
    "\n",
    "extracted by parsing using the grammar of the language\n",
    "\n",
    "intermediate representation that is used by the compilers\n",
    "  - which use it to generate executables\n",
    "  \n",
    "can be used to extract dependencies (intresting for us)\n",
    "\n",
    "can also be used for program transformations (not the topic of today)\n",
    "\n",
    "\n",
    "\n",
    "\n"
   ]
  },
  {
   "cell_type": "markdown",
   "metadata": {},
   "source": [
    "## Dynamic Analysis\n",
    "\n",
    "performed on executing software\n"
   ]
  },
  {
   "cell_type": "markdown",
   "metadata": {},
   "source": [
    "## Strategies for Abstraction\n",
    "\n"
   ]
  },
  {
   "cell_type": "markdown",
   "metadata": {},
   "source": [
    "## Key Components\n",
    "\n",
    "use metrics\n",
    "- FAN-IN / FAN-OUT\n",
    "- PageRank\n",
    "- ... \n",
    "\n"
   ]
  },
  {
   "cell_type": "markdown",
   "metadata": {},
   "source": [
    "## Discussion: Static vs. Dynamic Dependency Extraction\n",
    "\n",
    "In terms of precision and recall: \n",
    "- high precision low recall: ... ?\n",
    "- low precision high recall: ... ?\n",
    "\n",
    "In terms of ease of execution:\n",
    "- code \n",
    "- unit tests\n",
    "\n",
    "In terms of data volume:\n",
    "- huge\n",
    "- large\n",
    "\n",
    "\n"
   ]
  },
  {
   "cell_type": "code",
   "execution_count": null,
   "metadata": {
    "collapsed": true
   },
   "outputs": [],
   "source": []
  }
 ],
 "metadata": {
  "anaconda-cloud": {},
  "kernelspec": {
   "display_name": "Python [conda root]",
   "language": "python",
   "name": "conda-root-py"
  },
  "language_info": {
   "codemirror_mode": {
    "name": "ipython",
    "version": 3
   },
   "file_extension": ".py",
   "mimetype": "text/x-python",
   "name": "python",
   "nbconvert_exporter": "python",
   "pygments_lexer": "ipython3",
   "version": "3.5.2"
  }
 },
 "nbformat": 4,
 "nbformat_minor": 1
}
