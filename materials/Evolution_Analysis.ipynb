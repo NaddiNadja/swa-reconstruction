{
 "cells": [
  {
   "cell_type": "markdown",
   "metadata": {
    "nbpresent": {
     "id": "8c50a051-6d7c-4d10-bb17-efc7a156ecb9"
    }
   },
   "source": [
    "# Software Evolution Analysis\n",
    "\n",
    "![](images/heraclitus.png)\n",
    "\n",
    "> Everything changes, and nothing stands still, \n",
    "> \n",
    "> and you can not step twice in the same... system.\n",
    "> \n",
    "> -- Heraclitus\n"
   ]
  },
  {
   "cell_type": "markdown",
   "metadata": {
    "nbpresent": {
     "id": "4944bb3a-903c-4721-bac6-795d5b7e3b7c"
    }
   },
   "source": [
    "# Metaphor Limitations: Software Architecture\n",
    "\n",
    "- Makes it sound like it's something fixed...\n",
    "- Even real world architecture, in time changes [Brand]\n",
    "- [Brand] - *How Buildings Learn*. Steward Brand\n",
    "  - The Long Now Foundation - Podcast\n",
    "\n",
    "\n",
    "\n",
    "\n",
    "\n",
    "\n"
   ]
  },
  {
   "cell_type": "markdown",
   "metadata": {},
   "source": [
    "## Further Metaphors\n",
    "\n",
    "My Favorite Metaphors of Software Development Emphasize Change...\n",
    "\n",
    "\n",
    "### 1. Performance Art\n",
    "- art: because it's creative\n",
    "- performance: you can't put it in a frame \n",
    "- => *advice:* if you ever create a cool innovative software then **make a screencast** about it\n",
    "\n",
    "\n",
    "### 2. A Garden \n",
    "- It needs somebody to always tend to it\n",
    "\n",
    "> I still remember the jolt I felt in 1958 when I first heard a friend talk about building a program, as opposed to writing one. In a flash he broadened my whole view of the software process.\n",
    "\n",
    "Brooks however thinks the building metaphor is not well equipped to handle the current projects we’re developing. Instead of building, which requires adequate plans and foresight, we should focus on growing a program organically. (Once even a very simple program is up and running, developers are much more enthusiastic about the progress.)\n",
    "\n"
   ]
  },
  {
   "cell_type": "markdown",
   "metadata": {},
   "source": [
    "### 3. Software Aging \n",
    "\n",
    "David Parnas's **Software Aging** [1]\n",
    "\n",
    "> Programs, like people, get old. \n",
    "\n",
    "- We can’t prevent aging, but \n",
    "  - we can understand its causes, \n",
    "  - take steps to limits its effects, \n",
    "  - temporarily reverse some of the damage it has caused, \n",
    "  - and prepare for the day when the software is no longer viable\n",
    "\n",
    "[1] Software Aging. David Lorge Parnas, https://ieeexplore.ieee.org/stamp/stamp.jsp?arnumber=296790\n"
   ]
  },
  {
   "cell_type": "markdown",
   "metadata": {},
   "source": [
    "# Laws of Software Evolution\n",
    "\n",
    "Lehman[1] proposed the laws about e-type systems:\n",
    "  - an e-type system is *embedded* in the real world\n",
    "  - and since the real world always changes... \n",
    "      - even if it weren't, the software ecosystem eventually changes [2] \n",
    "      - e.g. javascript packages, etc.\n",
    "\n",
    "[1] Lehman, Belady. Program Evolution: Processes of Software Change, London Academic Press, London, 1985\n",
    "\n",
    "[2] We'll talk more about ecosystems in the ASE course"
   ]
  },
  {
   "cell_type": "markdown",
   "metadata": {
    "nbpresent": {
     "id": "5a6a9800-95fb-4064-920f-10113e8a1a47"
    }
   },
   "source": [
    "## 1st Law of Software Evolution: E-Type Systems Must Change\n",
    "\n",
    "\n",
    "> A program that is used in a real-world environment must change, or become progressively less useful in that environment. (Lehman's Law of Continuing Change)\n",
    "\n",
    "\n",
    "\n",
    "        \n",
    "\n"
   ]
  },
  {
   "cell_type": "markdown",
   "metadata": {
    "nbpresent": {
     "id": "9534f040-ad62-4108-8de7-280a29e4d8c3"
    }
   },
   "source": [
    "## 2nd Law of Software Evolution: Ent*0py Happens!\n",
    "\n",
    "Manny Lehmann's **Law of Increasing Entropy**: \n",
    "\n",
    "> As a program evolves, it becomes more complex, and extra resources are needed to preserve and simplify its structure.\n",
    "\n"
   ]
  },
  {
   "cell_type": "markdown",
   "metadata": {
    "nbpresent": {
     "id": "e6126c62-0dea-4610-92ed-ecedc4ec585a"
    }
   },
   "source": [
    "# What if We Use System Evolution for Good? \n",
    "## e.g. for understanding\n",
    "\n",
    " \n",
    " By data mining the version repository we can find: \n",
    "\n",
    "  - places in the code which are high-risk (because they were risky in the past)\n",
    "    - + linking with issue tracker info\n",
    "\n",
    "  - parts of the system that need refactoring (study of Hitesh Sajnani)\n",
    "  \n",
    "  - navigation suggestions (e.g. Mylar for Eclipse)\n",
    "\n",
    "\n",
    "Today: \n",
    "  1. entities in the codebase where most effort was invested\n",
    "  1. invisible dependencies between files (e.g. logical coupling)\n",
    "  \n",
    "  \n",
    "  \n",
    " \n",
    "\n",
    "\n",
    "\n",
    "\n"
   ]
  },
  {
   "cell_type": "markdown",
   "metadata": {
    "nbpresent": {
     "id": "37d0c66e-79fc-4990-a00d-7ae039bcf27b"
    }
   },
   "source": [
    "## VCS Capture The Software Evolution\n",
    "\n",
    "VCS = version control system \n",
    "\n",
    "\n",
    "Over the last two decades **we have seen increases in**...\n",
    "  - **popularity of version control systems**\n",
    "https://trends.google.com/trends/explore?date=all&q=git,svn,software%20architecture,mercurial\n",
    "    - it's even funny for us to think that people used to email files around to collaborate\n",
    "    - one of the many practices that we, software engineers, have been teaching the rest of the world\n",
    "\n",
    "\n",
    "\n",
    "- **knowledge of how to manage versions**\n",
    "  - branching strategies\n",
    "  - integration with CI\n",
    "  - semantic versioning \n",
    "\n",
    "\n",
    "\n",
    "*How to integrate this information in AR?...*\n"
   ]
  },
  {
   "cell_type": "markdown",
   "metadata": {
    "nbpresent": {
     "id": "53428030-9541-4515-9c8a-ce09ad19ac91"
    }
   },
   "source": [
    "## Architectural Viewpoint: Evolutionary Hotspots \n",
    "\n",
    "### Evolutionary Hotspots =(*def*) **code entities where most effort was invested ** [1]\n",
    "\n",
    "\n",
    "Assumption: effort is proportional to architectural relevance\n",
    "\n",
    "\n",
    "Why? \n",
    "- Philosophycally\n",
    " > *\"The value of anything is proportional to time invested in it.\"* (M. Lungu)\n",
    " \n",
    " \n",
    "- Practically:\n",
    "  - high *churn* (change density) predicts bugs better than size [...]\n",
    "  - studies observe correlation between churn and complexity metrics [...]\n",
    "  - it's likely that they'll require more effort in the future (e.g. yesterday's weather [Girba et al.])\n",
    "    \n",
    "    \n",
    "- Pragmatically:\n",
    "  - can be detected with **language independent analysis** (which is good for polyglot systems)\n",
    "\n",
    "\n",
    "[1] *Source Code as a Crime Scene*. A. Tornhill\n",
    "\n",
    "  \n",
    "  \n",
    "\n"
   ]
  },
  {
   "cell_type": "markdown",
   "metadata": {
    "nbpresent": {
     "id": "4a400665-5577-4369-8c6f-55fd7d1de59b"
    }
   },
   "source": [
    "### Evolutionary Hotspots In Practice\n",
    "\n",
    "Challenges / Implementation Details: \n",
    "- how to measure effort invested? \n",
    "- what are the entities (files, aggregates?)\n",
    "- on what period is the study performed \n",
    "  - results will likely differ for periods\n",
    "\n",
    "\n",
    "\n",
    "\n"
   ]
  },
  {
   "cell_type": "markdown",
   "metadata": {
    "nbpresent": {
     "id": "9c2194a2-d87c-4722-a5d7-834125441a9d"
    }
   },
   "source": [
    "### Example Analysis\n",
    "\n",
    "VCS: Git\n",
    "\n",
    "Period of study: whole history\n",
    "\n",
    "Entities: files (+aggregation to modules)\n",
    "\n",
    "Invested effort: number of commits\n",
    "\n",
    "Case Study: Zeeguu-Core\n",
    "\n",
    "Toolbox: Python + PyDriller\n"
   ]
  },
  {
   "cell_type": "code",
   "execution_count": null,
   "metadata": {
    "nbpresent": {
     "id": "4bbbe069-0391-493b-b5d0-a4308fafb7cb"
    },
    "scrolled": true
   },
   "outputs": [],
   "source": [
    "import sys\n",
    "\n",
    "!{sys.executable} -m pip install pydriller\n",
    "!{sys.executable} -m pip install gitpython"
   ]
  },
  {
   "cell_type": "code",
   "execution_count": null,
   "metadata": {
    "nbpresent": {
     "id": "4237d881-e15a-4a78-90cc-fb0d53b50a75"
    }
   },
   "outputs": [],
   "source": [
    "from pydriller import RepositoryMining\n",
    "REPO_DIR = '/Users/mircea/Zeeguu-Core/'\n"
   ]
  },
  {
   "cell_type": "markdown",
   "metadata": {
    "nbpresent": {
     "id": "4c7b3a79-4f7b-4008-82aa-d11960ae3954"
    }
   },
   "source": [
    "#### Every commit is modelled as \"multiple modifications\" each one involving a filename"
   ]
  },
  {
   "cell_type": "code",
   "execution_count": null,
   "metadata": {
    "nbpresent": {
     "id": "456f5805-2063-4dd4-be67-6be06714661b"
    }
   },
   "outputs": [],
   "source": [
    "for commit in RepositoryMining(REPO_DIR).traverse_commits():\n",
    "    print(\"commit\" + str(commit))\n",
    "    for m in commit.modifications:\n",
    "        print(\n",
    "            \"- Author {}\".format(commit.author.name),\n",
    "            \" modified {}\".format(m.filename),\n",
    "            \" with a change type of {}\".format(m.change_type.name),\n",
    "            \" and the complexity is {}\".format(m.complexity)\n",
    "        )\n"
   ]
  },
  {
   "cell_type": "markdown",
   "metadata": {
    "nbpresent": {
     "id": "5c4bbfbc-606b-40f6-8677-03c3b15cc951"
    }
   },
   "source": [
    "#### Let's Count the Modifications for Each File"
   ]
  },
  {
   "cell_type": "code",
   "execution_count": null,
   "metadata": {
    "nbpresent": {
     "id": "68a6eff3-44d5-45de-9d19-0724e05e0d89"
    },
    "scrolled": true
   },
   "outputs": [],
   "source": [
    "from collections import defaultdict\n",
    "\n",
    "commit_counts = defaultdict(int)\n",
    "\n",
    "for commit in RepositoryMining(REPO_DIR).traverse_commits():\n",
    "    for modification in commit.modifications:\n",
    "        try:\n",
    "            commit_counts [modification.new_path] += 1\n",
    "        except: \n",
    "            pass\n",
    "\n",
    "sorted(commit_counts.items(), key=lambda x: x[1], reverse=True)[:42]\n"
   ]
  },
  {
   "cell_type": "markdown",
   "metadata": {
    "nbpresent": {
     "id": "da0e4227-5dcc-47b7-8ec8-a6c362f08e05"
    }
   },
   "source": [
    "#### Problem: many `__init__.py` files in our system but only one in the counts!\n",
    "\n",
    "- what's the full file name? \n",
    "\n",
    "- looking at the documentation of PyDriller [1] we see that there's two:\n",
    "  - old_path\n",
    "  - new_path\n",
    "\n",
    "- why? \n",
    "- which one should we be using? \n",
    "\n",
    "[1] https://pydriller.readthedocs.io/en/latest/commit.html\n"
   ]
  },
  {
   "cell_type": "markdown",
   "metadata": {
    "nbpresent": {
     "id": "7e7644b9-328c-4b38-8a44-66623d2bd4f2"
    }
   },
   "source": [
    "#### Lesson: to track full paths  we need to also track *individual file evolution*"
   ]
  },
  {
   "cell_type": "code",
   "execution_count": null,
   "metadata": {
    "nbpresent": {
     "id": "3cb9c675-a506-42c0-91cf-000f7c053cd4"
    }
   },
   "outputs": [],
   "source": [
    "from pydriller import ModificationType\n",
    "\n",
    "commit_counts = {}\n",
    "\n",
    "for commit in RepositoryMining(REPO_DIR).traverse_commits():\n",
    "    for modification in commit.modifications:\n",
    "        \n",
    "        new_path = modification.new_path\n",
    "        old_path = modification.old_path\n",
    "        \n",
    "        try:\n",
    "\n",
    "            if modification.change_type == ModificationType.RENAME:\n",
    "                commit_counts[new_path]=commit_counts.get(old_path,0)+1\n",
    "                commit_counts.pop(old_path)\n",
    "\n",
    "            elif modification.change_type == ModificationType.DELETE:\n",
    "                commit_counts.pop(old_path, '')\n",
    "\n",
    "            elif modification.change_type == ModificationType.ADD:\n",
    "                commit_counts[new_path] = 1\n",
    "\n",
    "            else: # modification to existing file\n",
    "                    commit_counts [old_path] += 1\n",
    "        except Exception as e: \n",
    "            print(\"something went wrong with: \" + str(modification))\n",
    "            pass\n",
    "        \n",
    "sorted(commit_counts.items(), key=lambda x:x[1], reverse=True)\n"
   ]
  },
  {
   "cell_type": "markdown",
   "metadata": {
    "nbpresent": {
     "id": "5fd7c24d-1259-4d79-831b-b4555f7f6482"
    }
   },
   "source": [
    "#### Aggregating to module level\n",
    "\n"
   ]
  },
  {
   "cell_type": "code",
   "execution_count": null,
   "metadata": {
    "nbpresent": {
     "id": "9066d0e0-7ce8-4b70-8bbf-b9fc62f1e025"
    },
    "scrolled": true
   },
   "outputs": [],
   "source": [
    "from code.basic_abstraction import (\n",
    "    module_from_path, \n",
    "    top_level_module\n",
    ")\n",
    "\n",
    "module_activity = defaultdict(int)\n",
    "\n",
    "for path, count in commit_counts.items():\n",
    "    if \".py\" in str(path):\n",
    "        l2_module = top_level_module(module_from_path(path), 2)\n",
    "        module_activity[l2_module] += count\n",
    "\n",
    "sorted(module_activity.items(), key=lambda x: x[1], reverse=True)\n",
    "\n"
   ]
  },
  {
   "cell_type": "code",
   "execution_count": null,
   "metadata": {},
   "outputs": [],
   "source": [
    "most_active_modules = sorted(module_activity.items(), key=lambda x: x[1], reverse=True)\n",
    "\n",
    "top_most_active_modules= [each[0] for each in most_active_modules][:5]\n",
    "top_most_active_modules\n"
   ]
  },
  {
   "cell_type": "markdown",
   "metadata": {
    "nbpresent": {
     "id": "7e03681c-9b13-4c07-9ccf-3616093fb680"
    }
   },
   "source": [
    "#### Architectural View: Relationships Between Evolutionary Hotspots\n"
   ]
  },
  {
   "cell_type": "code",
   "execution_count": null,
   "metadata": {
    "nbpresent": {
     "id": "aab91e3c-3135-4be4-852d-c9e5a15b9132"
    }
   },
   "outputs": [],
   "source": [
    "# packages required for drawing\n",
    "import sys\n",
    "!{sys.executable} -m pip install networkx --upgrade\n",
    "!{sys.executable} -m pip install matplotlib"
   ]
  },
  {
   "cell_type": "code",
   "execution_count": null,
   "metadata": {
    "nbpresent": {
     "id": "416612c4-647a-479f-b12b-52e3c1f177f9"
    }
   },
   "outputs": [],
   "source": [
    "def system_module(m):\n",
    "    return m in top_most_active_modules\n",
    "\n",
    "def module_size(m):\n",
    "    return 30*module_activity[m]"
   ]
  },
  {
   "cell_type": "code",
   "execution_count": null,
   "metadata": {
    "nbpresent": {
     "id": "8468fb51-1c8d-490f-abe0-8dca04a6a1ed"
    }
   },
   "outputs": [],
   "source": [
    "from code.basic_abstraction import (\n",
    "    dependencies_graph, \n",
    "    draw_graph_with_weights,\n",
    "    top_level_module,\n",
    "    abstracted_to_top_level)\n",
    "\n",
    "directed = dependencies_graph(REPO_DIR)\n",
    "directedAbstracted = abstracted_to_top_level(directed, system_module)\n",
    "\n",
    "draw_graph_with_weights(directedAbstracted, module_size, (18,8))"
   ]
  },
  {
   "cell_type": "markdown",
   "metadata": {
    "nbpresent": {
     "id": "e2d057c3-f413-4ee0-bfd5-ead6fc97aa07"
    }
   },
   "source": [
    "### Stepping Back\n",
    "\n",
    "We used Git but similar for any VCS \n",
    "\n",
    "Alternative tools for VCS Analysis: \n",
    "\n",
    "- git log + Unix Command Line tools (See tutorials by Spinellis, Helge in ASE, or Tornhill)\n",
    "  \n",
    "- your IDE (e.g. integrated git blame, visual diff, etc.)\n",
    "\n",
    "- Any others...?\n",
    "\n",
    "Definition of most active can be tuned based on needs\n",
    "- could be log-weighted towards recency (discard past changes more)\n",
    "- could be used to replay the history of the system by looking at non-overlapping time windows"
   ]
  },
  {
   "cell_type": "markdown",
   "metadata": {
    "nbpresent": {
     "id": "c6351204-919a-492b-92bf-d3ce46ffdabd"
    }
   },
   "source": [
    "\n",
    "### Limitations\n",
    "\n",
    "- ignores developer styles\n",
    "  - the guy with micro-commits vs. the girl who like to commit infrequently but large chunks of code\n",
    "  \n",
    "- might detect files that `README.md`, or `LICENSE.md` changes the most\n",
    "  - can be combined with static complexity metrics [1]\n",
    "\n",
    "\n",
    "\n",
    "\n"
   ]
  },
  {
   "cell_type": "markdown",
   "metadata": {
    "nbpresent": {
     "id": "cd54bca8-9d71-47ff-9347-27d8ede6a077"
    }
   },
   "source": [
    "## 2. Dependency Extraction: Logical Coupling\n",
    "\n",
    "** Logical coupling** detects when **two sub-systems** change together **frequently**\n",
    "- The more they change together, the more likely they are dependent\n",
    "- Can capture dependencies that are not detectable by static/dynamic analysis\n",
    "  - e.g. ? \n",
    "\n",
    "\n",
    "Introduced in the context of an industrial case study [1]\n",
    "\n",
    "[1] Detection of Logical Coupling Based on Product Release History, Gall et al., ’98"
   ]
  },
  {
   "cell_type": "markdown",
   "metadata": {
    "nbpresent": {
     "id": "c7373b8c-9dd8-43e8-ae8a-1a2007201493"
    }
   },
   "source": [
    "### Logical Coupling: The Details...\n",
    "\n",
    "\n",
    "- What are sub-systems (files? folders? packages?)\n",
    "- What does it mean change together (same commit? sliding time window?)\n",
    "- The threshold for \"frequently\" (e.g. *75% of the commits min 10*, etc.)\n",
    "\n"
   ]
  },
  {
   "cell_type": "markdown",
   "metadata": {
    "nbpresent": {
     "id": "fab6bbda-2e5f-462b-8033-34fd7b6663e0"
    }
   },
   "source": [
    "### Advantages of Logical Coupling\n",
    "\n",
    "Language Independent\n",
    "\n",
    "Complements some Structural / Dynamic Analysis disadvantages: \n",
    "- can not capture all the situations (i.e. writing to a file, reading from a file)\n",
    "- does not work with documents that are not source code (e.g. XML files)\n"
   ]
  },
  {
   "cell_type": "markdown",
   "metadata": {
    "nbpresent": {
     "id": "683b7072-907b-4314-bdd5-32fbbb7bf7f0"
    }
   },
   "source": [
    "## Evolution Analysis Beyond Architecture Recovery\n",
    "\n",
    "- improved developer tools\n",
    "  - recording and replaying software evolution (e.g. \"Replay\" for Eclipse)\n",
    "    - fine-grained (method-level) evolution monitoring (Robbes et al.)\n",
    "\n",
    "\n",
    "- software quality evaluation\n",
    "\n",
    "\n",
    "- *program comprehension* when first encountering a new system\n",
    "\n",
    "\n",
    "\n",
    "- Mining software ecosystems\n",
    "\n",
    "  - kinds of changes that are most likely to introduce bugs \n",
    "  - developer strategies in front of API deprecation\n"
   ]
  },
  {
   "cell_type": "code",
   "execution_count": null,
   "metadata": {},
   "outputs": [],
   "source": []
  }
 ],
 "metadata": {
  "anaconda-cloud": {},
  "kernelspec": {
   "display_name": "Python 3",
   "language": "python",
   "name": "python3"
  },
  "language_info": {
   "codemirror_mode": {
    "name": "ipython",
    "version": 3
   },
   "file_extension": ".py",
   "mimetype": "text/x-python",
   "name": "python",
   "nbconvert_exporter": "python",
   "pygments_lexer": "ipython3",
   "version": "3.9.2"
  },
  "nbpresent": {
   "slides": {
    "0314e5ac-7efc-4b68-8f7d-4098b01bc6a1": {
     "id": "0314e5ac-7efc-4b68-8f7d-4098b01bc6a1",
     "prev": "e69262e9-f5e6-4858-831c-7e78b477b4ba",
     "regions": {
      "241a0f6e-9029-4dd8-a4b0-09454a1653b5": {
       "attrs": {
        "height": 0.8,
        "width": 0.8,
        "x": 0.1,
        "y": 0.1
       },
       "content": {
        "cell": "aab91e3c-3135-4be4-852d-c9e5a15b9132",
        "part": "whole"
       },
       "id": "241a0f6e-9029-4dd8-a4b0-09454a1653b5"
      }
     }
    },
    "0fe3d38a-c6af-40d6-b138-5b3150020cdf": {
     "id": "0fe3d38a-c6af-40d6-b138-5b3150020cdf",
     "prev": "f58aa281-fed7-48f8-8935-8f19c5172d54",
     "regions": {
      "7bb20789-5c77-449e-8fbe-9f34595ef0c7": {
       "attrs": {
        "height": 0.8,
        "width": 0.8,
        "x": 0.1,
        "y": 0.1
       },
       "content": {
        "cell": "9066d0e0-7ce8-4b70-8bbf-b9fc62f1e025",
        "part": "whole"
       },
       "id": "7bb20789-5c77-449e-8fbe-9f34595ef0c7"
      }
     }
    },
    "13c79bf0-540c-4936-a3da-41d8b240e73d": {
     "id": "13c79bf0-540c-4936-a3da-41d8b240e73d",
     "prev": "af0b6fe3-c970-4453-96ca-3b965d18ac30",
     "regions": {
      "e717e3e4-21b5-469e-94e3-e4b3dfcf5ef4": {
       "attrs": {
        "height": 0.8,
        "width": 0.8,
        "x": 0.1,
        "y": 0.1
       },
       "content": {
        "cell": "e2d057c3-f413-4ee0-bfd5-ead6fc97aa07",
        "part": "whole"
       },
       "id": "e717e3e4-21b5-469e-94e3-e4b3dfcf5ef4"
      }
     }
    },
    "25df3bb6-96a7-4602-8327-6b68af05b483": {
     "id": "25df3bb6-96a7-4602-8327-6b68af05b483",
     "prev": "5caa0494-0cf3-48f4-88af-2f3e6f1b7224",
     "regions": {
      "0370e9df-5ebb-4b98-97de-5f21a4e7e2a2": {
       "attrs": {
        "height": 0.8,
        "width": 0.8,
        "x": 0.1,
        "y": 0.1
       },
       "content": {
        "cell": "4944bb3a-903c-4721-bac6-795d5b7e3b7c",
        "part": "whole"
       },
       "id": "0370e9df-5ebb-4b98-97de-5f21a4e7e2a2"
      }
     }
    },
    "3265e690-878c-4674-9c6e-cfa178eac1c5": {
     "id": "3265e690-878c-4674-9c6e-cfa178eac1c5",
     "prev": "a858d4e9-db33-49c7-92a6-054a8bc5fb0a",
     "regions": {
      "1411b767-6296-4c26-ae11-4b01f2c2ba38": {
       "attrs": {
        "height": 0.8,
        "width": 0.8,
        "x": 0.1,
        "y": 0.1
       },
       "content": {
        "cell": "3cb9c675-a506-42c0-91cf-000f7c053cd4",
        "part": "whole"
       },
       "id": "1411b767-6296-4c26-ae11-4b01f2c2ba38"
      }
     }
    },
    "421cb2a4-1bb2-4960-8db4-a86e4a904623": {
     "id": "421cb2a4-1bb2-4960-8db4-a86e4a904623",
     "prev": "7093bb74-3ee0-4404-9c5a-083dc8dd7181",
     "regions": {
      "07016b2b-efd9-46a2-a229-3ad38248ee5a": {
       "attrs": {
        "height": 0.8,
        "width": 0.8,
        "x": 0.1,
        "y": 0.1
       },
       "content": {
        "cell": "4237d881-e15a-4a78-90cc-fb0d53b50a75",
        "part": "whole"
       },
       "id": "07016b2b-efd9-46a2-a229-3ad38248ee5a"
      }
     }
    },
    "430d7b40-b5a5-46f9-8739-feb4d64399d9": {
     "id": "430d7b40-b5a5-46f9-8739-feb4d64399d9",
     "prev": "25df3bb6-96a7-4602-8327-6b68af05b483",
     "regions": {
      "dbacb05c-89de-4927-a0f2-89d48093988c": {
       "attrs": {
        "height": 0.8,
        "width": 0.8,
        "x": 0.1,
        "y": 0.1
       },
       "content": {
        "cell": "5a6a9800-95fb-4064-920f-10113e8a1a47",
        "part": "whole"
       },
       "id": "dbacb05c-89de-4927-a0f2-89d48093988c"
      }
     }
    },
    "4bbaaa1d-7b15-4fc7-92b0-0c43b7ad8a10": {
     "id": "4bbaaa1d-7b15-4fc7-92b0-0c43b7ad8a10",
     "prev": "e4601428-b286-4985-8280-71452e52f375",
     "regions": {
      "aca3ef3e-3cf8-4e8c-912a-6c4346779d17": {
       "attrs": {
        "height": 0.8,
        "width": 0.8,
        "x": 0.1,
        "y": 0.1
       },
       "content": {
        "cell": "7e385b35-5e4b-471c-93b3-f3c1f70ce93b",
        "part": "whole"
       },
       "id": "aca3ef3e-3cf8-4e8c-912a-6c4346779d17"
      }
     }
    },
    "4bce0a56-715a-4df0-a5f5-27f1cf969054": {
     "id": "4bce0a56-715a-4df0-a5f5-27f1cf969054",
     "prev": "a1782b46-2409-4f6a-87f4-f6a07a68f3e5",
     "regions": {
      "7dca4a66-de39-45a4-bacc-6c3351d9e1c7": {
       "attrs": {
        "height": 0.8,
        "width": 0.8,
        "x": 0.1,
        "y": 0.1
       },
       "content": {
        "cell": "fab6bbda-2e5f-462b-8033-34fd7b6663e0",
        "part": "whole"
       },
       "id": "7dca4a66-de39-45a4-bacc-6c3351d9e1c7"
      }
     }
    },
    "52b06513-9a8c-45e0-b42b-ef85ce7a0966": {
     "id": "52b06513-9a8c-45e0-b42b-ef85ce7a0966",
     "prev": "e51b6cf5-336f-4956-b200-e1100a5f3a3e",
     "regions": {
      "c4ebf8d2-b978-4bff-ab4d-53ff245660fb": {
       "attrs": {
        "height": 0.8,
        "width": 0.8,
        "x": 0.1,
        "y": 0.1
       },
       "content": {
        "cell": "5c4bbfbc-606b-40f6-8677-03c3b15cc951",
        "part": "whole"
       },
       "id": "c4ebf8d2-b978-4bff-ab4d-53ff245660fb"
      }
     }
    },
    "5caa0494-0cf3-48f4-88af-2f3e6f1b7224": {
     "id": "5caa0494-0cf3-48f4-88af-2f3e6f1b7224",
     "prev": null,
     "regions": {
      "7346d499-9aa4-4106-9e86-7bc64bf88a9f": {
       "attrs": {
        "height": 0.8,
        "width": 0.8,
        "x": 0.1,
        "y": 0.1
       },
       "content": {
        "cell": "8c50a051-6d7c-4d10-bb17-efc7a156ecb9",
        "part": "whole"
       },
       "id": "7346d499-9aa4-4106-9e86-7bc64bf88a9f"
      }
     }
    },
    "66fc90ec-5fc6-4470-8305-5c3ffa0907c2": {
     "id": "66fc90ec-5fc6-4470-8305-5c3ffa0907c2",
     "prev": "98282c2a-8829-4ce5-9f9c-04c634af0749",
     "regions": {
      "0b27b197-96cf-45ec-86d5-55c23e018018": {
       "attrs": {
        "height": 0.8,
        "width": 0.8,
        "x": 0.1,
        "y": 0.1
       },
       "content": {
        "cell": "da0e4227-5dcc-47b7-8ec8-a6c362f08e05",
        "part": "whole"
       },
       "id": "0b27b197-96cf-45ec-86d5-55c23e018018"
      }
     }
    },
    "6db1cc45-0a91-41eb-974f-e23a68ce052b": {
     "id": "6db1cc45-0a91-41eb-974f-e23a68ce052b",
     "prev": "4bce0a56-715a-4df0-a5f5-27f1cf969054",
     "regions": {
      "7b20487c-229b-48a0-aa51-9dd7f49dccb8": {
       "attrs": {
        "height": 0.8,
        "width": 0.8,
        "x": 0.1,
        "y": 0.1
       },
       "content": {
        "cell": "683b7072-907b-4314-bdd5-32fbbb7bf7f0",
        "part": "whole"
       },
       "id": "7b20487c-229b-48a0-aa51-9dd7f49dccb8"
      }
     }
    },
    "7093bb74-3ee0-4404-9c5a-083dc8dd7181": {
     "id": "7093bb74-3ee0-4404-9c5a-083dc8dd7181",
     "prev": "7e3d7393-dfcc-482b-b38d-77bf082418e1",
     "regions": {
      "d93fd7f0-28b3-4846-95ec-b693f60e1833": {
       "attrs": {
        "height": 0.8,
        "width": 0.8,
        "x": 0.1,
        "y": 0.1
       },
       "content": {
        "cell": "4bbbe069-0391-493b-b5d0-a4308fafb7cb",
        "part": "whole"
       },
       "id": "d93fd7f0-28b3-4846-95ec-b693f60e1833"
      }
     }
    },
    "7e3d7393-dfcc-482b-b38d-77bf082418e1": {
     "id": "7e3d7393-dfcc-482b-b38d-77bf082418e1",
     "prev": "e0d9a5bd-4899-4a35-89b0-62b94819b68a",
     "regions": {
      "564adf44-6cbd-41a8-9133-3bf0d2281d51": {
       "attrs": {
        "height": 0.8,
        "width": 0.8,
        "x": 0.1,
        "y": 0.1
       },
       "content": {
        "cell": "9c2194a2-d87c-4722-a5d7-834125441a9d",
        "part": "whole"
       },
       "id": "564adf44-6cbd-41a8-9133-3bf0d2281d51"
      }
     }
    },
    "98282c2a-8829-4ce5-9f9c-04c634af0749": {
     "id": "98282c2a-8829-4ce5-9f9c-04c634af0749",
     "prev": "52b06513-9a8c-45e0-b42b-ef85ce7a0966",
     "regions": {
      "060dfe71-5731-4fe1-9ed4-9a3f37366795": {
       "attrs": {
        "height": 0.8,
        "width": 0.8,
        "x": 0.1,
        "y": 0.1
       },
       "content": {
        "cell": "68a6eff3-44d5-45de-9d19-0724e05e0d89",
        "part": "whole"
       },
       "id": "060dfe71-5731-4fe1-9ed4-9a3f37366795"
      }
     }
    },
    "a1782b46-2409-4f6a-87f4-f6a07a68f3e5": {
     "id": "a1782b46-2409-4f6a-87f4-f6a07a68f3e5",
     "prev": "ad012e31-dff3-4b5e-aad8-c87af96b00f8",
     "regions": {
      "45de9eb8-5d05-497e-998c-f63c3dd97212": {
       "attrs": {
        "height": 0.8,
        "width": 0.8,
        "x": 0.1,
        "y": 0.1
       },
       "content": {
        "cell": "c7373b8c-9dd8-43e8-ae8a-1a2007201493",
        "part": "whole"
       },
       "id": "45de9eb8-5d05-497e-998c-f63c3dd97212"
      }
     }
    },
    "a858d4e9-db33-49c7-92a6-054a8bc5fb0a": {
     "id": "a858d4e9-db33-49c7-92a6-054a8bc5fb0a",
     "prev": "66fc90ec-5fc6-4470-8305-5c3ffa0907c2",
     "regions": {
      "5a06b5cd-b107-496a-a2a1-1d159caba098": {
       "attrs": {
        "height": 0.8,
        "width": 0.8,
        "x": 0.1,
        "y": 0.1
       },
       "content": {
        "cell": "7e7644b9-328c-4b38-8a44-66623d2bd4f2",
        "part": "whole"
       },
       "id": "5a06b5cd-b107-496a-a2a1-1d159caba098"
      }
     }
    },
    "ad012e31-dff3-4b5e-aad8-c87af96b00f8": {
     "id": "ad012e31-dff3-4b5e-aad8-c87af96b00f8",
     "prev": "e249c01c-56a3-4e7e-a21e-25231f99c7bc",
     "regions": {
      "5e0bd593-65ed-47cd-b01c-fcbbdd9132d8": {
       "attrs": {
        "height": 0.8,
        "width": 0.8,
        "x": 0.1,
        "y": 0.1
       },
       "content": {
        "cell": "cd54bca8-9d71-47ff-9347-27d8ede6a077",
        "part": "whole"
       },
       "id": "5e0bd593-65ed-47cd-b01c-fcbbdd9132d8"
      }
     }
    },
    "af0b6fe3-c970-4453-96ca-3b965d18ac30": {
     "id": "af0b6fe3-c970-4453-96ca-3b965d18ac30",
     "prev": "d73472f0-758c-41c7-bd5d-3a1e9c09ae62",
     "regions": {
      "7d8404df-f501-43ff-ac2f-40d6b8d6b447": {
       "attrs": {
        "height": 0.8,
        "width": 0.8,
        "x": 0.1,
        "y": 0.1
       },
       "content": {
        "cell": "8468fb51-1c8d-490f-abe0-8dca04a6a1ed",
        "part": "whole"
       },
       "id": "7d8404df-f501-43ff-ac2f-40d6b8d6b447"
      }
     }
    },
    "b1f6de8c-642e-4f47-9c32-7f1f2373cfa9": {
     "id": "b1f6de8c-642e-4f47-9c32-7f1f2373cfa9",
     "prev": "421cb2a4-1bb2-4960-8db4-a86e4a904623",
     "regions": {
      "4ad60c43-874a-4df8-8160-95c150be193d": {
       "attrs": {
        "height": 0.8,
        "width": 0.8,
        "x": 0.1,
        "y": 0.1
       },
       "content": {
        "cell": "4c7b3a79-4f7b-4008-82aa-d11960ae3954",
        "part": "whole"
       },
       "id": "4ad60c43-874a-4df8-8160-95c150be193d"
      }
     }
    },
    "b5854584-5fff-4478-9118-3b1f2bf65af4": {
     "id": "b5854584-5fff-4478-9118-3b1f2bf65af4",
     "prev": "e36d8558-43ad-4e2e-b3fa-2a38ce04222d",
     "regions": {
      "1cbfbcb4-8a92-4324-90d1-ee1c59c23d57": {
       "attrs": {
        "height": 0.8,
        "width": 0.8,
        "x": 0.1,
        "y": 0.1
       },
       "content": {
        "cell": "53428030-9541-4515-9c8a-ce09ad19ac91",
        "part": "whole"
       },
       "id": "1cbfbcb4-8a92-4324-90d1-ee1c59c23d57"
      }
     }
    },
    "b646fab6-348d-454e-b4fe-1cf0b5b2e567": {
     "id": "b646fab6-348d-454e-b4fe-1cf0b5b2e567",
     "prev": "b1f6de8c-642e-4f47-9c32-7f1f2373cfa9",
     "regions": {
      "cee6f3d3-461f-4681-b937-2e4081eba904": {
       "attrs": {
        "height": 0.8,
        "width": 0.8,
        "x": 0.1,
        "y": 0.1
       },
       "content": {
        "cell": "456f5805-2063-4dd4-be67-6be06714661b",
        "part": "whole"
       },
       "id": "cee6f3d3-461f-4681-b937-2e4081eba904"
      }
     }
    },
    "d0cb04b6-ec0c-4763-9c0b-db54f85d5821": {
     "id": "d0cb04b6-ec0c-4763-9c0b-db54f85d5821",
     "prev": "4bbaaa1d-7b15-4fc7-92b0-0c43b7ad8a10",
     "regions": {
      "01e54dd9-7534-40df-9892-1c370baed55a": {
       "attrs": {
        "height": 0.8,
        "width": 0.8,
        "x": 0.1,
        "y": 0.1
       },
       "content": {
        "cell": "37d0c66e-79fc-4990-a00d-7ae039bcf27b",
        "part": "whole"
       },
       "id": "01e54dd9-7534-40df-9892-1c370baed55a"
      }
     }
    },
    "d73472f0-758c-41c7-bd5d-3a1e9c09ae62": {
     "id": "d73472f0-758c-41c7-bd5d-3a1e9c09ae62",
     "prev": "0314e5ac-7efc-4b68-8f7d-4098b01bc6a1",
     "regions": {
      "08506707-8883-4def-af9b-2db3fb92f9d4": {
       "attrs": {
        "height": 0.8,
        "width": 0.8,
        "x": 0.1,
        "y": 0.1
       },
       "content": {
        "cell": "416612c4-647a-479f-b12b-52e3c1f177f9",
        "part": "whole"
       },
       "id": "08506707-8883-4def-af9b-2db3fb92f9d4"
      }
     }
    },
    "e0d9a5bd-4899-4a35-89b0-62b94819b68a": {
     "id": "e0d9a5bd-4899-4a35-89b0-62b94819b68a",
     "prev": "b5854584-5fff-4478-9118-3b1f2bf65af4",
     "regions": {
      "e5875b90-b7c2-4267-8fde-16adde192a3d": {
       "attrs": {
        "height": 0.8,
        "width": 0.8,
        "x": 0.1,
        "y": 0.1
       },
       "content": {
        "cell": "4a400665-5577-4369-8c6f-55fd7d1de59b",
        "part": "whole"
       },
       "id": "e5875b90-b7c2-4267-8fde-16adde192a3d"
      }
     }
    },
    "e249c01c-56a3-4e7e-a21e-25231f99c7bc": {
     "id": "e249c01c-56a3-4e7e-a21e-25231f99c7bc",
     "prev": "13c79bf0-540c-4936-a3da-41d8b240e73d",
     "regions": {
      "3ccba04a-b286-457f-9810-a83ca73f9cf8": {
       "attrs": {
        "height": 0.8,
        "width": 0.8,
        "x": 0.1,
        "y": 0.1
       },
       "content": {
        "cell": "c6351204-919a-492b-92bf-d3ce46ffdabd",
        "part": "whole"
       },
       "id": "3ccba04a-b286-457f-9810-a83ca73f9cf8"
      }
     }
    },
    "e36d8558-43ad-4e2e-b3fa-2a38ce04222d": {
     "id": "e36d8558-43ad-4e2e-b3fa-2a38ce04222d",
     "prev": "d0cb04b6-ec0c-4763-9c0b-db54f85d5821",
     "regions": {
      "9e95eeb0-a9b3-4de2-bcb4-9d66027c51dc": {
       "attrs": {
        "height": 0.8,
        "width": 0.8,
        "x": 0.1,
        "y": 0.1
       },
       "content": {
        "cell": "e6126c62-0dea-4610-92ed-ecedc4ec585a",
        "part": "whole"
       },
       "id": "9e95eeb0-a9b3-4de2-bcb4-9d66027c51dc"
      }
     }
    },
    "e4601428-b286-4985-8280-71452e52f375": {
     "id": "e4601428-b286-4985-8280-71452e52f375",
     "prev": "430d7b40-b5a5-46f9-8739-feb4d64399d9",
     "regions": {
      "4c881574-10c0-4bae-b8b3-b51fe5b772b7": {
       "attrs": {
        "height": 0.8,
        "width": 0.8,
        "x": 0.1,
        "y": 0.1
       },
       "content": {
        "cell": "9534f040-ad62-4108-8de7-280a29e4d8c3",
        "part": "whole"
       },
       "id": "4c881574-10c0-4bae-b8b3-b51fe5b772b7"
      }
     }
    },
    "e51b6cf5-336f-4956-b200-e1100a5f3a3e": {
     "id": "e51b6cf5-336f-4956-b200-e1100a5f3a3e",
     "prev": "b646fab6-348d-454e-b4fe-1cf0b5b2e567",
     "regions": {
      "625b3545-428d-4215-9cc8-4d30fdbcb847": {
       "attrs": {
        "height": 0.8,
        "width": 0.8,
        "x": 0.1,
        "y": 0.1
       },
       "content": {
        "cell": "a6cad510-98f7-4b93-9b84-74ee3ef9a7c9",
        "part": "whole"
       },
       "id": "625b3545-428d-4215-9cc8-4d30fdbcb847"
      }
     }
    },
    "e69262e9-f5e6-4858-831c-7e78b477b4ba": {
     "id": "e69262e9-f5e6-4858-831c-7e78b477b4ba",
     "prev": "0fe3d38a-c6af-40d6-b138-5b3150020cdf",
     "regions": {
      "5bda526f-cdf3-4e6c-8201-c8000fbc5e4d": {
       "attrs": {
        "height": 0.8,
        "width": 0.8,
        "x": 0.1,
        "y": 0.1
       },
       "content": {
        "cell": "7e03681c-9b13-4c07-9ccf-3616093fb680",
        "part": "whole"
       },
       "id": "5bda526f-cdf3-4e6c-8201-c8000fbc5e4d"
      }
     }
    },
    "f58aa281-fed7-48f8-8935-8f19c5172d54": {
     "id": "f58aa281-fed7-48f8-8935-8f19c5172d54",
     "prev": "3265e690-878c-4674-9c6e-cfa178eac1c5",
     "regions": {
      "75765238-fc1b-4dc6-ad76-af863fb1e8aa": {
       "attrs": {
        "height": 0.8,
        "width": 0.8,
        "x": 0.1,
        "y": 0.1
       },
       "content": {
        "cell": "5fd7c24d-1259-4d79-831b-b4555f7f6482",
        "part": "whole"
       },
       "id": "75765238-fc1b-4dc6-ad76-af863fb1e8aa"
      }
     }
    }
   },
   "themes": {}
  }
 },
 "nbformat": 4,
 "nbformat_minor": 1
}
